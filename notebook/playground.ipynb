{
 "cells": [
  {
   "cell_type": "code",
   "execution_count": 1,
   "id": "44ee71a4",
   "metadata": {},
   "outputs": [],
   "source": [
    "from dotenv import load_dotenv\n",
    "load_dotenv(dotenv_path=\"../.env\", override=True)\n",
    "\n",
    "import sys\n",
    "sys.path.append('../')"
   ]
  },
  {
   "cell_type": "markdown",
   "id": "d3b5c11a",
   "metadata": {},
   "source": [
    "### ingest\n"
   ]
  },
  {
   "cell_type": "code",
   "execution_count": 2,
   "id": "ed085f0a",
   "metadata": {},
   "outputs": [],
   "source": [
    "from src.ingest import ingest\n",
    "ingest(thesis_path=\"../data/BACHELOR_Andreas.pdf\")"
   ]
  },
  {
   "cell_type": "markdown",
   "id": "2b86e246",
   "metadata": {},
   "source": [
    "### examiner"
   ]
  },
  {
   "cell_type": "code",
   "execution_count": 1,
   "id": "96d8e461",
   "metadata": {},
   "outputs": [
    {
     "ename": "ModuleNotFoundError",
     "evalue": "No module named 'src'",
     "output_type": "error",
     "traceback": [
      "\u001b[31m---------------------------------------------------------------------------\u001b[39m",
      "\u001b[31mModuleNotFoundError\u001b[39m                       Traceback (most recent call last)",
      "\u001b[36mCell\u001b[39m\u001b[36m \u001b[39m\u001b[32mIn[1]\u001b[39m\u001b[32m, line 2\u001b[39m\n\u001b[32m      1\u001b[39m \u001b[38;5;28;01mfrom\u001b[39;00m\u001b[38;5;250m \u001b[39m\u001b[34;01mlangchain_openai\u001b[39;00m\u001b[38;5;250m \u001b[39m\u001b[38;5;28;01mimport\u001b[39;00m ChatOpenAI\n\u001b[32m----> \u001b[39m\u001b[32m2\u001b[39m \u001b[38;5;28;01mfrom\u001b[39;00m\u001b[38;5;250m \u001b[39m\u001b[34;01msrc\u001b[39;00m\u001b[34;01m.\u001b[39;00m\u001b[34;01mprompts\u001b[39;00m\u001b[38;5;250m \u001b[39m\u001b[38;5;28;01mimport\u001b[39;00m persona_prompt_with_input\n\u001b[32m      3\u001b[39m \u001b[38;5;28;01mfrom\u001b[39;00m\u001b[38;5;250m \u001b[39m\u001b[34;01mrich\u001b[39;00m\u001b[34;01m.\u001b[39;00m\u001b[34;01mpretty\u001b[39;00m\u001b[38;5;250m \u001b[39m\u001b[38;5;28;01mimport\u001b[39;00m pprint\n\u001b[32m      5\u001b[39m pprint(persona_prompt_with_input)\n",
      "\u001b[31mModuleNotFoundError\u001b[39m: No module named 'src'"
     ]
    }
   ],
   "source": [
    "from langchain_openai import ChatOpenAI\n",
    "from src.prompts import persona_prompt_with_input\n",
    "from rich.pretty import pprint\n",
    "\n",
    "pprint(persona_prompt_with_input)"
   ]
  },
  {
   "cell_type": "code",
   "execution_count": null,
   "id": "504356a9",
   "metadata": {},
   "outputs": [
    {
     "name": "stdout",
     "output_type": "stream",
     "text": [
      "The autoreload extension is already loaded. To reload it, use:\n",
      "  %reload_ext autoreload\n"
     ]
    },
    {
     "data": {
      "text/html": [
       "<pre style=\"white-space:pre;overflow-x:auto;line-height:normal;font-family:Menlo,'DejaVu Sans Mono',consolas,'Courier New',monospace\"><span style=\"color: #800080; text-decoration-color: #800080; font-weight: bold\">ChatPromptValue</span><span style=\"font-weight: bold\">(</span>\n",
       "<span style=\"color: #7fbf7f; text-decoration-color: #7fbf7f\">│   </span><span style=\"color: #808000; text-decoration-color: #808000\">messages</span>=<span style=\"font-weight: bold\">[</span>\n",
       "<span style=\"color: #7fbf7f; text-decoration-color: #7fbf7f\">│   │   </span><span style=\"color: #800080; text-decoration-color: #800080; font-weight: bold\">SystemMessage</span><span style=\"font-weight: bold\">(</span>\n",
       "<span style=\"color: #7fbf7f; text-decoration-color: #7fbf7f\">│   │   │   </span><span style=\"color: #808000; text-decoration-color: #808000\">content</span>=<span style=\"color: #008000; text-decoration-color: #008000\">'You are tasked with creating a virtual persona based on the information provided by the user about their examiner.\\n\\nPlease follow these steps:\\n\\n1. Review the user_input, which may include details about the examiner\\'s education, work experience, skills, and personal interests.\\n2. Create a detailed virtual persona that captures the examiner\\'s traits, including:\\n   - Name\\n   - Age\\n   - Professional background\\n   - Personal interests\\n   - Communication style\\n3. If human_feedback and previous_version are both provided, use the human feedback to improve the previous version of the persona.\\n4. Write the persona in English.\\n\\n&lt;example&gt;\\nUser input: \"Dr. Jane Smith, PhD in Psychology, 10 years of experience in clinical practice, passionate about mental health advocacy, enjoys hiking and painting.\"\\nGenerated persona: \\n- Name: Dr. Jane Smith\\n- Age: 45\\n- Professional background: Clinical Psychologist focused on mental health advocacy\\n- Personal interests: Hiking, painting\\n- Communication style: Empathetic and supportive, often shares personal stories to connect with others.\\n\\nMake sure the persona is engaging and relatable, and feel free to add unique traits that enhance the character.\\n\\nBelow is the information you need to follow the guidelines:\\n&lt;user_input&gt;\\n\\nuffe just pedersen\\n\\nErfaren CFO med bred erfaring indenfor økonomifunktionen; udvikling af bl.a. performance management, økonomiske processer og budgetterings- og planlægningsmodeller samt sikring af korrekt og rettidig rapportering af både regnskabstal og nøgletal.\\n\\nOpbygning og udvikling af økonomifunktioner i forskellige virksomhedstyper både nationalt og internationalt. International erfaring fra Polen, Spanien, USA, Finland, Irland og Sverige.\\n\\nGode resultater med implementering og optimering af administrative IT-systemer.\\n\\nLedelsesansvar for op til 25 medarbejdere.\\n\\nMaster degree in management and accounting\\n\\n&lt;user_input/&gt;\\n\\n&lt;human_feedback&gt;\\n\\n&lt;human_feedback/&gt;\\n\\n&lt;previous_version&gt;\\n\\n&lt;previous_version/&gt;'</span>,\n",
       "<span style=\"color: #7fbf7f; text-decoration-color: #7fbf7f\">│   │   │   </span><span style=\"color: #808000; text-decoration-color: #808000\">additional_kwargs</span>=<span style=\"font-weight: bold\">{}</span>,\n",
       "<span style=\"color: #7fbf7f; text-decoration-color: #7fbf7f\">│   │   │   </span><span style=\"color: #808000; text-decoration-color: #808000\">response_metadata</span>=<span style=\"font-weight: bold\">{}</span>\n",
       "<span style=\"color: #7fbf7f; text-decoration-color: #7fbf7f\">│   │   </span><span style=\"font-weight: bold\">)</span>\n",
       "<span style=\"color: #7fbf7f; text-decoration-color: #7fbf7f\">│   </span><span style=\"font-weight: bold\">]</span>\n",
       "<span style=\"font-weight: bold\">)</span>\n",
       "</pre>\n"
      ],
      "text/plain": [
       "\u001b[1;35mChatPromptValue\u001b[0m\u001b[1m(\u001b[0m\n",
       "\u001b[2;32m│   \u001b[0m\u001b[33mmessages\u001b[0m=\u001b[1m[\u001b[0m\n",
       "\u001b[2;32m│   │   \u001b[0m\u001b[1;35mSystemMessage\u001b[0m\u001b[1m(\u001b[0m\n",
       "\u001b[2;32m│   │   │   \u001b[0m\u001b[33mcontent\u001b[0m=\u001b[32m'You are tasked with creating a virtual persona based on the information provided by the user about their examiner.\\n\\nPlease follow these steps:\\n\\n1. Review the user_input, which may include details about the examiner\\'s education, work experience, skills, and personal interests.\\n2. Create a detailed virtual persona that captures the examiner\\'s traits, including:\\n   - Name\\n   - Age\\n   - Professional background\\n   - Personal interests\\n   - Communication style\\n3. If human_feedback and previous_version are both provided, use the human feedback to improve the previous version of the persona.\\n4. Write the persona in English.\\n\\n\u001b[0m\u001b[32m<\u001b[0m\u001b[32mexample\u001b[0m\u001b[32m>\\nUser input: \"Dr. Jane Smith, PhD in Psychology, 10 years of experience in clinical practice, passionate about mental health advocacy, enjoys hiking and painting.\"\\nGenerated persona: \\n- Name: Dr. Jane Smith\\n- Age: 45\\n- Professional background: Clinical Psychologist focused on mental health advocacy\\n- Personal interests: Hiking, painting\\n- Communication style: Empathetic and supportive, often shares personal stories to connect with others.\\n\\nMake sure the persona is engaging and relatable, and feel free to add unique traits that enhance the character.\\n\\nBelow is the information you need to follow the guidelines:\\n<user_input>\\n\\nuffe just pedersen\\n\\nErfaren CFO med bred erfaring indenfor økonomifunktionen; udvikling af bl.a. performance management, økonomiske processer og budgetterings- og planlægningsmodeller samt sikring af korrekt og rettidig rapportering af både regnskabstal og nøgletal.\\n\\nOpbygning og udvikling af økonomifunktioner i forskellige virksomhedstyper både nationalt og internationalt. International erfaring fra Polen, Spanien, USA, Finland, Irland og Sverige.\\n\\nGode resultater med implementering og optimering af administrative IT-systemer.\\n\\nLedelsesansvar for op til 25 medarbejdere.\\n\\nMaster degree in management and accounting\\n\\n<user_input/>\\n\\n<human_feedback>\\n\\n<human_feedback/>\\n\\n<previous_version>\\n\\n<previous_version/\u001b[0m\u001b[32m>\u001b[0m\u001b[32m'\u001b[0m,\n",
       "\u001b[2;32m│   │   │   \u001b[0m\u001b[33madditional_kwargs\u001b[0m=\u001b[1m{\u001b[0m\u001b[1m}\u001b[0m,\n",
       "\u001b[2;32m│   │   │   \u001b[0m\u001b[33mresponse_metadata\u001b[0m=\u001b[1m{\u001b[0m\u001b[1m}\u001b[0m\n",
       "\u001b[2;32m│   │   \u001b[0m\u001b[1m)\u001b[0m\n",
       "\u001b[2;32m│   \u001b[0m\u001b[1m]\u001b[0m\n",
       "\u001b[1m)\u001b[0m\n"
      ]
     },
     "metadata": {},
     "output_type": "display_data"
    }
   ],
   "source": [
    "%load_ext autoreload\n",
    "%autoreload 2\n",
    "from src.utils import format_messages\n",
    "\n",
    "user_input = \"\"\"\n",
    "uffe just pedersen\n",
    "\n",
    "Erfaren CFO med bred erfaring indenfor økonomifunktionen; udvikling af bl.a. performance management, økonomiske processer og budgetterings- og planlægningsmodeller samt sikring af korrekt og rettidig rapportering af både regnskabstal og nøgletal.\n",
    "\n",
    "Opbygning og udvikling af økonomifunktioner i forskellige virksomhedstyper både nationalt og internationalt. International erfaring fra Polen, Spanien, USA, Finland, Irland og Sverige.\n",
    "\n",
    "Gode resultater med implementering og optimering af administrative IT-systemer.\n",
    "\n",
    "Ledelsesansvar for op til 25 medarbejdere.\n",
    "\n",
    "Master degree in management and accounting\n",
    "\"\"\"\n",
    "\n",
    "language = \"English\"\n",
    "\n",
    "prompt = persona_prompt_with_input.invoke({\n",
    "  \"language\": language, \n",
    "  \"user_input\": user_input, \n",
    "  \"human_feedback\": \"\",\n",
    "  \"previous_version\": \"\",\n",
    "  })\n",
    "pprint(prompt)"
   ]
  },
  {
   "cell_type": "code",
   "execution_count": null,
   "id": "c1758da8",
   "metadata": {},
   "outputs": [
    {
     "name": "stdout",
     "output_type": "stream",
     "text": [
      "{'name': 'Uffe Just Pedersen', 'age': 50, 'professional': \"Experienced CFO with extensive expertise in financial functions, including performance management, financial processes, and budgeting and planning models. Proven track record in ensuring accurate and timely reporting of financial statements and key figures. Skilled in building and developing finance functions across various types of companies both nationally and internationally, with international experience in Poland, Spain, USA, Finland, Ireland, and Sweden. Holds a Master's degree in management and accounting.\", 'personal': 'Enjoys exploring new cultures through travel, has a passion for cooking, and is an avid reader of both fiction and non-fiction. Also interested in technology and its impact on business efficiency.', 'communication': 'Direct and analytical, Uffe communicates with clarity and precision. He values open dialogue and encourages team input, often using real-world examples to illustrate complex financial concepts.'}\n"
     ]
    }
   ],
   "source": [
    "model = ChatOpenAI(model_name=\"gpt-4o-mini\", temperature=0.2)\n",
    "chain = persona_prompt_with_input | model\n",
    "response = chain.invoke({\n",
    "  \"language\": language, \n",
    "  \"user_input\": user_input, \n",
    "  \"human_feedback\": \"\",\n",
    "  \"previous_version\": \"\",\n",
    "  })\n",
    "print(response)"
   ]
  },
  {
   "cell_type": "markdown",
   "id": "aa3e80b9",
   "metadata": {},
   "source": [
    "### loader"
   ]
  },
  {
   "cell_type": "code",
   "execution_count": 34,
   "id": "1285d1b6",
   "metadata": {},
   "outputs": [],
   "source": [
    "from langchain_pymupdf4llm import PyMuPDF4LLMLoader\n",
    "\n",
    "thesis_path = \"../data/BACHELOR_Andreas.pdf\"\n",
    "loader = PyMuPDF4LLMLoader(file_path=thesis_path, mode=\"single\")\n",
    "docs = loader.load()\n",
    "doc = docs[0]"
   ]
  },
  {
   "cell_type": "code",
   "execution_count": 48,
   "id": "83f05a0a",
   "metadata": {},
   "outputs": [
    {
     "data": {
      "text/plain": [
       "92498"
      ]
     },
     "execution_count": 48,
     "metadata": {},
     "output_type": "execute_result"
    }
   ],
   "source": [
    "len(doc.page_content)"
   ]
  },
  {
   "cell_type": "code",
   "execution_count": 51,
   "id": "ee67fd58",
   "metadata": {},
   "outputs": [],
   "source": [
    "doc.metadata[\"collection_name\"] = \"data/BACHELOR_Andreas.pdf\""
   ]
  },
  {
   "cell_type": "code",
   "execution_count": 52,
   "id": "7589ea1d",
   "metadata": {},
   "outputs": [
    {
     "data": {
      "text/plain": [
       "{'producer': '',\n",
       " 'creator': 'Microsoft Word',\n",
       " 'creationdate': '2025-08-11T09:18:24+00:00',\n",
       " 'source': '../data/BACHELOR_Andreas.pdf',\n",
       " 'file_path': '../data/BACHELOR_Andreas.pdf',\n",
       " 'total_pages': 30,\n",
       " 'format': 'PDF 1.7',\n",
       " 'title': '',\n",
       " 'author': 'Microsoft Office-bruger',\n",
       " 'subject': '',\n",
       " 'keywords': '',\n",
       " 'moddate': '2025-08-11T09:18:24+00:00',\n",
       " 'trapped': '',\n",
       " 'modDate': \"D:20250811091824+00'00'\",\n",
       " 'creationDate': \"D:20250811091824+00'00'\",\n",
       " 'collection_name': 'data/BACHELOR_Andreas.pdf'}"
      ]
     },
     "execution_count": 52,
     "metadata": {},
     "output_type": "execute_result"
    }
   ],
   "source": [
    "doc.metadata"
   ]
  },
  {
   "cell_type": "code",
   "execution_count": null,
   "id": "69785cf9",
   "metadata": {},
   "outputs": [],
   "source": [
    "from rich.console import Console\n",
    "from rich.markdown import Markdown\n",
    "\n",
    "console = Console()\n",
    "md = Markdown(doc.page_content)\n",
    "console.print(md)"
   ]
  },
  {
   "cell_type": "code",
   "execution_count": null,
   "id": "c4772eff",
   "metadata": {},
   "outputs": [
    {
     "data": {
      "text/plain": [
       "25"
      ]
     },
     "execution_count": 26,
     "metadata": {},
     "output_type": "execute_result"
    }
   ],
   "source": [
    "from langchain_text_splitters import MarkdownHeaderTextSplitter\n",
    "\n",
    "headers_to_split_on = [\n",
    "    (\"#\", \"Header 1\"),\n",
    "    (\"##\", \"Header 2\"),\n",
    "    (\"###\", \"Header 3\"),\n",
    "]\n",
    "\n",
    "markdown_document = doc.page_content\n",
    "\n",
    "markdown_splitter = MarkdownHeaderTextSplitter(headers_to_split_on, strip_headers=False)\n",
    "md_header_splits = markdown_splitter.split_text(markdown_document)\n",
    "len(md_header_splits)"
   ]
  },
  {
   "cell_type": "code",
   "execution_count": 28,
   "id": "89bbbc0e",
   "metadata": {},
   "outputs": [
    {
     "data": {
      "text/html": [
       "<pre style=\"white-space:pre;overflow-x:auto;line-height:normal;font-family:Menlo,'DejaVu Sans Mono',consolas,'Courier New',monospace\">\n",
       "                                           <span style=\"font-weight: bold; text-decoration: underline\">Kapitel 4: Integreret analyse</span>                                           \n",
       "\n",
       "I denne del integreres de juridiske og økonomiske perspektiver for at vurdere, hvilken virksomhedsform der samlet  \n",
       "set er mest fordelagtig for Mikkel under forskellige omstændigheder. Valget er ikke entydigt. Det afhænger af en   \n",
       "afvejning mellem juridiske og økonomiske aspekter, som i Mikkels case er tæt forbundne. Juridiske faktorer (som    \n",
       "hæftelsesform, ejerskabsstruktur og formelle krav) påvirker direkte de økonomiske konsekvenser (risikofordeling,   \n",
       "skattebetaling, finansieringsmuligheder og omkostninger), og omvendt bør Mikkels økonomiske mål og risikoprofil    \n",
       "styre, hvilken juridisk ramme, der bedst understøtter hans virksomhed. Nedenfor analyseres samspillet, og der      \n",
       "træffes en samlet vurdering ved hjælp af scenarier og beslutningskriterier fra både juridisk og økonomisk teori.   \n",
       "</pre>\n"
      ],
      "text/plain": [
       "\n",
       "                                           \u001b[1;4mKapitel 4: Integreret analyse\u001b[0m                                           \n",
       "\n",
       "I denne del integreres de juridiske og økonomiske perspektiver for at vurdere, hvilken virksomhedsform der samlet  \n",
       "set er mest fordelagtig for Mikkel under forskellige omstændigheder. Valget er ikke entydigt. Det afhænger af en   \n",
       "afvejning mellem juridiske og økonomiske aspekter, som i Mikkels case er tæt forbundne. Juridiske faktorer (som    \n",
       "hæftelsesform, ejerskabsstruktur og formelle krav) påvirker direkte de økonomiske konsekvenser (risikofordeling,   \n",
       "skattebetaling, finansieringsmuligheder og omkostninger), og omvendt bør Mikkels økonomiske mål og risikoprofil    \n",
       "styre, hvilken juridisk ramme, der bedst understøtter hans virksomhed. Nedenfor analyseres samspillet, og der      \n",
       "træffes en samlet vurdering ved hjælp af scenarier og beslutningskriterier fra både juridisk og økonomisk teori.   \n"
      ]
     },
     "metadata": {},
     "output_type": "display_data"
    }
   ],
   "source": [
    "console = Console()\n",
    "md = Markdown(md_header_splits[19].page_content)\n",
    "console.print(md)"
   ]
  },
  {
   "cell_type": "code",
   "execution_count": 33,
   "id": "015e8dad",
   "metadata": {},
   "outputs": [
    {
     "data": {
      "text/plain": [
       "Document(metadata={'producer': '', 'creator': 'Microsoft Word', 'creationdate': '2025-08-11T09:18:24+00:00', 'source': '../data/BACHELOR_Andreas.pdf', 'file_path': '../data/BACHELOR_Andreas.pdf', 'total_pages': 30, 'format': 'PDF 1.7', 'title': '', 'author': 'Microsoft Office-bruger', 'subject': '', 'keywords': '', 'moddate': '2025-08-11T09:18:24+00:00', 'trapped': '', 'modDate': \"D:20250811091824+00'00'\", 'creationDate': \"D:20250811091824+00'00'\"}, page_content='# **Valg af selskabsform – en tværfaglig analyse**\\n\\nLavet af Andreas la Cour Asboe\\n\\n\\nStudienummer: 161120\\n\\n\\nVejledere: Anders Larsen og Uffe Just Pedersen\\n\\n\\nHA(jur.) CBS\\nBachelorprojekt på 6. semester 2025\\n\\n\\nAntal anslag inkl. mellemrum: 90.150\\n\\nantal sider: 30\\n\\n\\nAfleveret 11/08/2025\\n\\n\\n\\n1\\n\\n\\n\\n-----\\n\\n## **_Resume_**\\n\\n_This thesis examines how a new business can choose between operating as a sole proprietorship (EMV) or a_\\n\\n\\n_private limited company (ApS). The main research question is how an entrepreneur can determine the most_\\n\\n\\n_suitable legal form of their business depending on their specific situation._\\n\\n\\n_The aim is to create a practical framework for decision-making that considers liability, taxation, financing,_\\n\\n\\n_capital requirements, and administrative obligations, along with the owner’s growth plans and tolerance for_\\n\\n\\n_risk._\\n\\n\\n_The study draws on Danish company law, tax law, and accounting rules, as well as economic concepts such_\\n\\n\\n_as cost–benefit analysis, capital structure, and risk assessment. A case study of “Mikkel,” a 24-year-old_\\n\\n\\n_entrepreneur, is used to illustrate the issues in a concrete way._\\n\\n\\n_The methodology combines three approaches: a legal analysis to clarify the rules, an economic analysis with_\\n\\n\\n_calculations and scenario, and an integrated law-and-economics perspective to form recommendations._\\n\\n\\n_The conclusion is that there is no single best choice. An EMV can be advantageous in the early, low-risk_\\n\\n\\n_stages due to its simplicity and the ability to offset losses against personal income. An ApS is more suitable_\\n\\n\\n_for growth-oriented businesses, offering limited liability, better access to investment, and potential tax_\\n\\n\\n_advantages._\\n\\n\\n_The thesis recommends reassessing the chosen form as the business develops, particularly if profits_\\n\\n\\n_approach the top tax threshold, external financing becomes necessary, or the company’s risk profile_\\n\\n\\n_changes. The choice of legal form shouldn’t be final. It’s a decision that can and should change as the_\\n\\n\\n_business grows, the market shifts, and the rules evolve._\\n\\n\\n2\\n\\n\\n\\n-----\\n\\nIndholdsfortegnelse\\n\\n\\n**Kapitel 1: Indledning** **3**\\n_Problemformulering_ _4_\\n_Analyseniveau og case_ _5_\\n_Afgrænsning_ _5_\\n\\n_Metode_ _6_\\n\\nJuridisk metode 6\\n\\nØkonomisk metode 6\\nIntegreret metode 6\\n_Opbygning_ _7_\\n\\n\\n**Kapitel 2: Juridisk analyse** **8**\\n_Hæftelse (ansvarsforpligtelser)_ _8_\\n_Ledelse og organisation_ _9_\\n_Ejerskab, beslutningskompetence og overdragelighed_ _10_\\n_Stiftelseskrav og formalia_ _12_\\n\\n\\n**Kapitel 3: Økonomisk analyse** **14**\\n_Skatteforhold_ _14_\\n_Kapitalkrav_ _17_\\n_Risikoprofil_ _18_\\n_Finansieringsstruktur_ _19_\\n_Afkastforventninger og værdiskabelse_ _21_\\n\\n\\n**Kapitel 4: Integreret analyse** **23**\\n_Samspil mellem juridiske og økonomiske hensyn_ _23_\\n_Scenarioanalyse og anbefaling_ _24_\\n\\n\\n**Kapitel 5: Konklusion** **27**\\n\\n\\n**Litteraturliste:** **29**\\n\\n\\n**Lov- og doms register:** **30**\\n\\n## **Kapitel 1: Indledning**\\n\\n\\nIværksætteri spiller en vigtig rolle i dansk økonomi og erhvervsliv, og hvert år stiftes mange nye\\ndanske virksomheder. Valget af virksomhedsform er et af de første og mest afgørende valg, som en\\nnystiftet virksomhed skal tage, da det påvirker, hvordan virksomheden bl.a. drives, beskattes og\\nfinansieres, samt hvilket ansvar ejeren kan/skal påtage sig.\\n\\n\\n3\\n\\n\\n\\n-----\\n\\nMange nystartede virksomheder sætter sig ikke ordentligt ind i, hvilken virksomhedsform der\\noptimal for deres specifikke situation og ambitioner. [1] Dette kan føre til, at valget bliver forholdsvist\\ntilfældigt, og bunder i hvad der lige er praktisk for iværksætteren på det gældende tidspunkt. Dette\\nkan vise sig at være en potentiel hæmsko for selskabets fremtidige vækstmuligheder, og på den\\nmåde kan det holde virksomheden tilbage fra at nå sit fulde potentiale.\\n\\n\\nEnkeltmandsvirksomhed (EMV) er den mest udbredte form blandt nystartede virksomheder. I 2023\\nvar 37% af nye virksomheder enkeltmandsvirksomheder, mens 29 % blev stiftet som\\nanpartsselskaber og kun 1 % som aktieselskaber. [2] At enkeltmandsvirksomheder er så populære kan\\ntænkes bl.a. at hænge sammen med at de, i modsætning til kapitalselskaber, er forholdsvis simple at\\nstarte og drive fra et logistisk standpunkt. Der er ikke krav om indskud af startkapital og\\nvirksomheden er mindre kompleks at etablere og drive (ingen krav om at udpege en bestyrelse eller\\ndirektion, eller om at indsende årsrapport). Omvendt medfører en personlig virksomhed, at ejeren\\nhæfter ubegrænset og direkte for alle virksomhedens forpligtelser, hvilket indebærer en betydelig\\npersonlig risiko (fx kan virksomhedskreditorer søge dækning i ejerens private aktiver som hus eller\\nbil) [3] .\\n\\n\\nDet “rigtige” valg af virksomhedsform afhænger af en integreret vurdering af både juridiske og\\nøkonomiske forhold. Iværksætteren bør overveje sin personlige risikovillighed, kapitalbehovet ved\\nopstart, virksomhedens forventede væksttempo, skattemæssige implikationer samt de administrative\\nressourcer, der kræves for at opfylde lovgivningens krav. Alle disse elementer spiller sammen og\\nskal ses i helhed.\\n\\nHerudover er det vigtigt at erkende, at den optimale virksomhedsform kan ændre sig over\\nvirksomhedens livscyklus. Det er ikke en endegyldig beslutning. En løsning, der er hensigtsmæssig\\nved etableringen, er ikke nødvendigvis den mest fordelagtige på længere sigt. Eksempelvis kan en\\nenkeltmandsvirksomhed være passende i opstarten, men senere blive uhensigtsmæssig af hensyn til\\nskat eller hæftelse, hvis virksomheden vokser kraftigt. Derfor må en vækstorienteret iværksætter\\nogså have blik for at omdannelse til en anden virksomhedsform kan være relevant.\\n\\n### **Problemformulering**\\n\\n\\nPå baggrund af ovenstående indledning fokuserer projektet på følgende overordnede spørgsmål:\\n\\n\\n**Hvordan kan en nystartet virksomhed identificere og vælge den mest hensigtsmæssige**\\n**virksomhedsform for sin specifikke situation på baggrund af en samlet juridisk og økonomisk**\\n**analyse?**\\n\\n\\nFor at besvare dette hovedspørgsmål behandles tre delspørgsmål, der afspejler projektets\\ntværfaglige struktur:\\n\\n\\n1. **Juridisk del:** Hvilke centrale juridiske rammer danner, henholdsvis virksomhedsformerne\\n\\nenkeltmands virksomhed(EMV) og et kapitalselskab (ApS) for en nystartet virksomhed, og\\nhvordan påvirker dette den retlige position og ansvar for ejeren ift. hæftelse, ledelse og\\n\\n\\n1 Madsen - 2013 - Side 89 -Valg af virksomhedsform i et livscyklus perspektiv – tilgået april 2025\\n2 EIFO - 2023 - side 3 - Iværksætteråret 2023 - tilgået april 2025.\\n3 Redmark - 2024 - Valg af virksomhedsform: hvilken virksomhed skal du eje - tilgået april 2025.\\n\\n\\n4\\n\\n\\n\\n-----\\n\\norganisation, ejerskab, overdragelighed, stiftelseskrav, formalia og hvilke overvejelser\\nlægger dette op til for ejeren?\\n2. **Økonomisk del:** Hvilke økonomiske konsekvenser og overvejelser gør sig gældende ved\\n\\nvalget mellem enkeltmandsvirksomhed og ApS, herunder indflydelsen på skatteforhold,\\nkapitalkrav, risikoprofil, finansieringsstruktur, afkastforventninger og værdiskabelse.\\n3. **Integreret del:** Hvordan kan de juridiske og økonomiske aspekter vægtes og integreres i en\\n\\nsamlet vurdering, så der kan anbefales den optimale virksomhedsform i forskellige\\nscenarier?\\n\\n### **Analyseniveau og case**\\n\\n\\nProjektets analyseniveau er primært mikroorienteret (fokuseret på virksomheds- og ejerniveau frem\\nfor makroniveau) og retsdogmatisk med udgangspunkt i iværksætteren Mikkels konkrete valg af\\nvirksomhedsform. Casen om \"Mikkel\" er tænkt som en repræsentativ, illustrativ fortælling, der\\nbelyser problemfeltet: Mikkel er en ung 24-årig iværksætter, som gerne vil starte en virksomhed,\\nmen er i tvivl om hvilken virksomhedsform der passer bedst til hans situation. Casen benyttes\\ngennem projektet til at konkretisere analysen. De juridiske og økonomiske forskelle mellem\\nvirksomhedsformerne illustreres ved, hvad de vil betyde for Mikkel i praksis. Analysen er\\ntilrettelagt som en praksisnær rådgivning med Mikkel som omdrejningspunkt, således at\\nresultaterne direkte kan omsættes til hans beslutning. Mikkel-casen tjener således til at levendegøre\\nproblemfeltet.\\n\\n### **Afgrænsning**\\n\\n\\nProjektet afgrænses til at omhandle de væsentligste juridiske og økonomiske aspekter ved\\nenkeltmandsvirksomhed kontra ApS i konteksten af en nystartet virksomhed. Fokus er på de\\ngenerelle regler i selskabslovgivningen og relevant relateret lovgivning samt de almindelige skatteog driftsøkonomiske forhold, der gør sig gældende. Specialiserede emner og detaljer uden for\\nprojektets kerneområde vil ikke blive behandlet i dybden:\\n\\n\\n  **Øvrige virksomhedsformer:** Andre virksomhedsformer end de to primære vil som nævnt\\nkun blive berørt overfladisk. Aktieselskaber nævnes eksempelvis kun kort, da de kun udgør\\n1% af nystartede virksomheder og har krævende stiftelseskrav hvilket derfor, som\\nudgangspunkt, ikke er særlig relevant for den gængse nystartede virksomhed. Ligeledes\\nbehandles personselskaber som f.eks. interessentskab (I/S) eller kommanditselskaber heller\\nikke udførligt, da disse repræsenterer en mere nicheorienteret andel af\\nvirksomhedspopulationen i Danmark. Formålet med opgaven er at fungere som en guideline\\nfor den gængse nystartede iværksætter. [4]\\n\\n\\nDisse afgrænsninger skal sikre, at analysen forbliver fokuseret på de mest relevante parametre for\\nproblemformuleringen og Mikkels situation, uden at drukne i perifere detaljer. Opgaven skal være\\nrelevant for en bred skarre af nystartede virksomheder, og derfor er der taget et bevidst valg om\\nikke at sprede fokus for meget.\\n\\n\\n4 EIFO - 2023 - side 2 - Iværksætteråret 2023 - tilgået april 2025.\\n\\n\\n5\\n\\n\\n\\n-----\\n\\n### **Metode**\\n\\nFor at besvare problemformuleringen anvender projektet en kombination af juridisk, økonomisk og\\nintegreret (tværfaglig) metode. De respektive fremgangsmåder for analysens dele uddybes\\nnedenfor.\\n\\n#### **Juridisk metode**\\n\\n\\nDen juridiske analyse baserer sig på den retsdogmatiske metode. Dette indebærer, at projektet\\nidentificerer og fortolker gældende ret ved hjælp af autoritative retskilder. Med andre ord foretages\\nen klassisk juridisk gennemgang af relevante love og praksis for at klarlægge de regler, der\\nregulerer henholdsvis enkeltmandsvirksomheder og anpartsselskaber i Danmark. Analysen følger\\nden juridiske metode ved først at fastslå det gældende regelsæt (de lege lata) og dernæst anvende\\nreglerne på casen for at belyse Mikkels retsstilling under de forskellige alternativer. Projektet\\nanlægger overvejende en deskriptiv og analyserende tilgang til retten. Der gives ikke konkrete\\nforslag til lovændringer (de lege ferenda), da fokus er at undersøge den eksisterende rets rammer og\\nkonsekvenser for iværksætteren.\\n\\n#### **Økonomisk metode**\\n\\n\\nDen økonomiske del fokuserer på at redgøre og analysere på de mere kvantitative faktorer, som\\nproblemstillingen fremsætter. Her tages afsæt i generelle virksomhedsøkonomiske og\\nsamfundsøkonomiske principper. Først inddrages relevante kvantitative data, nøgletal og gældende\\nregler for at belyse de økonomiske forskelle mellem virksomhedsformerne. Dette omfatter fx\\ntypiske omkostninger forbundet med at stifte og drive et ApS (stiftelsesgebyrer, eventuelle\\nrevisionsomkostninger, krav om indskudt kapital, m.m.) sammenholdt med en\\nenkeltmandsvirksomheds mere enkle omkostningsstruktur. Også skattemæssige forskelle redegøres\\nfor og analyseres kvantitativt på et overordnet plan. Dette konkretiseres ved at opstille eksempler på\\nMikkels disponible indkomst under de forskellige beskatningsformer. Dernæst anlægges et\\nfinansierings- og investeringsperspektiv. Denne forskel vurderes, f.eks. gennem en diskussion af\\nMikkels muligheder for at rejse kapital til vækst under hver virksomhedsform.\\n\\n\\nØkonomisk teori bringes ind, hvor det er relevant for at fortolke fundene. Eksempelvis bruges\\nprincipper fra cost-benefit-analyse implicit ved at veje de økonomiske fordele (fx formuebeskyttelse\\nog potentielt lavere skattesats på opsparet overskud) mod ulemperne (fx binding af kapital og\\nadministrative omkostninger) ved et ApS. Samlet set har den økonomiske metode til formål at\\nkvantificere og vurdere, hvordan valg af virksomhedsform påvirker virksomhedens indtjening,\\nrisiko og vækstmuligheder på kort og lang sigt. For at belyse risikoaspektet inddrages også\\nscenarievurderinger (f.eks. et worst-case hvor virksomheden må lukke), så det illustreres, hvordan\\nMikkels økonomi påvirkes forskelligt i de to scenarier.\\n\\n#### **Integreret metode**\\n\\n\\nI projektets tværfaglige del sammenholdes resultaterne fra den juridiske og den økonomiske analyse\\nfor at nå frem til en helhedsorienteret konklusion. Denne integrerede metode hviler på en\\nretsøkonomisk tilgang, hvor jura og økonomi kombineres for at analysere problemstillingen.\\nKonkret vurderes det, hvordan de juridiske rammer påvirker de økonomiske incitamenter og adfærd\\n\\n\\n6\\n\\n\\n\\n-----\\n\\nfor iværksætteren, og omvendt hvordan økonomiske realiteter bør påvirke den juridiske strategi.\\nDen retsøkonomiske metode fokuserer på økonomisk efficiens og incitamentsstrukturer. I denne\\nkontekst betyder det, at den integrerede analyse ser på, hvilken virksomhedsform der samlet set\\nindebærer den mest efficiente løsning for Mikkel, dvs. minimerer de samlede omkostninger og risici\\nfor ham, samtidig med at maksimere mulighederne for værdiskabelse. Med andre ord, hvad der\\ngiver Mikkel mest nytte ud fra hans behov. Eksempelvis sammenlignes Mikkels risiko for\\nøkonomisk tab (herunder muligheden for personlig konkurs) i de to scenarier, holdt op mod de\\nøkonomiske gevinster såsom skattebesparelser eller øget investeringskapacitet. Analysen integrerer\\nkvalitative hensyn med kvantitative resultater, fx ved at diskutere, om den ekstra tryghed ved\\nbegrænset hæftelse kan retfærdiggøre den ekstra udgift til startkapital og administration. Der\\ntrækkes desuden perspektiver fra lov- og økonomiteori ind i diskussionen, hvor det er relevant: fx\\novervejes det, om begrænset hæftelse kan skabe en form for moral hazard (tilskyndelse til højere\\nrisikotagning) for Mikkel, og hvordan dette balanceres af markedsmæssige mekanismer\\n(långivere/kreditorer kan stille krav om sikkerhed, forsikringer kan tegnes osv.).\\n\\n\\nOverordnet anvendes et praktisk fokus: analysen tager udgangspunkt i Mikkels konkrete økonomi\\nog forretningsplaner, men søger samtidig at generalisere pointerne, så de gælder for iværksættere i\\ntilsvarende situationer.\\n\\n### **Opbygning**\\n\\n\\nProjektets struktur afspejler den ovenfor beskrevne fremgangsmåde.\\n\\n\\n(Kapitel 1): **Indledning** har introduceret emnet, problemformuleringen, casen, afgrænsninger og\\nmetodiske overvejelser.\\n\\n\\nKapitel 2: **Juridisk analyse**, som redegør og analyserer på de relevante juridiske regler og\\nprincipper for Mikkels valg af virksomhedsform, samt de rettigheder og risici, som Mikkel har\\nunder hver form. Kapitel 2 danner dermed det retlige grundlag, og sætter det i relation til Mikkel.\\n\\n\\nKapitel 3: **Økonomisk analyse** er en fortsættelse af kapitel 2 hvor det gældende retsgrundlag bliver\\nbelyst og dernæst holdt op imod Mikkels situation. I dette kapitel bliver de mere kvantitative regler,\\nder separerer virksomhedsformerne, belyst og diskuteret. Dette lægger op til en dybdegående\\nundersøgelse af de økonomiske overvejelser, som valget af virksomhedsform tilvejebringer.\\nKapitel 3 kvantificerer bl.a. Mikkels indkomst og beskatning under hver virksomhedsform, vurderer\\nomkostningsstrukturen og belyser konsekvenserne for hans muligheder for vækst og finansiering\\nsamt potentiel exit strategi.\\n\\n\\nKapitel 4: **Integreret analyse** samler trådene, idet konklusionerne fra de foregående kapitler\\nsammenstilles og diskuteres i en helhedsbetragtning. Her vurderes, hvad der er det bedste valg for\\nMikkel, når man ser på jura og økonomi samlet, og eventuelle trade-offs mellem de to discipliner\\nfremhæves.\\n\\n\\nKapitel 5 **: Konklusion** Her opsummeres de vigtigste resultater og det overordnede svar på\\nproblemformuleringen tydeliggøres. Derudover perspektiveres konklusionen kort i forhold til de\\nbredere implikationer for iværksættere og reguleringen på området (f.eks. hvilke indsigter der kan\\nvære relevante for fremtidige iværksættere).\\n\\n\\n7\\n\\n\\n\\n-----\\n\\n## **Kapitel 2: Juridisk analyse**\\n\\nI dette afsnit analyseres de væsentligste juridiske forskelle mellem enkeltmandsvirksomhed(EMV)\\nog anpartsselskab (ApS) med relevans for Mikkels situation. Et ApS anses som et kapitalselskab og\\ner derfor omfattet af selskabsloven(SL) jf. (SL) §1, modsat et EMV som ikke er omfattet af\\nselskabsloven. Et ApS udgør en selvstændig juridisk person adskilt fra ejeren jf. SL §1 stk. 2, mens\\nen enkeltmandsvirksomhed ikke er et selvstændigt retssubjekt. Ejerens private og\\nforretningsmæssige økonomi er derfor sammenkoblet jf. Erhvervsvirksomhedsloven (LEV) §1 stk.\\n2. Disse grundlæggende forskelle har vidtrækkende konsekvenser for virksomhedens til **hæftelse**,\\n**ledelse**, **ejerskab** og **stiftelseskrav**, som gennemgås nedenfor.\\n\\n### **Hæftelse (ansvarsforpligtelser)**\\n\\n\\nEn af de mest centrale juridiske forskelle mellem virksomhedsformerne er hæftelsen. Mikkel hæfter\\nsom ejer af en enkeltmandsvirksomhed ubegrænset og personligt for alle virksomhedens\\nforpligtelser. Det vil sige, at kreditorer kan gøre krav i Mikkels personlige formue (fx hus, bil,\\nopsparing) for at dække virksomhedens gæld, hvis virksomheden ikke kan betale. I praksis\\nindebærer det, at Mikkel risikerer at skulle realisere private aktiver eller i værste fald gå personlig\\nkonkurs, hvis forretningen mislykkes og efterlader betydelig gæld. Denne personlige hæftelse gør\\nvirksomhedstypen risikabel for ejeren, da hele den personlige formue står på spil. Et illustrativt\\neksempel. Hvis Mikkels virksomhed optager lån eller pådrager sig et erstatningskrav på 500.000\\nkr., kan hele beløbet kræves betalt af Mikkel selv i enkeltmandsregi. Der er ingen juridisk forskel\\nmellem Mikkels private økonomi og virksomhedens. Mikkel _er_ virksomheden i lovens øjne.\\n\\n\\nFor et ApS er hæftelsen derimod begrænset. I et ApS hæfter Mikkel som kapitalejer ikke personligt\\nfor selskabets gæld. Selskabet hæfter kun med den kapital der er blevet indskudt i selskabet og dets\\nøvrige aktiver. Selskabsloven fastslår udtrykkeligt, at ejere af kapitalselskaber ikke hæfter\\npersonligt for selskabets forpligtelser, men kun med deres indskud jf. SL §1, stk. 2. Mikkels risiko\\nved et ApS begrænser sig således til den kapital, han har indskudt i selskabet, samt eventuelle\\nyderligere midler, han investerer i selskabet. Hans private økonomi er som udgangspunkt beskyttet\\nmod krav fra selskabets kreditorer. Skulle Mikkels ApS eksempelvis gå konkurs med gæld på\\n500.000 kr. og kun have aktiver for 50.000 kr., må kreditorerne bære tabet af de resterende 450.000\\nkr., uden at kunne gøre regres mod Mikkels personlige formue.\\n\\n\\nDen begrænsede hæftelse giver Mikkel en større personlig tryghed, da han kan tage beslutninger,\\nuden at bekymre sig om at ruinere sin personlige økonomi fuldstændig, hvis hans projekt fejler eller\\nhan som nævnt ifalder et erstatningsansvar.\\n\\n\\nDet skal dog bemærkes, at den begrænsede hæftelse i visse tilfælde kan udhules. F.eks. kræver\\nbanker og andre långivere næsten altid personlige kautioner eller sikkerhedsstillelse fra ejeren, når\\net nystiftet ApS optager lån. [5] Det betyder, at Mikkel ofte alligevel må hæfte personligt for\\nbankgæld, selvom virksomheden drives i virksomhedsform. Overordnet set vil et ApS under\\nnormale forhold give Mikkel en betydeligt stærkere hæftelsesbegrænsning end en\\nenkeltmandsvirksomhed.\\n\\n\\n5 Møller - Jens - Kaution i erhjervslejemål - Selskabsadvokaterne - tilgået april 2025\\n\\n\\n8\\n\\n\\n\\n-----\\n\\nLovgivningens rationale afspejler denne forskel. Begrænset hæftelse blev indført for at skabe et\\ngunstigt miljø for investering og innovation. Princippet forrykker risikoen fra ejeren til kreditorerne,\\nidet kreditor må bære tab, hvis et selskab går ned, mens ejeren højst mister sin indskudte kapital.\\nTiltag som disse er lavet med blik for at fremme iværksætteri og dermed også økonomisk vækst.\\nBegrænset hæftelse tilskrives en stor del af æren for den industrielle udvikling i den vestlige\\nverden. [6] Mikkel kan således drage nytte af denne mekanisme ved at vælge ApS, idet samfundet (via\\nkreditorer) i nogen grad subsidierer risikoen ved hans iværksætterprojekt.\\n\\n\\nFra Mikkels perspektiv betyder forskellen i hæftelse, at valg af virksomhedsform påvirker hans\\npersonlige risikoprofil markant. Hvis Mikkel forventer et forretningskoncept med høj usikkerhed,\\npotentielle erstatningskrav eller behov for større kredit, taler det juridiske hæftelsesargument stærkt\\nfor at vælge ApS for at beskytte hans private formue. Omvendt, hvis projektet er af begrænset\\nomfang med lav risiko, f.eks. konsulentarbejde for en lille, kendt kundekreds, kan personlig\\nhæftelse være en acceptabel risiko, og Mikkel vil i så fald værdsætte den enkelhed, som\\nenkeltmandsformen giver. Man bør dog overveje dette valg, i takt med at en virksomhed vokser, og\\neksponeringen stiger. Har Mikkel eksempelvis flere ansatte eller indgår store kontrakter med\\nprofessionelle kunder, øger det de mulige forpligtelser betydeligt. I sådanne scenarier bliver et\\nkapitalselskab næsten en nødvendighed for at afgrænse Mikkels ansvar.\\n\\n### **Ledelse og organisation**\\n\\n\\nDer er også klare forskelle i kravene til virksomhedens ledelsesstruktur og organisering. En\\nenkeltmandsvirksomhed har ingen særskilte ledelsesorganer i juridisk forstand. Mikkel vil som\\nindehaver selv stå for den daglige ledelse og alle beslutninger. Der gælder intet krav om ledelse i\\nform af direktion, bestyrelse eller tilsyn i en enkeltmandsvirksomhed. Mikkel kan naturligvis\\nansætte medarbejdere og rådgivere til at hjælpe med driften, men juridisk set er der ikke forskel\\nmellem ejeren og den daglige ledelse i en personlig virksomhed.\\n\\n\\nFor et ApS derimod stiller selskabsloven krav om en formel ledelsesstruktur. Et ApS skal som\\nminimum have en direktion bestående af mindst én registreret direktør jf. SL §111 stk. 1. Selskabet\\nkan derudover frit vælge at have en bestyrelse eller et tilsynsråd, men dette er frivilligt for et ApS af\\nnormal størrelse medmindre vedtægterne specifikt kræver en bestyrelse. jf. SL § 111. I praksis kan\\nMikkel, hvis han stifter et ApS alene, indtage rollen som direktør. Ledelsen i ApS’et skal registreres\\nhos Erhvervsstyrelsen jf. SL §10, og selskabets vedtægter skal angive ledelsesstrukturen og\\nfordelingen af kompetencer mellem generalforsamling, direktion og evt. bestyrelse jf. SL §28.\\n\\n\\nDen formelle ledelsesstruktur medfører også visse pligter og ansvar. Som direktør i sit ApS vil\\nMikkel være omfattet af et ledelsesansvar efter selskabslovens regler og skal varetage selskabets\\ninteresser forsvarligt og loyalt. Består ApS‘ets ledelse kun af Mikkel selv, er de formelle krav mest\\naf karakter af dokumentation og overholdelse af frister, men det betyder fx, at han skal udarbejde en\\nårsrapport og underskrive den som ledelse, samt indkalde til generalforsamling (og udarbejde et\\nkort generalforsamlingsreferat) for at få årsrapporten godkendt, også selvom han er eneste\\nanpartshaver jf. SL §88. I en enkeltmandsvirksomhed er der derimod ingen lovpligtig årsrapport\\neller offentliggørelsespligt (medmindre virksomheden frivilligt vælger at følge årsregnskabslovens\\nregler) jf. Årsregnskabsloven §3. Mikkel kan føre regnskab mere privat og fleksibelt uden at\\n\\n\\n6 Halpern - Paul - 2002 - The new Palgrave dictionary of economics and law - s. 581 - tilgået juli\\n2025\\n\\n\\n9\\n\\n\\n\\n-----\\n\\nindsende det til myndighederne. Han skal naturligvis stadig overholde bogføringsloven og aflægge\\nregnskab jf. bogføringsloven §1 stk. 2 og derudover selvfølgelig rapportere selvangivelse til\\nSkattestyrelsen, men der er ikke samme niveau af formeliter som i et ApS.\\n\\n\\nFor Mikkel indebærer ledelsesforskellene, mellem de to virksomhedsformer, at et ApS kommer\\nmed en vis administrativ byrde og flere formalia. I en enkeltmandsvirksomhed kan Mikkel derimod\\nhandle helt uformelt og selv træffe alle beslutninger uden andre procedurer end dem, han selv finder\\nhensigtsmæssige. Dette giver Mikkel en vis agilitet i hans handlekraft. Omvendt kan den formelle\\nstruktur i et ApS være en fordel, hvis Mikkel på sigt vil involvere andre i ledelsen eller ønsker at\\nsignalere professionalisme og kontinuitet over for omverdenen. For eksempel kan en bestyrelse i et\\nApS tilføje kompetencer og kontrolmekanismer, som kan styrke virksomhedens drift, skalering og\\nomdømme. Dette er slet ikke muligt i en enkeltmandsvirksomhed. Under alle omstændigheder skal\\nMikkel være opmærksom på, at en overgang fra enkeltmandsvirksomhed til ApS medfører et skift\\nfra en eneejers uformelle styring til en juridisk struktur med selskabsorganer og deraf følgende\\nansvar og pligter.\\n\\n### **Ejerskab, beslutningskompetence og overdragelighed**\\n\\n\\nEnkeltmandsvirksomhedens ejerskabsforhold er de simpleste tænkelige. Der kan kun være én ejer,\\nnemlig Mikkel selv. Det er ikke muligt at optage en partner som medejer i en\\nenkeltmandsvirksomhed uden at omdanne virksomheden til en anden form. Hvis en anden person\\nskal have del i ejerskabet, må man enten stifte et interessentskab (I/S) eller indskyde virksomheden\\ni et kapitalselskab.\\n\\n\\nSom nævnt i afgræsningsafsnittet vil I/S ikke blive behandlet, hvilket skyldes, at det er en mere\\nnicheorienteret virksomhedsform. Interessenter i et I/S hæfter solidarisk og personligt for\\nvirksomhedens forpligtelser, jf. erhvervsvirksomhedsloven §2 stk. 1, hvilket skaber stor risiko for\\nhver interessent. Af denne grund bør et I/S kun overvejes, hvis man er blandt kendte\\nforretningspartnere eller har aktiviteter med generelt lavt risiko niveau, herunder bl.a. mindre\\nkonsulentvirksomheder (hvorfor det er en mere nicheorienteret virksomhedsform). Bemærk dog, at\\ni praksis er et I/S dog derfor oftest struktureret med ApS ‘er som interessenter/ejere for at undgå, at\\nden ubegrænsede hæftelse gælder for de personlige ejere af I/S’et. Man afskærmer så at sige den\\nubegrænsede hæftelse ved at indsætte et selskab med begrænset hæftelse som ”mellemholding”.\\n\\n\\nMikkel står altså alene med ejerskab og ansvar i en enmandsvirksomhed. Fordelen ved dette er, at\\nMikkel bevarer fuld kontrol og ikke behøver at tage hensyn til andre ejere. Omvendt mister han\\nmuligheden for at dele ejerskab, ansvar og kapitaltilførsel med andre. Virksomhedens identitet er\\nuløseligt knyttet til Mikkel personligt. Ophører han, ophører virksomheden juridisk set også. Hvis\\nMikkel en dag ønsker at pensionere sig selv eller træde ud, kan en enkeltmandsvirksomhed ikke\\nbare overdrages som en enhed. I praksis må han sælge sine aktiver og kundeaftaler enkeltvis eller\\nomdanne virksomheden forinden.\\n\\n\\nI et ApS er ejerskabet derimod repræsenteret ved anparter, og der kan være én eller flere ejere jf. SL\\n§5 stk. 2. Mikkel kan eje selskabet 100% selv eller invitere investorer og/eller partnere ind mod, at\\nde enten køber nogle af Mikkels anparter (betaler Mikkel herfor, hvorved Mikkels ejerandet\\nformindskes) eller nytegner anparter ved at indskyde penge direkte i ApS ‘et som kapitalforhøjelse,\\nhvorved Mikkels ejerandel udvandes til under 100%, men han beholder sine kapitalandele (hans\\nejer-procent mindskes). Ejerstrukturen kan også ændres over tid, fordi anparter i et ApS som\\n\\n\\n10\\n\\n\\n\\n-----\\n\\nudgangspunkt er frit omsættelige og kan overdrages ved salg eller gave, dog ofte begrænset af\\nforkøbsrettigheder eller andre omsætningsbegrænsninger jf. SL §48. Sådanne kan være vedtaget i\\nselskabets vedtægter eller i en ejeraftale mellem kapitalejerne. Uanset sådanne begrænsninger i\\nomsætteligheden er det dog generelt lettere at indskifte og udskifte ejerkreds eller frasælge\\nvirksomhed i et ApS. I stedet for at sælge selve den virksomhed, der drives i ApS ‘et, kan man\\nsælge anparterne til en køber. Det udløser for Mikkel (som kapitalejer) beskatning i form af\\naktieindkomstbeskatning. Hvis imidlertid Mikkel ejer sit ApS via et holdingselskab beskattes\\nholdingselskabets salg ikke, jf. herom nedenfor.\\n\\n\\nDet er som udgangspunkt nemmere at tiltrække købere eller investorer til en virksomhed i\\nselskabsform, idet de kan erhverve ejerandele uden at hæfte for mere end deres indskud. Tilliden\\nblandt forretningsforbindelser og investorer vil derfor generelt være højere til kapitalselskaber.\\n\\n\\nEn anden væsentlig forskel er virksomhedens kontinuitet og afgrænsning fra ejeren. Et ApS har sit\\neget liv som selvstændig juridisk enhed. Hvis Mikkel skulle trække sig tilbage eller når han afgår\\nved døden, kan selskabet fortsætte under nye ejere (f.eks. Mikkels arvinger eller en køber) uden at\\nkontrakter og drift ophører. I en enkeltmandsvirksomhed medfører ovenstående situation, at\\nvirksomheden juridisk set ophører, og hvis aktiviteten ønskes videreført kræver det særskilt\\novertagelse af alle aftaler og aktiver/passiver i virksomheden ofte med den konsekvens, at alle\\naftaler skal genforhandles.\\n\\n\\nDesuden kan Mikkel i et ApS vælge at indtage en passiv ejer-rolle på sigt, hvor\\ngeneralforsamlingen vælger en bestyrelse, som ansætter en direktion til at varetage den daglige\\nledelse, mens han selv blot ejer anparterne. Denne adskillelse mellem ejerskab og ledelse er\\nprincipielt mulig, fordi ApS’et er sin egen juridiske person. I en enkeltmandsvirksomhed er det ikke\\nmuligt at fraskrive sig ansvaret for den daglige drift, da ejer og leder juridisk set er samme person,\\nMikkel kan ansætte en daglig leder, men han vil stadig være den ansvarlige indehaver. Mikkel kan\\naltså justere sin involvering i virksomheden alt efter hans nuværende situation, hvorimod han i\\npersonligt ejet virksomhed selv bærer ansvaret for virksomheden uanset hvad.\\n\\n\\nI forhold til beslutningsrettigheder medfører flere ejere i et ApS, at Mikkel i givet fald må dele\\nkontrol proportionalt i forhold til ejerfordelingen. Beslutninger på generalforsamlingen træffes ved\\nsimpelt flertal af ud fra kapitalandele jf. SL §105 og 104, medmindre andet er aftalt i en ejeraftale,\\njf. herunder. Der kan også være etableret forskellige kapitalklasser, men denne yderligere vinkel\\nomfatter nærværende redegørelse ikke. Som eneaktionær i et ApS vil Mikkel dog have samme\\nbestemmende indflydelse som i en enkeltmandsvirksomhed, blot under mere formaliserede rammer.\\nHvis han derimod får medejere i ApS, må han afhængig af ejerfordelingen være indstillet på at\\nafgive en del af den absolutte beslutningskompetence.\\n\\nDet er sædvanligt, at der i et ApS med flere ejere udarbejdes en ejeraftale, der regulerer\\nsamarbejdet, kapitalejerne og ejernes indbyrdes rettigheder og pligter. Mikkel kan miste sin fulde\\nkontrol ved udstedelse af anparter i forbindelse med nytegning, hvor der investeres i selskabet. Det\\nsamme vil ske, hvis han sælger sine anparter. Alt andet lige er det op til Mikkel, hvor stor en del af\\nvirksomhedens anparter han vil sælge, eller hvor stor en kapitalforhøjelse, der skal tegnes (hvorved\\nhans ejerandel udvandes). Hvis Mikkel sørger for at bibeholde en ejerandel på over 50%, vil han\\nnormalt kunne fastholde helt eller delvis kontrol over selskabet. Det skyldes, at de fleste\\nbeslutninger, der træffes på generalforsamlingen kan træffes med simpelt flertal jf. SL § 105 og §\\n106. Dog er det vigtigt at påpege at visse beslutninger såsom vedtægtsændringer og omstrukturering\\n\\n\\n11\\n\\n\\n\\n-----\\n\\nmv. kræver 2/3 stemmeflertal jf. SL §106. Dertil kommer, at for vedtægtsændringer, hvor\\nkapitalejernes ansvar over for selskabet forøges, skal alle kapitalejere være enige om beslutningen,\\ndvs. der gælder her et enstemmighedskrav jf. SL §107 stk. 1.\\nDisse regler er vigtige for Mikkel at have for øje, når han enten sælger sine egne anparter eller der\\nvedtages en kapitalforhøjelse i selskabet (med nytegning af anparter, som udvander Mikkels\\nejerskab), så Mikkel ikke mister den bestemmende indflydelse i sit selskab, medmindre det er det,\\nsom han af forskellige årsager er nødt til at acceptere.\\n\\nHvis Mikkels virksomhed skal vækste kræves der typisk medarbejdere. Dette er både muligt at have\\ni en enkeltmandsvirksomhed og i et ApS. Det er dog ofte svært for nye, mindre virksomheder at\\ntiltrække den rigtige arbejdskraft, når de første skridt op af vækststigen skal tages. Årsagen er ikke\\nmindst lønnen. For en nystartet iværksætter kan det være svært at betale den rigtige løn til en\\nekspert, som besidder den viden og de kompetencer, virksomheden lige har brug for. Små og nye\\nvirksomheder skal typisk konkurrere med større og mere etablerede virksomheder, der som regel\\nkan tilbyde en højere løn og en mere sikker ansættelse. Her kan aktieløn være et brugtbart værktøj\\nfor et ApS. For at tiltrække de nødvendige medarbejdere kan disse få tilbudt et medejerskab og\\ndermed også en del af den fremtidige indtjening. Dette giver et yderligere incitament for\\nmedarbejderen til at yde en ekstra indsats, fordi den pågældende gennem aktieaflønning bliver\\nmedejer af virksomheden. Derudover kan denne aflønningsform også give nogle skattemæssige\\nfordele jf. nedenfor. Aktieaflønning kan ikke lade sig gøre i en enkeltmandsvirksomhed, men alene\\ni et kapitalselskab.\\n\\nAktieløn er enten direkte tildeling af kapitalandele eller retten til at købe og/eller tegne\\nkapitalandele, der tildeles en medarbejder som en del af dennes løn.\\n\\nEfter reglerne i ligningslovens (LL) § 28 og særreglen i LL § 7p bliver aktieløn ikke medregnet i\\nmedarbejderens lønindkomst. I stedet bliver beskatningen af kapitalandelene udskudt enten til det\\ntidspunkt, hvor medarbejderen udnytter sin ret til at købe/tegne kapitalandele jf. LL §28, eller hvor\\nmedarbejderen afstår sine kapitalandele jf. LL § 7p. I sidstnævnte tilfælde skal medarbejderen altså\\nikke betale skat af aktielønnens værdi, før kapitalandelene afstås og gevinsten/afkastet kendes.\\nSamtidig efter LL § 7p, vil procentsatsen for beskatning af aktielønnen være på mellem 27 og 42\\npct., afhængig af indkomstens størrelse. Efter hovedreglen i LL § 28 er aktieløn, som ikke er\\nomfattet af LL § 7p, beskattet som en lønindkomst, altså op til ca. 55 pct. og det er allerede\\nbeskattet på udnyttelsestidspunkt, selvom kapitalandelene omfattet af ordningen ikke er solgt. Der\\ner derfor en betydelig fordel ved at kunne tilbyde medarbejderne en aftale efter LL § 7p, da det for\\ndet første nedsætter beskatningen i forhold til almindelig lønbeskatning og for det andet udskyder\\nbeskatningen til kapitalandele omfattet af aktielønsordningen sælges.\\n\\nEn medarbejder i en ”iværksætter-virksomhed” kan modtage op til 50 pct. af sin løn i form af\\naktieløn. Det betyder, at op til halvdelen af lønnen kan afregnes på ganske fordelagtige vilkår, hvis\\nmedarbejderen er med på ideen om at få en stor del af lønnen ”udbetalt” som retten til efter en\\nbestemt periode (optjeningsperioden) at købe eller tegne nye kapitalandele i selskabet.\\nYderligere betingelser for aktieaflønning fremgår af LL §7p stk. 2.\\n\\n### **Stiftelseskrav og formalia**\\n\\n\\nEndelig er der væsentlige juridiske forskelle i selve stiftelsesprocessen og de formelle løbende krav\\ntil de to virksomhedsformer.\\n\\n\\n12\\n\\n\\n\\n-----\\n\\nEn enkeltmandsvirksomhed er den enkleste form at etablere. Der kræves ingen minimumskapital,\\nog Mikkel kan stifte virksomheden hurtigt ved at registrere den på Virk.dk (registrering af en\\nenkeltmandsvirksomhed foregår online via Virk.dk og er gebyrfri). Ingen formelle\\nstiftelsesdokumenter eller vedtægter er nødvendige, og registreringen sker typisk samme dag\\ndigitalt, hvorefter virksomheden eksisterer juridisk. Mikkel får tildelt et CVR-nummer\\n(virksomhedsnummer) og kan begynde at drive forretning med det samme. Denne simplicitet gør\\nenkeltmandsvirksomheden attraktiv for mange iværksættere i opstartsfasen, da tærsklen for at\\nkomme i gang er lav. [7]\\n\\n\\nFor et ApS er kravene mere omfattende. Selskabsloven stiller krav om en minimumskapital på\\n20.000 kr. ved stiftelsen jf. SL §4. Dette beløb kan Mikkel indskyde kontant, eller han kan i visse\\ntilfælde indskyde værdier (apportindskud) jf. SL §35 såsom udstyr, maskiner eller en eksisterende\\nvirksomhed, der tilsammen har en dokumenteret værdi på mindst 20.000 kr.\\n\\n\\nAt skulle binde 20.000 kr. i selskabets kapital kan være en barriere for nogle iværksættere, selvom\\nbeløbet efter lovændring i 2025 er halveret fra tidligere krav om indskud på 40.000 kr. til 20.000 kr.\\njf. regeringens 2024 iværksætterpakke. Det indskudte beløb behøver dog ikke forblive som likvid\\nbeholdning, kapitalen kan anvendes til at købe nødvendige aktiver til driften, så længe værdien\\nforbliver i selskabet.\\n\\n\\nUdover kapitalkravet skal der udfærdiges et stiftelsesdokument og vedtægter for ApS’et, som\\nunderskrives af stifterne ved stiftelsen jf. SL §25 og 26. Vedtægterne fastlægger bl.a. selskabets\\nformål, navn, kapitalfordeling, ledelsesstruktur og tegningsregel (hvem der kan disponere på\\nselskabets vegne) jf. SL §28. For at få selskabet stiftet skal Mikkel også registrere selskabet digitalt\\nhos Erhvervsstyrelsen jf. SL §40. Der er et obligatorisk registreringsgebyr på ca. 670 kr. for ApS jf.\\nErhverhvsstyrelsen.\\n\\n\\nEfter stiftelsen fortsætter forskellene i de formelle krav. Et ApS er underlagt krav om at udarbejde\\nen årsrapport efter årsregnskabslovens regler, som skal godkendes af ledelsen og den ordinære\\ngeneralforsamling og indsendes til Erhvervsstyrelsen hvert år jf. årsregnskabsloven §2.\\nÅrsrapporter bliver offentliggjort af Erhvervsstyrelsen jf. årsregnskabsloven kapitel 20. Disse krav\\nhar til formål at skabe gennemsigtighed for omverdenen og myndighederne. Det er bl.a. relevant for\\nfremtidige samarbejdspartnere, forsyningsselskaber mv., fordi de som fremtidige mulige\\nkreditorerne i et ApS har en legitim interesse i at kunne vurdere selskabets økonomiske formåen\\ninden de entrerer med selskabet. Offentliggørelse af regnskaber/årsrapporter og gennemsigtige\\nejerforhold gør det lettere for potentielle forretningsforbindelser at få det overblik over selskabets\\nøkonomi, som kan etablere en tilstrækkelig tillid til selskabet, så aftaler kan indgås. På den anden\\nside medfører det også, at Mikkels virksomhedsøkonomi ikke længere er privat og anonym. Mikkel\\nmå her vurdere, om denne transparens er en fordel for ham eller en ulempe. Hvis årsrapporten viser,\\nat virksomheden ikke er profitabel og Mikkel ikke kan overbevise investorer/långivere om\\nvirksomhedens potentiale, kan Mikkel risikere at miste muligheden for ekstern investering og lån\\nkan blive sværere at forhandle med bankerne.\\n\\n\\nEn enkeltmandsvirksomhed har som nævnt ingen pligt til at udarbejde eller indsende årsregnskab til\\nErhvervsstyrelsen. Mikkels regnskaber forbliver interne, og oplysninger om omsætning, overskud\\n\\n\\n7 Daniaregnskab - Enkeltmandsvirksomhed eller ApS - 2020 - tilgået april 2025\\n\\n\\n13\\n\\n\\n\\n-----\\n\\nm.v. er ikke offentligt tilgængelige (kun Skatteforvaltningen ser dem via selvangivelsen). Dette\\nreducerer den administrative byrde og omkostningerne betydeligt i forhold til et ApS.\\n\\n\\nDer gælder heller ingen krav om formel ejerbog eller registrering af reelle ejere for\\nenkeltmandsvirksomheder, da Mikkel per definition er eneindehaver og identifikationen af\\nvirksomheden derfor er entydig. På den løbende driftsmæssige front er en personligt ejet\\nvirksomhed således langt mere fleksibel og privat.\\n\\n\\nSammenfattende er stiftelse og drift af en enkeltmandsvirksomhed langt mere ukompliceret rent\\njuridisk. Der kræves ingen kapitalindskud, ingen formelle dokumenter udover selve registreringen,\\nog færre løbende rapporterings- og formalitetsforpligtelser.\\n\\n\\nEt ApS kræver derimod initial kapital, formel dokumentation og løbende overholdelse af en række\\nselskabsretlige regler (årsrapporter, generalforsamlinger, registreringer m.v.). Til gengæld giver\\nApS ‘et Mikkel nogle markante juridiske fordele såsom hæftelsesbegrænsning og fleksibilitet i\\nejerskab, som gennemgået ovenfor.\\n\\n\\nValget mellem enkeltmandsvirksomhed og ApS indebærer således en afvejning mellem\\nenkelhed/omkostningsminimering og på den anden side risikoafgrænsing samt vækstmuligheder.\\n\\n## **Kapitel 3: Økonomisk analyse**\\n\\n\\nI dette afsnit undersøges de økonomiske konsekvenser af Mikkels valg af virksomhedsform. Fokus\\ner på forskelle i **skatteforhold**, **kapitalkrav**, **risikoprofil**, **finansieringsstruktur** samt **forventet**\\n**afkast** under henholdsvis enkeltmandsvirksomhed og ApS. Analysen inddrager relevante\\nøkonomiske teorier for at vurderer, hvordan de juridiske forskelle fra kapitel 2 omsættes til\\nøkonomiske fordele og ulemper for Mikkel.\\n\\n### **Skatteforhold**\\n\\n\\nBeskatningen af virksomhedens overskud er som udgangspunkt markant forskellig afhængig af om\\nder er tale om enkeltmandsvirksomhed og et ApS. Herunder adresseres dog den praktiske\\nhovedregel, virksomhedsskatteordningen (”VSO”), som overordnet set udjævner\\nbeskatningsforskellen jf. Virksomhedsskatteloven. Uden brug af VSO beskattes\\nenkeltmandsvirksomhedens resultat som personlig indkomst hos ejeren jf. Personskatteloven §3.\\nDet betyder, at Mikkels overskud beskattes på samme måde som lønindkomst, dvs.\\nnettoindkomsten beskattes efter de progressive skattesatser (bund-, mellem- og topskat, jf.\\npersonskattelovens regler herom samt arbejdsmarkedsbidrag).\\n\\n\\nHar Mikkel fx en høj personlig indkomst i forvejen, vil overskuddet fra enkeltmandsvirksomheden\\ndelvist kunne blive beskattet med topskattesatsen (der i 2025 på indkomster over ca. 611.000 kr. er\\n15% oven i bund- og mellemskat) hvilket kan give en samlet skatteprocent på omkring 52-56% [8] .\\nTil gengæld betyder beskatning som personlig indkomst, at et underskud i virksomheden direkte\\nkan modregnes i Mikkels øvrige indkomst og dermed reducere hans skattebetaling samme år.\\n\\n\\n8 Skatteministeriet - Skattesatser - tilgået juni 2025\\n\\n\\n14\\n\\n\\n\\n-----\\n\\nUudnyttet underskud kan herefter fremføres ubegrænset til modregning i senere års skattepligtige\\noverskud. Derfor har en enkelmandsvirksomhed den fordel, at et opstartsunderskud kan benyttes til\\nnedbringelse af anden personlig indkomst for Mikkel, ikke kun i opstartsåret men også i senere år\\npå grund af retten til underskudsfremførsel jf. personskatteloven §13.\\n\\n\\nBeskatningen i enkeltmandsvirksomheder sker dog i praksis ofte efter virksomhedsordningen\\n(VSO), som i nogen grad kan udligne nogle af de skattemæssige forskelle mellem et ApS og en\\nEMV. VSO fungerer således, at overskud, der ikke hæves af indehaver privat, kun beskattes med 22\\n% i foreløbig skat. Først ved privat hævning, dvs. hvis Mikkel bruger indkomst fra virksomheden i\\nprivatregi, beskattes midlerne som personlig indkomst jf. virksomhedsskatteloven(VSL) §10 stk. 2.\\nVSO giver dermed mulighed for opsparing i virksomheden ligesom i et ApS. Brug af VSOordningen stiller dog krav om detaljeret regnskabsmæssig opdeling af private midler og\\nerhvervsmæssige midler jf. VSL §2 samt indbetaling af en årlig rentekorrektion jf. VSL §11 (en\\nform for finansieringsomkostning af den udskudte skat).\\n\\n\\nEMV’er kan også gøre brug af kapitalafkastordningen (KAO), som er et enklere alternativ, hvor en\\ndel af virksomhedens afkast beskattes som kapitalindkomst jf. Virksomhedsskatteloven kapitel 7\\nafsnit 2. Dette kan give en lavere beskatning (end beskatning som personlig indkomst), men\\nordningen giver ikke mulighed for opsparing af virksomhedsoverskud til lav (22%’s) skat, som\\nVSO gør jf. Virksomhedsskatteloven kapitel 7 afsnit 2. KAO er derfor mest brugbar for mindre\\nvirksomheder med begrænset behov for skatteplanlægning. Det kunne være ved begrænset\\nerhvervsmæssig udlejning.\\n\\n\\nEt ApS beskattes derimod efter selskabsskattelovens regler. Selskabet betaler 22% selskabsskat af\\nsit overskud jf. SL §1 jf. §17. Overskud efter skat kan udloddes til Mikkel som udbytte, der\\nbeskattes hos Mikkel som aktieindkomst jf. Personskatteloven §4a med op til 42%. ApS skal ved\\nudlodning af udbytte tilbageholde 27% i kildeskat. Af selskabets nettooverskud kan der alternativt\\nudbetales løn. Sådan lønindkomst er fradragsberettiget i selskabet modsat udbytte, som ikke kan\\ntrækkes fra i selskabet. Lønnen beskattes hos Mikkel som personlig indkomst, jf. ovenfor.\\n\\nEt illustrativt eksempel: Mikkels ApS har et overskud efter omkostninger men før skat på kr. 1\\nmillion. Af overskuddet betales 22 % i selskabsskat, hvorefter overskud efter skat udgør kr.\\n780.000. Vælger Mikkel at lade selskabet udlodde hele nettooverskuddet efter skat, skal selskabet\\nindeholde 27% i kildeskat. Mikkel modtager herefter kr. 569.400. Beskatning af udbyttet sker hos\\nMikkel som aktieindkomst. Beskatningen af aktieindkomst udgør 27 % af de første 67.500 kr.,\\n(2025, progressionsgrænsen) og 42 % i skat af den del af aktieindkomsten, der overstiger 67.500 kr.\\nSamlet betales kr. 18. 225 + kr. 299.250 = kr. 317.475 i aktieindkomstskat (selskabets indeholdelse\\naf kildeskat betyder, at der allerede er betalt kr. 210.600 af denne aktieindkomstskat (27% af\\n780.000). Mikkels nettoaktieindkomst udgør kr. 462.525. Mikkel bør dog – idet vi forudsætter, at\\nhan arbejder i selskabet - tillige aflønnes for dette arbejde i selskabet. Lønniveauet kan vurderes\\nkonkret, men bør, hvis der ikke er konkrete omstændigheder, der taler imod, begrænses til et niveau\\nunder topskattegrænsen på kr. 611.800 (2025). Dermed undgår Mikkel topskatten på de 15% og\\nbetaler alene mellemskat. [ 9]\\n\\n\\n9 Jensen - Per - 2024 - Løn eller udbytte, hvad kan bedst betale sig? - Blicher - tilgået juni 2025\\n\\n\\n15\\n\\n\\n\\n-----\\n\\nNormalt vil en iværksætter dog ikke udlodde hele nettooverskuddet i sin virksomhed. Mikkel må\\nderfor antages at ville lade en del af overskuddet blive i selskabet med henblik på at investere det\\nopsparede overskud, alene fratrukket 22%’s selskabsskat, i virksomhedens vækst frem for at tage\\npengene ud privat.\\n\\nI den overordnede sammenligning mellem ApS og EMV kan midler i et ApS efter 22%’s skat\\nanvendes direkte til yderligere investeringer i ApS’et, mens midler i en EMV vil blive beskattet hos\\nejeren som personlig indkomst (som løn), selvom midlerne geninvesteres i virksomheden såfremt\\nVSO ikke anvendes. VSO er som ovenfor nævnt dog den praktiske hovedregel og den ordning\\nudjævner beskatningsforskellen af opsparet overskud.\\n\\nEn væsentlig struktureringsmulighed ved kapitalselskaber er at oprette en holdingselskabsstruktur.\\nMikkel kan enten fra starten stifte et selskab, der straks efterfølgende stifter et datterselskab (med\\nbrug af samme kapitalindskud). Således er der etableret en holdingselskabsstruktur, hvor\\nholdingselskabet ejer anparterne i driftsselskabet. Holdingselskabsstruktur kan også etableres\\nefterfølgende ved at foretage en aktieombytning, jf. aktieavancebeskatningslovens §36, således at\\nMikkel som 100% kapitalejer af ApS indskyder sine kapitalandele i et nyt selskab som\\napportindskud (med skattemæssig succession og dvs. uden beskatning). Det er en forholdsvis\\nsimpel proces, som blot kræver en vurderingsberetning udarbejdet af selskabets revisor, jf. SL §36.\\nFra et datterselskab til moderselskabet (holdingselskabet) kan overskud efter skat i form af udbytte\\nudloddes skattefrit jf. Selskabsskatteloven §13 stk. 2. Med andre ord kan nettooverskud, der ikke\\nskal benyttes til videre udvikling i datterselskabet placeres i holdingselskabet (uden drift). Det har\\nogså den effekt, at midlerne vil være uden for rækkevidde af eventuelle kreditorer, hvis der senere\\nmåtte opstå krav mod driftsselskabet. På den måde fungerer holdingselskabet som en form for\\nøkonomisk “safe haven” eller opsparingsselskab, hvor Mikkel kan beskytte den opsparede kapital\\nuden at skulle udlodde det hele til sig selv med den beskatning, det ville udløse. [ 10]\\n\\nMed tanke på, at Mikkel bør have en exit strategi er en holdingselskabsstruktur tillige fordelagtig,\\nfordi et holdingselskab kan sælge kapitalandelene i driftsselskabet skattefrit (så længe\\ndriftsselskabet ikke er børsnoteret). Bruttoprovenuet ved et sådant salg kan indestå (skattefrit) i\\nholdingselskabet til reinvestering i nye foretagender eller evt. fast ejendom mv. Såfremt Mikkel\\nville eje driftsselskabet direkte personligt uden et indirekte ejerskab via et holdingselskab ville\\nsalgsprovenuet være beskattet som aktieindkomst hos Mikkel dvs. med op til 42% beskatning.\\n\\nSammenfattende er skattestrukturen i et ApS mest fordelagtigt, hvis den virksomhed, som Mikkel\\npåbegynder, giver overskud fra starten kombineret med, at Mikkel forventer hurtig værdistigning,\\nbehov for ekstern finansiering samtidig med, at virksomhedens risikoprofil nødvendiggør den\\nbegrænsede hæftelse. Muligheden for ved aktieombytning at etablere en holdingselskabsstruktur er\\ntillige gunstig for Mikkel, hvis han har planer om exit.\\n\\nOmvendt, hvis Mikkel starter op med en virksomhed med beskedne indtægter, samtidig med at han\\nhar øvrig indkomst i andet regi, kan en enkeltmandsvirksomhed give ham den skattemæssig fordel,\\nat han kan fradrage virksomhedens underskud i øvrig personlig indkomst og tillige fremføre\\n\\n\\n10 Hvarregård - Daniel - Holdingselskab, fordele og ulemper - Selskabsadvokaterne - tilgået juni\\n2025\\n\\n\\n16\\n\\n\\n\\n-----\\n\\nunderskud til modregning i senere års nettooverskud. Det kan i opstartsårene give ham en potentielt\\nlavere personlig beskatning. For at træffe det rigtige valg af selskabsform og beskatning, må Mikkel\\nderfor vurdere sin personlige økonomi og potentielt underskud i opstartsårene, samt hans\\nforventninger til fremtidig indkomst, vækstpotentiale, behov for fremmed finansiering og\\nrisikoprofil mv. samt forventningerne til en exit.\\n\\n### **Kapitalkrav**\\n\\n\\nUdover skat skal Mikkel overveje de økonomiske implikationer af kapitalkravet i de to\\nvirksomhedsformer. En enkeltmandsvirksomhed har som sagt intet lovbestemt kapitalkrav. Mikkel\\nkan starte uden en bestemt startkapital, og investere præcis det beløb, han har og behøver. Dette\\nminimerer barrieren for at komme i gang og efterlader i princippet flere frie midler til Mikkels\\nprivate disposition, da han ikke behøver at binde penge i virksomheden formelt på grund af\\nkapitalkravet. (Tidligere var muligheden at stifte et Iværksætterselskaber (IVS), hvor kapitalkravet\\nikke var mere en 1 kr. Denne selskabsform blev afskaffet som selskabsform den 9. april 2019).\\nIVS-formen blev indført for at lette adgangen til at starte virksomhed med en lav startkapital.\\n\\n\\nRegeringen vurderede dog, at IVS-formen ikke levede op til sit formål og skabte usikkerhed, især\\nfor kreditorer.\\n\\n\\nAfskaffelsen af IVS var et led i en større reform af selskabsloven, hvor man også sænkede\\nkapitalkravet for ApS\\'er jf. LOV nr. 445 af 13/04/2019\\n\\nSelvfølgelig kræver enhver virksomhed mulighed startkapital eller mulighed for finansieringskredit,\\nmen i en enkeltmandsvirksomhed kan selv et meget lille beløb eller indskudt arbejde være nok, og\\nder er ingen minimumsgrænse. På den måde kan Mikkel starte i det små, og gradvist tilføre flere\\nmidler efterhånden som behov opstår uden at skulle tilvejebringe et stort beløb på forhånd.\\nSom nævnt tidligere skal der i et ApS indskydes mindst 20.000 kr. i selskabskapital ved stiftelsen.\\nDette beløb bliver bundet på selskabets balance som egenkapital. For Mikkel betyder det, at 20.000\\nkr. af hans opsparing (eller lån) skal allokeres specifikt til selskabet fra starten. Det økonomiske\\nspørgsmål er, om dette kapitalkrav udgør en byrde eller snarere en fordel. Hvis Mikkel har svært\\nved at skaffe 20.000 kr., kan kravet udgøre en reel barriere for at vælge ApS. Han kan muligvis låne\\npengene, men her vil renteudgifterne for at låne penge fordyre Mikkels virksomhedsprojekt.\\nOmvendt, hvis Mikkel allerede har tænkt sig at investere 20.000 kr. eller større beløb i sin\\nvirksomhed, vil der være meget der taler for, at Mikkel med fordel kan påbegynde virksomhed i\\nApS form frem for at starte op EMV.\\n\\n\\nKravet om startkapital kan ses som en form for sikkerhed og commitment. Set fra omverdenens side\\nsignalerer et ApS, at ejeren har skudt penge i projektet og dermed ”har noget på spil”. Samtidig\\nudgør kapitalen en beskyttelse for kreditorer.\\n\\n\\nUanset kreditorers mulighed for at blive fyldestgjort i selskabskapitalen, vil kreditorer/långivere\\nsom nævnt i kapitel 2, i praksis, ofte kræve sikkerhed for udlån (og eller levering af varer) i ejerens\\nprivate økonomi, hvis ApS ‘et er stiftet med minimumselskabskapitalen. På den måde vil den\\nsikkerhed og commitment som virksomhed i et ApS signalerer, normalt først i praksis materialisere\\nsig, når selskabet har skabt nok kapital til, at långivere og andre kreditorer føler sig trygge ved, at\\nselskabskapitalen er tilstrækkelig som sikkerhed for at entrere med selskabet. Indtil da vil\\n\\n\\n17\\n\\n\\n\\n-----\\n\\nvirksomhed i ApS formentlig være stillet på forholdsvis lige fod med virksomhed i en EMV i\\nrelation til muligheden for at få ekstern lånefinansiering.\\n\\nFra Mikkels eget perspektiv er de 20.000 kr. i ApS-kapitalkravet heller ikke tabte midler. De kan\\nsom nævnt tidligere anvendes i driften og til at købe aktiver for. Indskudt selskabskapital kan ikke\\nudloddes til privatforbrug. Udlodning kan tidligst ske efter aflæggelse af første årsrapport og\\nforudsætter i øvrigt, at der er overskud i ApS ‘et (som udgør frie midler) jf. SL §180 stk. 2.\\nKortsigtet kan ApS-formen derfor være mindre likvid for Mikkel.\\nMikkels privatøkonomi og selskabets midler må ikke sammenblandes. Midler optjent i selskabet\\nkan alene overgå til Mikkel, hvis der træffes beslutning om udbytteudlodning eller betaling af løn.\\nDerfor bør Mikkel foretage nødvendige økonomiske beregninger, så han, efter brug af midler til\\nstiftelse af et ApS (20.000 kr .+ stiftelsesomkostninger), har tilstrækkelige midler til dækning af\\nsine egne private udgifter.\\n\\n\\nEn yderligere sikkerhed for kreditorer i et ApS er, at selskabet skal vedligeholde en forsvarlig\\negenkapital. Derfor indeholder selskabsloven regler for kapitaltab, jf. SL §4 jf. §119. Hvis\\nanpartsselskabets selskabskapital falder med mere end halvdelen, dvs. til under 10.000 kr., betragtes\\ndet som et kapitaltab, og her er der krav om, at ledelsen skal indkalde til generalforsamling senest 6\\nmåneder efter kapitaltabet er konstateret. På generalforsamlingen skal ledelsen redegøre for\\nselskabets økonomiske stilling og foreslå tiltag for at afhjælpe situationen.\\n\\n\\nMikkel skal i den situation reagere ved at tilføre ny kapital eller afvikle selskabet, hvis\\negenkapitalen bliver for lav jf. SL §4 jf. §119. I økonomiske termer tvinger det ham til en vis\\nfinansiel disciplin og foretage en løbende vurdering af virksomhedens soliditet, hvilket enten kan\\nbetragtes som en byrde eller et positivt disciplinært ”push” til at være mere organiseret. I en\\nenkeltmandsvirksomhed har Mikkel mere fleksibilitet til at lade midlertidige underskud passere.\\nHan kan fortsætte, så længe han personligt kan dække gælden, uden formelle krav om\\nrekapitalisering. Denne fleksibilitet kan være en fordel under midlertidig økonomisk modgang, men\\nden kan også medføre, at Mikkel i en EMV kommer til at fortsætte en økonomisk håbløs drift\\nlængere end økonomisk rentabelt, fordi der ikke er et formelt krav om at foretage en reetablering\\neller lukke virksomheden, hvis der opstår kapitaltab.\\n\\n\\nOpsummerende kan man sige at nettoeffekten af kapitalkravet afhænger af Mikkels finansielle\\nsituation. Har han opsparing nok, er 20.000 kr. måske en beskeden pris for de øvrige fordele ved\\nApS, og hvis han alligevel skal ud og bruge penge på driftsaktiver til mindst 20.000 kr., er\\nkapitalkravet underordnet, da selskabskapitalen kan benyttes til anskaffelse af driftsaktiver. Har han\\nderimod begrænset kapital, kunne kravet presse ham til at optage dyr gæld eller opgive ApS som\\nmulighed. I så fald kan den personlige virksomheds fravær af kapitalkrav være det, der gør det\\nøkonomisk muligt overhovedet at etablere virksomheden. Her er det altså igen vigtigt for Mikkel at\\nvurdere sin økonomiske situation, inden han tager et valg.\\n\\n### **Risikoprofil**\\n\\n\\nSom gennemgået tidligere hæfter Mikkel ubegrænset i enkeltmandsvirksomheden, hvilket betyder,\\nat hans personlige formue er på spil for virksomhedens gæld. Den finansielle risiko for Mikkel er\\n\\n\\n18\\n\\n\\n\\n-----\\n\\ndermed højere i den personlige virksomhed, idet et worst-case scenario kan medføre personlig\\nkonkurs. I et ApS er Mikkels personlige hæftelse derimod begrænset til den indskudte\\nselskabskapital (samt eventuelle personlige kautioner, jf. nedenfor). Økonomisk set svarer det til en\\nslags forsikring mod personlig konkurs. Alt andet lige vil en risikoavers person tillægge dette stor\\nværdi. Mikkel kan engagere sig i projektet uden frygt for total økonomisk ruin, hvilket bør øge hans\\nrisikovillighed og mentale råderum til at træffe mere ambitiøse beslutninger.\\n\\n\\nI praksis vil fordelene ved begrænset hæftelse dog først slå igennem, når selskabet har en så solid\\nindtjening og egenkapital, at långivere og øvrige kreditorer ikke kræver sikkerhed i kapitalejerens\\nprivate formue eller kaution mv.\\n\\n\\nLeverandører, som ikke får personlig sikkerhed fra kapitalejer, vil prissætte risikoen på andre\\nmåder. En leverandør kan eksempelvis begrænse kreditten eller kræve kontant betaling af et ApS,\\nhvor samme leverandør (af samme varer) kunne tænkes ville give længere betalingsfrist til en\\npersonligt hæftende kunde. Generelt vil omverdenen foretage en risikovurdering. Kreditgivning til\\net nystartet ApS uden øvrige aktiver end minimumskapitalen må anses som relativt risikabelt.\\nMikkels personlige økonomi indgår derimod som en sikkerhed for kreditorer i en EMV, hvilket kan\\ngive større tillid hos visse kreditorer afhængig af, hvor solid Mikkels personlige økonomi er.\\nOmvendt kan andre parter, finde tryghed i, at ApS’et har en formel struktur og kapital, der\\nsignalerer seriøsitet, frem for en personligt drevet virksomhed.\\n\\n\\nI et ApS kan den begrænsede hæftelse også påvirke Mikkels adfærd. Han kan være mere villig til at\\npåtage sig risikable projekter, fordi en del af tabet ved fiasko vil ramme kreditorerne, mens\\ngevinsten ved succes tilfalder ham selv. Med andre ord opstår der en \"moral hazard\" hvor Mikkel\\nhar incitament til at lade virksomheden påtage sig en forholdsmæssig højere risiko, fordi hans\\npersonlige risiko er lav.\\n\\n\\nI en enkeltmandsvirksomhed, hvor han selv bærer hele tabet, vil han derimod have stærkere\\nincitament til forsigtighed. Dette er også, en faktor Mikkel bør overveje. I praksis vil Mikkels reelle\\nrisikoprofil være blanding af forskellige hensyn. Hvis Mikkel ønsker finansiering, vil banker og\\neventuelle kreditorer forsøge at få ham til at påtage sig personlig risiko, men uanset dette begrænser\\nselve ApS-konstruktionen Mikkels hæftelse. Fra et privatøkonomisk synspunkt må Mikkel vurdere\\nsin egen risikotolerance. Er han villig og i stand til at satse sin personlige formue? Hvis ikke, er\\nvirksomhed i et kapitalselskab, herunder et ApS, den eneste måde at afbøde den risiko på, da\\nforsikringer kun dækker visse forhold.\\n\\n### **Finansieringsstruktur**\\n\\n\\nValget af virksomhedsform påvirker også, hvordan Mikkel kan finansiere sin virksomhed, både i\\nopstarten og senere i forløbet.\\n\\nI en enkeltmandsvirksomhed hviler finansieringen ene og alene på Mikkel selv, dvs. niveauet af\\nhans egen kapital, egen opsparing og/eller personlig låneevne. Han har ikke mulighed for at lade\\neksterne parter tegne ejerandele i virksomheden ved investering i selve virksomheden, og han kan\\nheller ikke sælge ejerandele i virksomheden til andre for at skaffe (sig selv) kapital. Hvis han ønsker\\ninvestorer/yderligere partnere, skal enkeltmandsvirksomheden omdannes til et kapitalselskab, fx\\nApS eller A/S. Dette begrænser finansieringsmulighederne for Mikkel med en virksomhed i\\npersonligt regi. Han kan som alternativ benytte banklån, eventuelt med sikkerhed i private aktiver,\\n\\n\\n19\\n\\n\\n\\n-----\\n\\neller geninvestere løbende overskud i virksomheden. Fordelen ved denne enkle struktur er, at\\nMikkel beholder fuld kontrol og undgår at dele fremtidigt afkast med andre. Ulempen er, at væksten\\nkan hæmmes af hans egen begrænsede kapitalbase og lånekapacitet.\\n\\nMed virksomhed i et ApS åbner der sig flere finansieringsveje. Mikkel kan få investorer ind som\\nmedejere ved, at der vedtages kapitaltilførsel til selskabet og udstedes nye anparter i selskabet. Hvis\\nMikkel har brug for at trække partnere ind af anden årsag, eksempelvis pga. af faglige kompetencer,\\nkan han sælge en ejerandel af ApS’et til sådan person, som bliver medejer mod betaling til Mikkel\\nselv, eller såfremt Mikkel har en holdingstruktur til Mikkels holdingselskab (hvor selve salget af\\nunoterede kapitalandele er skattefrit). Gennem investering via kapitalforhøjelse i selskabet kan\\nMikkel skaffe finansiering uden at øge selskabets gæld, og investors risiko er begrænset til den\\nindskudte kapital. Mikkels mulighed for at tiltrække partnere med finansiering og/eller med talent\\ner derfor væsentligt bedre med virksomhed i et ApS, idet Mikkel kan tilbyde medejerskab i form af\\nanparter til finansielle partnere og eller nøglepersoner med nødvendige faglige kompetencer. Det\\nkan være en forholdsvis ”low-commitment” måde at få investorer/nøglepersoner med som ejere i\\nselskabet, fordi de kun hæfter med deres kapitalindskud/erhvervede kapitalandel, og ikke med hele\\nderes personlige økonomi. Sådanne ejermæssige incitamenter betyder, at der er en attraktiv basis for\\nat professionalisere og accelerere virksomheden. Hvis Mikkel således har ambitioner om at vækste\\nsin virksomhed, bør han drive virksomhed i et kapitalselskab, da han højst sandsynligt har brug for\\nekstern finansiering i form af investeringer i selskabet for at skabe denne vækst og for at undgå\\nalene at skulle lånefinansiere denne vækst. På den anden side får det den konsekvens, at Mikkel\\nbliver udvandet i sin ejerandel for at opnå denne eksterne finansiering, men samtidig bliver værdien\\naf selskabet alt andet lige også højere, så Mikkel vil eje en mindre (udvandet) ejerandel, men af en\\nsamlet højere værdi.\\n\\nMed vedtagelsen i Folketinget af lovforslag 71 om ændring af selskabsloven, udmøntes to af\\ninitiativerne i iværksætterpakken, der blev indgået den 21. juni 2024 mellem regeringen,\\nDanmarksdemokraterne, Liberal Alliance, Det Konservative Folkeparti, Radikale Venstre og Dansk\\nFolkeparti. Loven trådte i kraft d. 1.januar 2025. Den nye lovgivning giver nu også mulighed for, at\\nApS’er kan foretage equity crowdfunding. Det har tidligere kun været muligt for aktieselskaber at\\nlave en equity-crowdfunding. Dette giver ApS’er bedre adgang til finansiering, da der åbnes op for,\\nat et ApS har adgang til på godkendte platforme at lave offentlige udbud af kapitalandele ligesom et\\nA/S kan. På denne måde kan mindre virksomheder og start ups i ApS-form nu skaffe kapital fra en\\nbredere gruppe af potentielle investorer, som alternativ eller supplement til banklån og klassiske\\nventure investorer. Samtidig giver loven adgang til, at selskaberne selv kan foretage en række\\nformer for udbud af egne anparter uden brug af en crowd funding platform, fx ved udbud, der alene\\ner rettet mod kvalificerede investorer. Selskaber, der måske ville få et afslag på lån i banken, kan\\nvia crowd funding finde investorer blandt ”almindelige” mennesker herunder egne kunder og andre\\nsmåinvestorer m.fl. Dette er altså et værktøj Mikkel kan bruge til at finansiere virksomheden, selv\\nhvis banker ikke er villige til at yde lån.\\n\\nAt et ApS i forbindelse med kapitaltilførsel i selskabet kan udstede nye kapitalandele til eksterne\\ninvestorer, enten på traditionel vis (kapitalforhøjelse på ekstraordinær generalforsamling med\\nfravigelse af fortegningsretten), eller gennem equity crowd funding, giver selskabsformen en fordel\\ni forhold til en EMV, hvor der ikke er disse ekspansionsmuligheder.\\n\\nDerudover er ApS’ets økonomi separat fra Mikkels private økonomi, hvilket kan gøre\\nlånefinansiering mindre risikabelt. ApS’et optager lån i eget navn, og hvis virksomheden bliver\\n\\n\\n20\\n\\n\\n\\n-----\\n\\nindbringende, er der formentlig mulighed for at opnå kreditter baseret på selskabets egen indtjening\\nog kapital uden krav om Mikkels personlige kaution. I starten vil banken som nævnt ofte kræve\\nkaution fra Mikkel, men efterhånden som ApS’et opnår brutto indtjening, vil kautionskrav bortfalde\\nog Mikkels personlige økonomi vil være beskyttet.\\n\\n### **Afkastforventninger og værdiskabelse**\\n\\n\\nEt afgørende spørgsmål er, hvilken virksomhedsform der giver Mikkel det højeste forventede afkast\\naf sin indsats og investerede kapital under forskellige omstændigheder. Økonomisk analyse af\\nafkast må tage højde for både skatter, omkostninger og risikopræferencer.\\n\\n\\nHvis Mikkel forventer et relativt begrænset overskud (under topskattegrænsen) og har behov for at\\ntrække hele overskuddet ud hvert år til privat forbrug, vil forskellen i nettoafkast mellem de to\\nvirksomhedsformer være begrænset. I et sådant scenarie beskattes overskuddet fra EMV og ApS\\nmed en skattesats svarende omtrent til lønindkomst /personlig indkomst hos Mikkel, uanset\\nvirksomhedsformen. Enten direkte fordi hele nettooverskuddet trækkes ud privat fra\\nenkeltmandsvirksomheden eller gennem løn eller udbytte i ApS’et. Dog skal ApS’et tjene nok til at\\nretfærdiggøre de faste omkostninger: fx udgifter til årsregnskab, eventuel revision, gebyrer m.v.\\nDisse udgifter reducerer det disponible overskud for Mikkel. I en lille virksomhed kan sådanne\\nomkostninger udgøre en betydelig del af overskuddet, så hvis Mikkel kun forventer et mindre\\nbruttooverskud (ex.vis 100.000 kr. om året) og han ønsker at udbetale hele nettooverskuddet til sig\\nselv, kan det økonomisk set ofte være mest fordelagtigt at forblive som enkeltmandsvirksomhed.\\nDog skal forretningsmodellen også være relativt uden åbenbar risiko for at virksomhed via EMV er\\nfornuftig. Risiko for at kunne blive ramt af erstatningskrav eller andre uforudsete hæftelser taler\\nimod at forblive i EMV.\\n\\nHvis Mikkel har vækstambitioner for sin virksomhed, forventninger om at tiltrække investeringer\\nog forventer overskud på sigt, vil virksomhed i ApS sandsynligvis maksimere hans nettoafkast på\\nlangt sigt. Mikkel kan enten akkumulere overskud i virksomheden til ekspansion eller geninvestere\\nnettooverskud direkte fra ApS’et (som indirekte investeringer via sit ApS) og derved undgå, at tage\\npenge ud af ApS, hvilket ville medføre, at han investerede for beskattede penge. Mikkel opnår på\\nden måde en renters rente effekt på en større kapitalbase.\\n\\nMikkel kan som alternativ vælge en exitstrategi, hvor han sælger kapitalandelene i ApS. Hvis han\\nsælger virksomheden ud af sit ApS, vil dette udløse gevinstbeskatning og beskatning af eventuelle\\ngenvundne afskrivninger, så det vil han typisk ikke ønske. Har Mikkel en exitstrategi bør han have\\netableret en holdingselskabsstruktur forinden, da hans holdingselskab kan sælge kapitalandelene i\\ndrifts(datter)selskabet uden beskatning (selskaberne er ikke børsnoterede) og netop modtage\\nsalgssummen ubeskattet på salgstidspunktet.\\n\\nI det omfang Mikkel herefter udlodder provenuet til sig selv udløses naturligvis udbyttebeskatning\\npå 27%/42%, men benyttes provenuet til investering fra Mikkels holdingselskab udløses ingen\\nyderligere beskatning.\\n\\nI et positivt vækst-scenarie kan ApS-formen skabe mere værdi for ejeren også efter skat. Hertil\\nkommer, at ApS-formen gør det muligt at tiltrække ekstern kapital og kompetencer, som kan\\nvederlægges med aktieløn, hvilket igen kan øge virksomhedens vækst og dermed afkastet. Man kan\\n\\n\\n21\\n\\n\\n\\n-----\\n\\nanskue det som, at ApS-formen skalerer bedre, og derudover er den mere risikoavers. Den\\nindebærer som nævnt nogle faste omkostninger (regnskab, administration, kapitalkrav m.m.), men\\ngiver et fundament, hvorpå virksomheden kan vokse og rejse kapital.\\n\\nEn enkeltmandsvirksomhed kan vokse til et vist punkt, men når ejeren når grænsen for, hvad\\nvedkommendes økonomi og tid rækker til, vil den videre værdiskabelse normalt kræve en\\nomdannelse til kapitalselskab. Omdannelsen til kapitalselskab kan gøres skattefrit og kræver\\noprettelse af stiftelsesdokument, vedtægter samt en omdannelsesbalance og en erklæring fra revisor\\nom at virksomheden er minimum 20.000 kr. værd, på baggrund af slutbalancen i EMVregnskabsåret. Dette er reguleret efter reglerne i Virksomhedsomdannelsesloven. Hvis der er\\nkontrakter med tredjeparter skal sådanne tredjeparter også godkende omdannelsen, da der er tale om\\ndebitorskifte jf. de grundlæggende obligations retlige principper i aftaleretten.\\n\\n\\nEt mellem-scenarie er også værd at overveje. Mikkel forventer moderat overskud og vil måske\\ninvestere i virksomheden og tage lidt ud til sig selv løbende. Her kan valget handle om finere\\nafvejninger.\\n\\n\\nApS’et giver Mikkel fleksibilitet til at vælge løn vs. udbytte og optimere skatten (således at løn\\nbegrænses til et niveau under topskattegrænsen), flere muligheder for finansiering og overdragelse\\nmen også lidt højere compliance-udgifter.\\n\\nDen personlige virksomhed giver fuld frihed uden formaliteter, men mindre skatteplanlægnings - og\\nfinansieringsmuligheder, selvom beskatningen i EMV kan udskydes efter virksomhedsordningen og\\nbegrænses til foreløbigt 22% af opsparet overskud som for et kapitalselskab. Omdannelse til ApS\\nkan overvejes, når overskuddet, som ejeren hæver i virksomheden, overstiger topskattegrænsen\\neller ejeren ønsker/har behov for at få investorer i sin virksomhed og på sigt arbejde på exit (salg af\\nvirksomheden eller børsnotering). Hvis Mikkels case fra opstartsfasen tyder på, at der vil være en\\nhurtigt voksende indtjening og Mikkel er forudser, at ekstern investering hurtigt bliver relevant, kan\\ndet betale sig at vælge ApS fra opstart eller relativt tidligt i forløbet, for at kunne imødekomme\\nbehovet for de ekspansionsmuligheder, som ApS-formen giver. Hvis Mikkels virksomhed derimod\\nforbliver et mindre skalerbart foretagende med begrænset indkomst, vil enkeltmandsvirksomheden\\nsandsynligvis give det højeste nettoprovenu for den indsats, som lægges i virksomheden.\\n\\n**Opsummering:** Økonomisk set er ApS-formen det fornuftige grundlag for at opnå et større\\npotentiale for værdiskabelse på langt sigt via begrænset hæftelse, bedre mulighed for ekspansion via\\ntiltrækning af eksterne investeringer, bedre finansieringsmuligheder og mulighed for udskydelse af\\nbeskatning via indirekte investering via selskabsstrukturen (før aktieindkomstbeskatning via\\nholdingselskabsstrukturen) samt mulighed for skatteoptimering ved fordeling af nettooverskud i løn\\nog udbytteudlodning (forudsætter dog, at det er Mikkel, der har bestemmende indflydelse).\\n\\nEnkeltmandsvirksomheden kan være mere fordelagtig i opstartsfasen med forventet underskud, og\\nhvis enkelhed og lave omkostning prioriteres, samt hvis virksomhedsordningen ønskes anvendt\\nkombineret med opsparing i virksomheden til (foreløbigt) 22%’s beskatning.\\n\\nMikkel bør overveje hvilke af beskrevne scenarier der bedst passer til hans nuværende situation og\\nambitioner.\\n\\n\\n22\\n\\n\\n\\n-----\\n\\n## **Kapitel 4: Integreret analyse**\\n\\nI denne del integreres de juridiske og økonomiske perspektiver for at vurdere, hvilken\\nvirksomhedsform der samlet set er mest fordelagtig for Mikkel under forskellige omstændigheder.\\nValget er ikke entydigt. Det afhænger af en afvejning mellem juridiske og økonomiske aspekter,\\nsom i Mikkels case er tæt forbundne. Juridiske faktorer (som hæftelsesform, ejerskabsstruktur og\\nformelle krav) påvirker direkte de økonomiske konsekvenser (risikofordeling, skattebetaling,\\nfinansieringsmuligheder og omkostninger), og omvendt bør Mikkels økonomiske mål og\\nrisikoprofil styre, hvilken juridisk ramme, der bedst understøtter hans virksomhed. Nedenfor\\nanalyseres samspillet, og der træffes en samlet vurdering ved hjælp af scenarier og\\nbeslutningskriterier fra både juridisk og økonomisk teori.\\n\\n### **Samspil mellem juridiske og økonomiske hensyn**\\n\\n\\nFlere af de identificerede forhold fra kapitel 2 og 3 er to sider af samme sag. Et tydeligt eksempel er\\nbegrænsningen af hæftelse i ApS, som juridisk skaber en skillevæg mellem Mikkels og\\nvirksomhedens økonomi. Økonomisk betyder dette, at Mikkel som udgangspunkt kan udelukke\\nrisikoen, for den personlige konkursrisiko, medmindre han har været nødsaget til at lånefinansiere\\nvi kaution mv. Det øger hans nytte ved risikoeksponerede projekter, hvis han er risikoavers, fordi et\\nnegativt udfald ikke rammer helt så hårdt. Omvendt medfører den samme hæftelsesbegrænsning, at\\nkreditorerne bærer en større del af risikoen, hvilket kan få dem til at kræve fx højere udlånsrenter\\neller sikkerheder i form af personlig kaution eller selvskyldnerkaution. Her ser man, hvordan en\\njuridisk beskyttelsesregel (begrænset hæftelse) har økonomiske konsekvenser i form af ændret\\nadfærd hos både Mikkel og hans modparter i form af långivere og investorer.\\n\\n\\nJuridisk set er ApS’et et selvstændigt skattesubjekt, som ejer opsparet overskud, hvilket alt andet\\nlige økonomisk lader virksomheden vokse med et større nettooverskud, idet overskuddet efter\\n22%’s skat, netto 78% af overskuddet kan anvendes i ApS’s til forøgelse af drift/investeringer eller\\nalternativt kan selskabet investere overskuddet efter skat i andre eksterne aktiver, virksomheder\\nog/eller etablerer datterselskaber.\\n\\nDet skal ses i forhold til, at nettooverskuddet efter skat i en EMV alene er mellem 45% og 50%, dog\\nforudsat Mikkel ikke anvender VSO ordningen, hvor Mikkel kan opspare overskud til samme\\nbeskatning som i et selskab.\\n\\nEndelig beskatning af Mikkel, hvis han udlodder overskud fra sit ApS bliver dog som nævnt\\nomtrent som endelig beskatning i en EMV, da udbytte ikke er fradragsberettiget og beskattes med\\nop til 42% efter at der også er blevet betalt selskabsskat.\\n\\n\\nFormkrav for et ApS er juridiske byrder, som økonomisk ofte betyder højere faste omkostninger og\\nadministration for Mikkel. Samlet set kræves dog brug af flere ressourcer i et ApS fremfor i en\\nEMV. På den måde opstår et trade-off. Et ApS giver potentielle økonomiske fordele\\n(skatteudskydelse, hæftelsesbegrænsning/risikodeling, mulighed for kapitalrejsning,\\nholdingstruktur) men prisen er juridisk kompleksitet og nogle direkte omkostninger (gebyrer,\\nrevisor- og advokatbestand m.v.). Mikkel må balancere disse hensyn.\\n\\n\\n23\\n\\n\\n\\n-----\\n\\nDenne udvikling illustrerer lovgivers søgen efter et optimalt punkt mellem at fremme iværksættere\\nog beskytte kreditorer. Det er en slags forsøg på at tøjle ”moral hazard” og beskytte tredjemand\\nsamtidig, med at man skaber incitament for iværksættere. Det er så op til Mikkel om han vil\\nacceptere de rammer som lovgivningen har fastsat, eller om han vil styre uden om og hæfte\\npersonligt. I sidste ende bliver Mikkels valg en balancegang. Vil han opnå de potentielle\\neffektivitetsgevinster ved virksomhedsformen (nemmere adgang til kapital via investeringer,\\nskattefordele, hæftelsesbegrænsning) på bekostning af mere kompleksitet og mindre personlig\\nbinding, eller foretrækker han den fulde kontrol og enkelhed (og det fulde ansvar) ved personligt\\nejerskab af en virksomhed?\\n\\n\\nDe fleste mennesker er risikovillige til en vis grænse, men udviser risikoaversion, dvs. de tillægger\\nen ekstra negativ værdi til udfald, der kan ruinere dem. Derfor har trygheden ved ApS-formen en\\nindirekte økonomisk værdi for Mikkel. Selv hvis det forventede monetære afkast var identisk i de to\\nformer, vil ApS øge Mikkels nytte ved at eliminere de mest ekstreme tabsscenarier.\\n\\n### **Scenarioanalyse og anbefaling**\\n\\n\\nEn systematisk måde at kombinere hensynene på er at opstille forskellige scenarier for Mikkels\\nvirksomhed og se, hvilken virksomhedsform der i hvert tilfælde vil være mest fordelagtig for ham\\nsamlet set:\\n\\n\\n**Worst-case scenario (fiasko)** : Hvis Mikkels projekt mislykkes, fx ved at virksomheden går\\nkonkurs med betydelig gæld, er ApS utvivlsomt den bedste konstruktion for ham personligt. Som\\nkapitalejer af et ApS vil Mikkel som udgangspunkt kun tabe sin indskudte kapital (minimum 20.000\\nkr.) samt indfri evt. afgivne kautioner, mens det er selskabet, der erklæres konkurs uden at Mikkel\\ntillige erklæres personligt konkurs. Hvis der dog findes at kunne pålægges Mikkel ansvar for grov\\nuforsvarlig forretningsførelse, kan Mikkel risikere at blive idømt konkurskarantæne jf.\\nKonkursloven §§157-160. Konkurskarantæne kan i grove tilfælde medføre helt op til 5 års\\nudelukkelse fra at være direktør eller bestyrelsesmedlem i et selskab.\\n\\n\\nHvis Mikkel ejer en enkeltmandsvirksomhed hæfter Mikkel for hele restgælden, og det betyder, at\\nhan risikerer at skulle afvikle private aktiver for at betale kreditorerne, og såfremt dette ikke er\\nmuligt risikerer han at gå personligt konkurs.\\n\\n\\n**Base-case scenario (moderat drift)** : Her antages det, at Mikkels virksomhed klarer sig jævnt\\ntilfredsstillende med mindre overskud og begrænset vækst, f.eks. som en\\nenkeltmandskonsulentvirksomhed med ham selv som eneste ansatte og en stabil kreds af kunder.\\nMikkel ønsker hverken at udvide sin ejerkreds eller kundekreds. Under disse omstændigheder er de\\nøkonomiske hensyn enkelhed og lave omkostninger. Mikkel vil formentlig foretrække at slippe for\\ndet administrative arbejde og de udgifter, som et ApS kræver (fx udarbejdelse af årsregnskab), da\\nMikkel vil være interesseret i lavest mulige administrative byrder og omkostninger. Skattemæssigt\\nvil forskellen heller ikke være afgørende så længe indkomsten er under topskattegrænsen. Juridisk\\nset har Mikkel heller ikke akut brug for de fordele, ApS giver. Hans ansvar er begrænset i praksis,\\nfordi han ikke har store risici eller gæld, og han har ingen medejere eller investorer at tage hensyn\\ntil. Alt i alt vil en enkeltmandsvirksomhed i dette scenario sandsynligvis give Mikkel den største\\nsamlede nytte. Den er billigere at drive og tilstrækkelig sikker for en lille, overskuelig forretning.\\n\\n\\n24\\n\\n\\n\\n-----\\n\\n**Best-case/growth scenario (vækstsucces)** : Her antages det, at Mikkels virksomhed f.eks. arbejder\\nmed vidensbaseret udvikling af services/produkter, som får succes, fordi produkterne sælges\\nprofitabelt med det resultat, at omsætning og overskud vokser. Det kræver både flere medarbejdere,\\nny kapital og eventuelt international ekspansion på sigt. I dette scenarie taler stort set alle faktorer\\nfor, at Mikkel bør drive virksomhed i ApS form.\\n\\n\\nJuridisk set vil risikoen ved virksomhedens størrelse og aktiviteter alt andet lige stige (flere ansatte\\nøger risikoen for arbejdsrelaterede krav, større kundeaftaler øger potentielt erstatningsansvar, større\\nkredittræk osv.), og det ville være uholdbart for Mikkel at hæfte ubegrænset for en virksomhed af\\nbetydelig størrelse. Samtidig vil muligheden for at rejse kapital via investorer eller lånefinansiere\\nvia banker være afgørende for at finansiere væksten, og som tidligere nævnt er virksomhedsdrift i et\\nkapitalselskab en forudsætning for ekstern finansiering via kapitalindskud fra professionelle\\ninvestorer. Hvis virksomheden herefter kan vise en solid egenkapital er mulighederne for at opnå\\nbanklån uden personlige kautioner formentlig til stede.\\n\\n\\nDesuden vil Mikkel også kunne tiltrække medarbejdere gennem brug af aktieaflønning i en\\nvirksomhed, der drives som ApS. Dette vil som nævnt tidligere, spare en del af lønomkostningerne,\\nsamtidig med at det giver medarbejderne det nødvendige incitament, fordi de på sigt kan blive\\nmedejere og tillige opnå gunstige skattemæssig forhold, fordi en del af deres løn kan bestå i aktier,\\nder ved en exit beskattes som aktieindkomst og ikke lønindkomst (forudsat de er omfattet af LL §\\n7p, jf. ovenfor).\\n\\n\\nØkonomisk set vil Mikkel kunne skatteoptimere ved, at han både aflønnes (med løn) og modtager\\nafkast i form af udbytte. Herved har han en mulighed for at begrænse løn til under topskattegrænsen\\nog få resten af det, som han skal bruge privat udloddet som udbytte. Det skal dog bemærkes, at\\nniveauet for udbytteudlodning ikke alene bestemmes af Mikkel efter inddragelse af eksterne\\ninvestorer, hvorved Mikkel ikke længere ejer 100% af ApS ‘et. Udbytte bestemmes af en fælles\\nejerkreds og ofte efter fælles bestemte konservative retningslinjer. Der er typisk andre hensyn end\\nblot Mikkels skatteoptimering. Ofte vil Mikkel dog formentlig eje sin ejerandel i ApS ‘er via et\\n100% ejer holdingselskab, hvorved Mikkel selv afgør, hvad der i givet fald udloddes fra dette\\nholdingselskab (efter at holdingselskabet har modtaget skattefrit udbytte).\\n\\n\\nHvis Mikkel på et tidspunkt ønsker at sælge sin virksomhed, dvs. planlægge efter en såkaldt ”exit”\\nvil dette i langt de fleste scenarier være mest optimalt at sælge i kapitalselskabsform og medmindre\\nstrukturen er en holdingselskabsstruktur bør Mikkel, såfremt exit planlægges, få etableret en\\nholdingselskabsstruktur, således at kapitalandele ejet af hans holdingselskab kan sælges skattefri\\nSamlet set maksimerer ApS formen her værdien af virksomheden for Mikkel. Det giver ham adgang\\ntil vækstkapital, begrænser risikoen for at miste sin egen formue på grund af en kompleks drift, og\\nkan minimere skatten på evt. udloddet udbytte til holdingselskabet, som kan geninvesteres i andre\\naktiviteter (før skat).\\n\\nHvis man skal nævne en form for ulempe er det, at Mikkel vil være nødt til at lade sin ejerandel\\nudvande i forbindelse med den nødvendige udvidelse af ejerkredsen med kapitalstærke investorer.\\nMed dette følger også, at et udvidet ejerskab mindsker Mikkels beslutningskompetence, som typisk\\nkonkret vil være begrænset ikke alene på grund af en lavere ejerandel (udvanding), men også på\\ngrund af stemmeretsbegrænsninger i en ejeraftale mellem Mikkel og nye kapitalejere. For Mikkel er\\ndet en balancegang mellem ikke at miste indflydelsen i virksomheden, og på samme tid lade\\n\\n\\n25\\n\\n\\n\\n-----\\n\\nselskabet opnå den tilstrækkelige kapital fra eksterne investorer (udvanding) til at vækste\\nvirksomheden med henblik på exit.\\n\\n\\n**Mellem- eller skiftende scenarier** : Virkeligheden kan befinde sig et sted mellem ovenstående\\nscenarier eller bevæge sig fra ét scenario til et andet over tid. Mikkels virksomhed kan starte i det\\nsmå og senere vokse eller omvendt. Måske starter han ambitiøst med en plan om ekspansion og\\nstørre skala virksomhed, men nedskalerer herefter til en virksomhed, som han alene eller med få\\nansatte kan drive lokalt. Denne dynamik betyder, at valget af virksomhedsform ikke nødvendigvis\\ner permanent eller eksklusivt. En integreret strategi kunne være at kombinere fordelene over tid.\\nMikkel kan begynde som enkeltmandsvirksomhed for at nyde den administrative lethed og den\\nmulighed at fratrække virksomhedens underskud i opstartsfasen i øvrig personlig indkomst. Senere,\\nhvis det viser sig, at virksomheden bliver mere omfattende end planlagt, kan Mikkel omdanne til\\nApS. En sådan fasemodel kan i teorien give ham det bedste fra begge verdener. Denne\\nfremgangsmåde afspejler, at behovet for hæftelsesbegrænsning, kapitalindskud og formel struktur\\nstiger med virksomhedens kompleksitet og økonomiske tyngde.\\n\\n\\n**Anbefaling** : For Mikkel bør beslutningen træffes ud fra en vurdering af omfanget af hans\\nvirksomheds karakter og fremtidsudsigter. Hvis Mikkel forventer at drive en relativt lille\\nvirksomhed med begrænset risiko, ingen/få ansatte og har han selv tilstrækkelig finansiering, så\\npeger balancen af juridiske og økonomiske hensyn på, at Mikkel bør starte som\\nenkeltmandsvirksomhed. Det er med den fleksibilitet og mindre bureaukrati, som dette indebærer,\\nog de skattemæssige fordele, der kan være ved at eventuelle underskud kan fragå i anden personlig\\nindkomst, uden at udsætte Mikkel for uacceptabel risiko (så længe den objektive risikoprofil er lav).\\n\\n\\nOmvendt, hvis Mikkel har planer om betydelig vækst i virksomheden, flere medarbejdere, indgåelse\\naf større kontrakter mv., så er et ApS den oplagte løsning. Det beskytter hans privatøkonomi, øger\\nhans finansielle råderum og troværdighed udadtil, og det vil på sigt optimere værdiskabelsen i\\nvirksomheden. Da Mikkels konkrete situation muligvis ligger et sted midtimellem de to\\nudfaldsscenarier, kunne han med fordel læne sig op ad den fleksible model. Dvs. begynde som\\nEMV og holde øje med indikatorer på, at tiden er inde til at omdannelse til kapitalselskab. Sådanne\\nindikatorer inkluderer for eksempel:\\n\\n\\n  at virksomhedens nettooverskud før skat er ved at nå en størrelse, hvor Mikkels indkomst\\noverstiger niveauet for topskattegrænsen.\\n\\n  at der opstår behov for ekstern kapitaltilførsel eller nye partnere, som med fordel kan\\ninvestere mod tegning af nye ejerandele i et ApS,\\n\\n  at Mikkels virksomheds risikoprofil øges markant, f.eks. ved at han får ansatte (hvilket\\nmedfører arbejdsgiveransvar og lønforpligtelser) eller indgår store\\nkontrakter/gældsforpligtelser.\\n\\n\\nNår disse tegn melder sig, vil en omdannelse til ApS, gerne via en skattefri omdannelse, være det\\nnaturlige næste skridt i Mikkels forretningsrejse. Beslutningen er dermed ikke statisk. Den\\nintegrerede analyse viser, at Mikkel løbende kan optimere sin virksomhedsform i takt med\\nudviklingen i både juridiske behov og økonomiske ambitioner. Endelig spiller Mikkels personlige\\npræferencer en rolle. Nogle iværksættere foretrækker den fulde autonomi og uformelle drift, som en\\npersonlig drevet EMV giver, mens andre trives med at dele ansvar, have begrænset hæftelse tryghed\\nog sparring fra medejere i en selskabsstruktur. Denne menneskelige faktor skal Mikkel heller ikke\\nignorere i sin samlede vurdering.\\n\\n\\n26\\n\\n\\n\\n-----\\n\\n## **Kapitel 5: Konklusion**\\n\\nAnalysen af, hvad der er vigtigt for Mikkels valg mellem enkeltmandsvirksomhed(EMV) og\\nanpartsselskab (ApS), viser tydeligt, at virksomhedsformen ikke blot er en juridisk formalitet, men\\nen strategisk beslutning med vidtrækkende konsekvenser. Det man med sikkerhed kan sige er, at de\\nto virksomhedsformer på hver sin måde påvirker de helt centrale aspekter af Mikkels\\niværksætterrejse, fra hans personlige risiko og skattemæssige situation til mulighederne for at skaffe\\nkapital og skalere virksomheden.\\n\\n\\nEnkeltmandsvirksomheden giver maksimal enkelthed og fuld kontrol, men eksponerer Mikkel for\\nubegrænset personlig hæftelse. Omvendt tilbyder ApS’et begrænset hæftelse og bedre adgang til\\nekstern finansiering men kræver startkapital, flere formelle procedurer og en skarp adskillelse\\nmellem privatøkonomi og virksomhedens økonomi.\\n\\n\\nPå tværs af den juridiske og økonomiske analyse (kapitel 2 og 3) samt den integrerede analyse\\n(kapitel 4) fremgår det, at ingen virksomhedsform entydigt er “bedst”. I stedet afhænger den\\noptimale løsning af Mikkels konkrete situation, ambitioner og risikovillighed. Har Mikkel\\neksempelvis brug for at begrænse sin personlige risiko og tiltrække større investeringer, peger\\nanalysen på, at et ApS vil være fordelagtigt. Et ApS kan beskytte hans private formue i tilfælde af\\nkonkurs og sender et signal om professionalisme til omverdenen. Omvendt, hvis Mikkels forretning\\ner overskuelig i størrelse, ikke kræver større kapitalindskud udefra, og han ønsker at minimere\\nomkostninger og administrative byrder i opstartsfasen, kan en enkeltmandsvirksomhed være\\ntilstrækkelig.\\n\\n\\n**Kort sagt** : Valget står mellem tryghed med begrænset hæftelse i et kapitalselskab og uformel frihed\\nmen fuldt ansvar i den personlige virksomhed.\\n\\n\\nVigtigheden af disse indsigter kan ikke undervurderes. For Mikkel personligt betyder det, at en\\nforkert beslutning i værste fald kan koste ham dyrt. Eksempelvis kan han risikere personlig\\nkonkurs, hvis han fortsætter som enkeltmandsvirksomhed og virksomheden bliver økonomisk\\nnødlidende, uden at Mikkel selv eller hans bank har mulighed for at finansiere videre drift. Derfor\\ner det vigtigt at matche virksomhedsformen med virksomhedens behov og udviklingsplaner.\\n\\nNærværende redegørelse har til hensigt at støtte iværksættere med at gøre sig grundige overvejelser,\\nnår de starter virksomhed og eventuelt søge professionel rådgivning, frem for blot at vælge den\\nmest velkendte eller umiddelbart nemmeste løsning.\\n\\n\\nDet står klart, at valget af virksomhedsform ikke er statisk. Det bør løbende tages op til revision i\\ntakt med at rammebetingelser og virksomheden selv udvikler sig. Både lovgivning, samfund og\\nmarkedsforhold er dynamiske størrelser, som løbende kan ændre spillereglerne for iværksættere.\\nFor eksempel så man i 2019, at iværksætterselskabet (IVS), en populær virksomhedsform for\\nnystartede virksomheder, blev afskaffet, hvilket tvang mange iværksættere til at omdanne deres\\nvirksomhed til et ApS eller lukke den ned. Sådanne ændringer understreger, at Mikkel og andre\\nvirksomhedsejere løbende må følge med i udviklingen. Tilsvarende er der netop i disse år politisk\\nfokus på at forbedre vilkårene for iværksættere. Den nyste iværksætterpakke der trådte i kraft fra d.\\n1 januar 2025 indebærer fx både en halvering af kapitalkravet for ApS (til de nuværende 20.000 kr.\\nfra 40.000 kr.) og de nye muligheder for crowdfunding for ApS’er. Disse tendenser betyder, at\\nbarriererne for at stifte selskab bliver lavere, og nye finansieringsformer gøres tilgængelige.\\n\\n\\n27\\n\\n\\n\\n-----\\n\\nSamtidig kan ændringer i skatteregler eller samfundsøkonomiske trends (f.eks. renteniveau,\\ninvesteringslyst eller globale konjunkturer) tippe balancen mellem virksomhedsformerne over tid.\\n\\n\\nKort sagt bør Mikkel ikke betragte sit valg af virksomhedsform som en ”én gang for alle”beslutning, men snarere som et strategisk valg, der bør genovervejes, når forudsætningerne ændrer\\nsig **.**\\n\\n\\n**Afslutningsvis** kan det konkluderes, at projektets vigtigste bidrag er at fremhæve, at Mikkels (og\\nandre iværksætteres) beslutning skal træffes bevidst og med et øje for både nutidige forhold og\\nfremtidige ændringer. Hvis Mikkel, og andre iværksættere som ham selv, tager de læringer,\\nprojektet har fremlagt, til sig, står de stærkere rustet til at vælge den virksomhedsform, der bedst\\nunderstøtter deres ambitioner, både nu og på længere sigt.\\n\\n\\n28\\n\\n\\n\\n-----\\n\\n## **Litteraturliste:**\\n\\nHalpern - Paul - 2002 - The new Palgrave dictionary of economics and law - Palgrave Macmillian s. 581, tilgået juli 2025\\n[https://link.springer.com/rwe/10.1007/978-1-349-74173-1_235](https://link.springer.com/rwe/10.1007/978-1-349-74173-1_235)\\n\\nMadsen - Rasmus - 2013 - Valg af virksomhedsform i et livscyklus perspektiv - CBS - S. 89 tilgået april 2025\\n\\n         https://research [api.cbs.dk/ws/portalfiles/portal/58473067/rasmus_madsen.pdf](https://research-api.cbs.dk/ws/portalfiles/portal/58473067/rasmus_madsen.pdf)\\n\\nEIFO - 2023 - Iværksætteråret 2023 - s. 2-3 - tilgået april 2025\\n[https://eifo.dk/media/axenyuzr/ivaerksaetteraaret-2023-del-2.pdf](https://eifo.dk/media/axenyuzr/ivaerksaetteraaret-2023-del-2.pdf)\\n\\nJensen - Per - 2024 - Løn eller udbytte, hvad kan bedst betale sig? - Blicher - tilgået juni 2025\\n[https://blicher.dk/?page=e2pdf-download&uid=33f87b7737632afc812e809d25b05406](https://blicher.dk/nyhed/loen-eller-udbytte-hvad-kan-bedst-betale-sig/?utm_source=chatgpt.com)\\n\\nSkatteministeriet - Skattesatser - tilgået juni 2025\\n[https://skat.dk/hjaelp/satser](https://skat.dk/hjaelp/satser)\\n\\n[https://www.selskabsadvokaterne.dk/artikler/andet/holdingselskab-fordele-og-ulemper/](https://www.selskabsadvokaterne.dk/artikler/andet/holdingselskab-fordele-og-ulemper/)\\nHvarregård - Daniel - Holdingselskab, fordele og ulemper - Selskabsadvokaterne - tilgået juni 2025\\n\\nRedmark - 2024 - Valg af virksomhedsform: hvilken virksomhed skal du eje - tilgået april 2025.\\n[https://redmark.dk/valg-af-virksomhedsform-hvad-skal-du-overveje/](https://redmark.dk/valg-af-virksomhedsform-hvad-skal-du-overveje/)\\n\\nMøller - Jens - Kaution i erhvervslejemål - Selskabsadvokaterne - tilgået april 2025\\n[https://www.selskabsadvokaterne.dk/artikler/andet/kaution-i-erhvervslejemaal/](https://www.selskabsadvokaterne.dk/artikler/andet/kaution-i-erhvervslejemaal/)\\n\\nDaniaregnskab - Enkeltmandsvirksomhed eller ApS - 2020 - tilgået april 2025\\n[https://daniaregnskab.dk/slider/hvilken-type-virksomhed-skal-jeg-vaelge-enkeltmandsvirksomhed-](https://daniaregnskab.dk/slider/hvilken-type-virksomhed-skal-jeg-vaelge-enkeltmandsvirksomhed-aps)\\n\\n[aps](https://daniaregnskab.dk/slider/hvilken-type-virksomhed-skal-jeg-vaelge-enkeltmandsvirksomhed-aps)\\n\\n\\n29\\n\\n\\n\\n-----\\n\\n## **Lov- og doms register:**\\n\\n**Lov om aktie- og anpartsselskaber (selskabsloven)**, lov nr. 470 af 12/06/2009, senest ændret ved\\nlov nr. 71 af 17/12/2024\\n\\n\\n**Virksomhedsskatteloven**, lov nr. 144 af 10/03/1986, senest ændret ved lov nr. 982 af 27/06/2024\\n\\n\\n**Personskatteloven**, lov nr. 149 af 10/03/1999, senest ændret ved lov nr. 982 af 27/06/2024\\n\\n\\n**Selskabsskatteloven**, lov nr. 824 af 27/06/2023, senest ændret ved lov nr. 982 af 27/06/2024\\n\\n\\n**Erhvervsvirksomhedsloven**, lov nr. 1227 af 18/11/2004, senest ændret ved lov nr. 619 af\\n14/06/2024\\n\\n\\n**Bogføringsloven**, lov nr. 700 af 24/05/2022, senest ændret ved lov nr. 2181 af 28/12/2023\\n\\n\\n**Årsregnskabsloven**, lov nr. 448 af 07/06/2001, senest ændret ved lov nr. 982 af 27/06/2024\\n\\n\\n**Ligningsloven**, lov nr. 116 af 29/01/2016, senest ændret ved lov nr. 982 af 27/06/2024\\n\\n\\n**Aktieavancebeskatningsloven**, lov nr. 1413 af 21/12/2005, senest ændret ved lov nr. 982 af\\n27/06/2024\\n\\n\\n**Konkursloven**, lov nr. 298 af 28/04/1999, senest ændret ved lov nr. 623 af 14/06/2024\\n\\n\\n**Virksomhedsomdannelsesloven**, lov nr. 1116 af 21/12/1994, senest ændret ved lov nr. 981 af\\n27/06/2024\\n\\n\\n30\\n\\n\\n')"
      ]
     },
     "execution_count": 33,
     "metadata": {},
     "output_type": "execute_result"
    }
   ],
   "source": [
    "doc"
   ]
  },
  {
   "cell_type": "code",
   "execution_count": 36,
   "id": "95d40179",
   "metadata": {},
   "outputs": [
    {
     "data": {
      "text/plain": [
       "135"
      ]
     },
     "execution_count": 36,
     "metadata": {},
     "output_type": "execute_result"
    }
   ],
   "source": [
    "# Char-level splits\n",
    "from langchain_text_splitters import RecursiveCharacterTextSplitter\n",
    "\n",
    "chunk_size = 1000\n",
    "chunk_overlap = 200\n",
    "text_splitter = RecursiveCharacterTextSplitter(\n",
    "    chunk_size=chunk_size, chunk_overlap=chunk_overlap\n",
    ")\n",
    "\n",
    "# Split\n",
    "splits = text_splitter.split_documents(docs)\n",
    "len(splits)"
   ]
  },
  {
   "cell_type": "code",
   "execution_count": null,
   "id": "04fcf0d5",
   "metadata": {},
   "outputs": [],
   "source": [
    "from langchain.indexes import SQLRecordManager\n",
    "\n",
    "recorder = SQLRecordManager(\n",
    "        namespace=namespace,\n",
    "        db_url=get_record_db_url(),\n",
    "    )"
   ]
  },
  {
   "cell_type": "code",
   "execution_count": 46,
   "id": "278a6195",
   "metadata": {},
   "outputs": [
    {
     "data": {
      "text/html": [
       "<pre style=\"white-space:pre;overflow-x:auto;line-height:normal;font-family:Menlo,'DejaVu Sans Mono',consolas,'Courier New',monospace\">17                                                                                                                 \n",
       "\n",
       "<span style=\"color: #808000; text-decoration-color: #808000\">───────────────────────────────────────────────────────────────────────────────────────────────────────────────────</span>\n",
       "virksomhed i ApS formentlig være stillet på forholdsvis lige fod med virksomhed i en EMV i relation til muligheden \n",
       "for at få ekstern lånefinansiering.                                                                                \n",
       "\n",
       "Fra Mikkels eget perspektiv er de 20.000 kr. i ApS-kapitalkravet heller ikke tabte midler. De kan som nævnt        \n",
       "tidligere anvendes i driften og til at købe aktiver for. Indskudt selskabskapital kan ikke udloddes til            \n",
       "privatforbrug. Udlodning kan tidligst ske efter aflæggelse af første årsrapport og forudsætter i øvrigt, at der er \n",
       "overskud i ApS ‘et (som udgør frie midler) jf. SL §180 stk. 2. Kortsigtet kan ApS-formen derfor være mindre likvid \n",
       "for Mikkel. Mikkels privatøkonomi og selskabets midler må ikke sammenblandes. Midler optjent i selskabet kan alene \n",
       "overgå til Mikkel, hvis der træffes beslutning om udbytteudlodning eller betaling af løn. Derfor bør Mikkel        \n",
       "foretage nødvendige økonomiske beregninger, så han, efter brug af midler til stiftelse af et ApS (20.000 kr .+     \n",
       "stiftelsesomkostninger), har tilstrækkelige midler til dækning af sine egne private udgifter.                      \n",
       "\n",
       "En yderligere sikkerhed for kreditorer i et ApS er, at selskabet skal vedligeholde en forsvarlig egenkapital.      \n",
       "Derfor indeholder selskabsloven regler for kapitaltab, jf. SL §4 jf. §119. Hvis anpartsselskabets selskabskapital  \n",
       "falder med mere end halvdelen, dvs. til under 10.000 kr., betragtes det som et kapitaltab, og her er der krav om,  \n",
       "at ledelsen skal indkalde til generalforsamling senest 6 måneder efter kapitaltabet er konstateret. På             \n",
       "generalforsamlingen skal ledelsen redegøre for selskabets økonomiske stilling og foreslå tiltag for at afhjælpe    \n",
       "situationen.                                                                                                       \n",
       "\n",
       "Mikkel skal i den situation reagere ved at tilføre ny kapital eller afvikle selskabet, hvis egenkapitalen bliver   \n",
       "for lav jf. SL §4 jf. §119. I økonomiske termer tvinger det ham til en vis finansiel disciplin og foretage en      \n",
       "løbende vurdering af virksomhedens soliditet, hvilket enten kan betragtes som en byrde eller et positivt           \n",
       "disciplinært ”push” til at være mere organiseret. I en enkeltmandsvirksomhed har Mikkel mere fleksibilitet til at  \n",
       "lade midlertidige underskud passere. Han kan fortsætte, så længe han personligt kan dække gælden, uden formelle    \n",
       "krav om rekapitalisering. Denne fleksibilitet kan være en fordel under midlertidig økonomisk modgang, men den kan  \n",
       "også medføre, at Mikkel i en EMV kommer til at fortsætte en økonomisk håbløs drift længere end økonomisk rentabelt,\n",
       "fordi der ikke er et formelt krav om at foretage en reetablering eller lukke virksomheden, hvis der opstår         \n",
       "kapitaltab.                                                                                                        \n",
       "\n",
       "Opsummerende kan man sige at nettoeffekten af kapitalkravet afhænger af Mikkels finansielle situation. Har han     \n",
       "opsparing nok, er 20.000 kr. måske en beskeden pris for de øvrige fordele ved ApS, og hvis han alligevel skal ud og\n",
       "bruge penge på driftsaktiver til mindst 20.000 kr., er kapitalkravet underordnet, da selskabskapitalen kan benyttes\n",
       "til anskaffelse af driftsaktiver. Har han derimod begrænset kapital, kunne kravet presse ham til at optage dyr gæld\n",
       "eller opgive ApS som mulighed. I så fald kan den personlige virksomheds fravær af kapitalkrav være det, der gør det\n",
       "økonomisk muligt overhovedet at etablere virksomheden. Her er det altså igen vigtigt for Mikkel at vurdere sin     \n",
       "økonomiske situation, inden han tager et valg.                                                                     \n",
       "\n",
       "                                                   <span style=\"font-weight: bold\">Risikoprofil</span>                                                    \n",
       "\n",
       "Som gennemgået tidligere hæfter Mikkel ubegrænset i enkeltmandsvirksomheden, hvilket betyder, at hans personlige   \n",
       "formue er på spil for virksomhedens gæld. Den finansielle risiko for Mikkel er                                     \n",
       "\n",
       "18                                                                                                                 \n",
       "\n",
       "<span style=\"color: #808000; text-decoration-color: #808000\">───────────────────────────────────────────────────────────────────────────────────────────────────────────────────</span>\n",
       "</pre>\n"
      ],
      "text/plain": [
       "17                                                                                                                 \n",
       "\n",
       "\u001b[33m───────────────────────────────────────────────────────────────────────────────────────────────────────────────────\u001b[0m\n",
       "virksomhed i ApS formentlig være stillet på forholdsvis lige fod med virksomhed i en EMV i relation til muligheden \n",
       "for at få ekstern lånefinansiering.                                                                                \n",
       "\n",
       "Fra Mikkels eget perspektiv er de 20.000 kr. i ApS-kapitalkravet heller ikke tabte midler. De kan som nævnt        \n",
       "tidligere anvendes i driften og til at købe aktiver for. Indskudt selskabskapital kan ikke udloddes til            \n",
       "privatforbrug. Udlodning kan tidligst ske efter aflæggelse af første årsrapport og forudsætter i øvrigt, at der er \n",
       "overskud i ApS ‘et (som udgør frie midler) jf. SL §180 stk. 2. Kortsigtet kan ApS-formen derfor være mindre likvid \n",
       "for Mikkel. Mikkels privatøkonomi og selskabets midler må ikke sammenblandes. Midler optjent i selskabet kan alene \n",
       "overgå til Mikkel, hvis der træffes beslutning om udbytteudlodning eller betaling af løn. Derfor bør Mikkel        \n",
       "foretage nødvendige økonomiske beregninger, så han, efter brug af midler til stiftelse af et ApS (20.000 kr .+     \n",
       "stiftelsesomkostninger), har tilstrækkelige midler til dækning af sine egne private udgifter.                      \n",
       "\n",
       "En yderligere sikkerhed for kreditorer i et ApS er, at selskabet skal vedligeholde en forsvarlig egenkapital.      \n",
       "Derfor indeholder selskabsloven regler for kapitaltab, jf. SL §4 jf. §119. Hvis anpartsselskabets selskabskapital  \n",
       "falder med mere end halvdelen, dvs. til under 10.000 kr., betragtes det som et kapitaltab, og her er der krav om,  \n",
       "at ledelsen skal indkalde til generalforsamling senest 6 måneder efter kapitaltabet er konstateret. På             \n",
       "generalforsamlingen skal ledelsen redegøre for selskabets økonomiske stilling og foreslå tiltag for at afhjælpe    \n",
       "situationen.                                                                                                       \n",
       "\n",
       "Mikkel skal i den situation reagere ved at tilføre ny kapital eller afvikle selskabet, hvis egenkapitalen bliver   \n",
       "for lav jf. SL §4 jf. §119. I økonomiske termer tvinger det ham til en vis finansiel disciplin og foretage en      \n",
       "løbende vurdering af virksomhedens soliditet, hvilket enten kan betragtes som en byrde eller et positivt           \n",
       "disciplinært ”push” til at være mere organiseret. I en enkeltmandsvirksomhed har Mikkel mere fleksibilitet til at  \n",
       "lade midlertidige underskud passere. Han kan fortsætte, så længe han personligt kan dække gælden, uden formelle    \n",
       "krav om rekapitalisering. Denne fleksibilitet kan være en fordel under midlertidig økonomisk modgang, men den kan  \n",
       "også medføre, at Mikkel i en EMV kommer til at fortsætte en økonomisk håbløs drift længere end økonomisk rentabelt,\n",
       "fordi der ikke er et formelt krav om at foretage en reetablering eller lukke virksomheden, hvis der opstår         \n",
       "kapitaltab.                                                                                                        \n",
       "\n",
       "Opsummerende kan man sige at nettoeffekten af kapitalkravet afhænger af Mikkels finansielle situation. Har han     \n",
       "opsparing nok, er 20.000 kr. måske en beskeden pris for de øvrige fordele ved ApS, og hvis han alligevel skal ud og\n",
       "bruge penge på driftsaktiver til mindst 20.000 kr., er kapitalkravet underordnet, da selskabskapitalen kan benyttes\n",
       "til anskaffelse af driftsaktiver. Har han derimod begrænset kapital, kunne kravet presse ham til at optage dyr gæld\n",
       "eller opgive ApS som mulighed. I så fald kan den personlige virksomheds fravær af kapitalkrav være det, der gør det\n",
       "økonomisk muligt overhovedet at etablere virksomheden. Her er det altså igen vigtigt for Mikkel at vurdere sin     \n",
       "økonomiske situation, inden han tager et valg.                                                                     \n",
       "\n",
       "                                                   \u001b[1mRisikoprofil\u001b[0m                                                    \n",
       "\n",
       "Som gennemgået tidligere hæfter Mikkel ubegrænset i enkeltmandsvirksomheden, hvilket betyder, at hans personlige   \n",
       "formue er på spil for virksomhedens gæld. Den finansielle risiko for Mikkel er                                     \n",
       "\n",
       "18                                                                                                                 \n",
       "\n",
       "\u001b[33m───────────────────────────────────────────────────────────────────────────────────────────────────────────────────\u001b[0m\n"
      ]
     },
     "metadata": {},
     "output_type": "display_data"
    }
   ],
   "source": [
    "console = Console()\n",
    "md = Markdown(splits[15].page_content)\n",
    "console.print(md)"
   ]
  },
  {
   "cell_type": "markdown",
   "id": "d2ac54fa",
   "metadata": {},
   "source": [
    "### web search"
   ]
  },
  {
   "cell_type": "code",
   "execution_count": 17,
   "id": "2b985ef5",
   "metadata": {},
   "outputs": [],
   "source": [
    "from openai import OpenAI\n",
    "client = OpenAI()\n",
    "\n",
    "response = client.responses.create(\n",
    "    model=\"gpt-5\",\n",
    "    tools=[{\n",
    "        \"type\": \"web_search_preview\",\n",
    "        \"user_location\": {\n",
    "            \"type\": \"approximate\",\n",
    "            \"country\": \"DK\",\n",
    "            \"city\": \"Copenhagen\",\n",
    "            \"region\": \"Denmark\",\n",
    "            },\n",
    "        \"search_context_size\": \"high\",\n",
    "        }],\n",
    "    input=\"Hvilke konkrete kvantitative antagelser lå til grund for din økonomiske analyse (skattesatser, forventet overskud/underskud, kapitalbehov mv.), og hvor følsomme er dine konklusioner over for ændringer i disse antagelser?\"\n",
    ")\n"
   ]
  },
  {
   "cell_type": "code",
   "execution_count": 18,
   "id": "1153603b",
   "metadata": {},
   "outputs": [
    {
     "data": {
      "text/html": [
       "<pre style=\"white-space:pre;overflow-x:auto;line-height:normal;font-family:Menlo,'DejaVu Sans Mono',consolas,'Courier New',monospace\"><span style=\"color: #800080; text-decoration-color: #800080; font-weight: bold\">Response</span><span style=\"font-weight: bold\">(</span>\n",
       "<span style=\"color: #7fbf7f; text-decoration-color: #7fbf7f\">│   </span><span style=\"color: #808000; text-decoration-color: #808000\">id</span>=<span style=\"color: #008000; text-decoration-color: #008000\">'resp_68aabeb4cf0c819685ea2c08226bc9ad027168f817c34db1'</span>,\n",
       "<span style=\"color: #7fbf7f; text-decoration-color: #7fbf7f\">│   </span><span style=\"color: #808000; text-decoration-color: #808000\">created_at</span>=<span style=\"color: #008080; text-decoration-color: #008080; font-weight: bold\">1756020404.0</span>,\n",
       "<span style=\"color: #7fbf7f; text-decoration-color: #7fbf7f\">│   </span><span style=\"color: #808000; text-decoration-color: #808000\">error</span>=<span style=\"color: #800080; text-decoration-color: #800080; font-style: italic\">None</span>,\n",
       "<span style=\"color: #7fbf7f; text-decoration-color: #7fbf7f\">│   </span><span style=\"color: #808000; text-decoration-color: #808000\">incomplete_details</span>=<span style=\"color: #800080; text-decoration-color: #800080; font-style: italic\">None</span>,\n",
       "<span style=\"color: #7fbf7f; text-decoration-color: #7fbf7f\">│   </span><span style=\"color: #808000; text-decoration-color: #808000\">instructions</span>=<span style=\"color: #800080; text-decoration-color: #800080; font-style: italic\">None</span>,\n",
       "<span style=\"color: #7fbf7f; text-decoration-color: #7fbf7f\">│   </span><span style=\"color: #808000; text-decoration-color: #808000\">metadata</span>=<span style=\"font-weight: bold\">{}</span>,\n",
       "<span style=\"color: #7fbf7f; text-decoration-color: #7fbf7f\">│   </span><span style=\"color: #808000; text-decoration-color: #808000\">model</span>=<span style=\"color: #008000; text-decoration-color: #008000\">'gpt-5-2025-08-07'</span>,\n",
       "<span style=\"color: #7fbf7f; text-decoration-color: #7fbf7f\">│   </span><span style=\"color: #808000; text-decoration-color: #808000\">object</span>=<span style=\"color: #008000; text-decoration-color: #008000\">'response'</span>,\n",
       "<span style=\"color: #7fbf7f; text-decoration-color: #7fbf7f\">│   </span><span style=\"color: #808000; text-decoration-color: #808000\">output</span>=<span style=\"font-weight: bold\">[</span>\n",
       "<span style=\"color: #7fbf7f; text-decoration-color: #7fbf7f\">│   │   </span><span style=\"color: #800080; text-decoration-color: #800080; font-weight: bold\">ResponseReasoningItem</span><span style=\"font-weight: bold\">(</span>\n",
       "<span style=\"color: #7fbf7f; text-decoration-color: #7fbf7f\">│   │   │   </span><span style=\"color: #808000; text-decoration-color: #808000\">id</span>=<span style=\"color: #008000; text-decoration-color: #008000\">'rs_68aabeb58b94819687813e2622b955ff027168f817c34db1'</span>,\n",
       "<span style=\"color: #7fbf7f; text-decoration-color: #7fbf7f\">│   │   │   </span><span style=\"color: #808000; text-decoration-color: #808000\">summary</span>=<span style=\"font-weight: bold\">[]</span>,\n",
       "<span style=\"color: #7fbf7f; text-decoration-color: #7fbf7f\">│   │   │   </span><span style=\"color: #808000; text-decoration-color: #808000\">type</span>=<span style=\"color: #008000; text-decoration-color: #008000\">'reasoning'</span>,\n",
       "<span style=\"color: #7fbf7f; text-decoration-color: #7fbf7f\">│   │   │   </span><span style=\"color: #808000; text-decoration-color: #808000\">content</span>=<span style=\"color: #800080; text-decoration-color: #800080; font-style: italic\">None</span>,\n",
       "<span style=\"color: #7fbf7f; text-decoration-color: #7fbf7f\">│   │   │   </span><span style=\"color: #808000; text-decoration-color: #808000\">encrypted_content</span>=<span style=\"color: #800080; text-decoration-color: #800080; font-style: italic\">None</span>,\n",
       "<span style=\"color: #7fbf7f; text-decoration-color: #7fbf7f\">│   │   │   </span><span style=\"color: #808000; text-decoration-color: #808000\">status</span>=<span style=\"color: #800080; text-decoration-color: #800080; font-style: italic\">None</span>\n",
       "<span style=\"color: #7fbf7f; text-decoration-color: #7fbf7f\">│   │   </span><span style=\"font-weight: bold\">)</span>,\n",
       "<span style=\"color: #7fbf7f; text-decoration-color: #7fbf7f\">│   │   </span><span style=\"color: #800080; text-decoration-color: #800080; font-weight: bold\">ResponseOutputMessage</span><span style=\"font-weight: bold\">(</span>\n",
       "<span style=\"color: #7fbf7f; text-decoration-color: #7fbf7f\">│   │   │   </span><span style=\"color: #808000; text-decoration-color: #808000\">id</span>=<span style=\"color: #008000; text-decoration-color: #008000\">'msg_68aabedb02dc8196b7451465fc4b5121027168f817c34db1'</span>,\n",
       "<span style=\"color: #7fbf7f; text-decoration-color: #7fbf7f\">│   │   │   </span><span style=\"color: #808000; text-decoration-color: #808000\">content</span>=<span style=\"font-weight: bold\">[</span>\n",
       "<span style=\"color: #7fbf7f; text-decoration-color: #7fbf7f\">│   │   │   │   </span><span style=\"color: #800080; text-decoration-color: #800080; font-weight: bold\">ResponseOutputText</span><span style=\"font-weight: bold\">(</span>\n",
       "<span style=\"color: #7fbf7f; text-decoration-color: #7fbf7f\">│   │   │   │   │   </span><span style=\"color: #808000; text-decoration-color: #808000\">annotations</span>=<span style=\"font-weight: bold\">[]</span>,\n",
       "<span style=\"color: #7fbf7f; text-decoration-color: #7fbf7f\">│   │   │   │   │   </span><span style=\"color: #808000; text-decoration-color: #808000\">text</span>=<span style=\"color: #008000; text-decoration-color: #008000\">'Godt spørgsmål—men jeg kan ikke se den økonomiske analyse, du henviser til, i denne tråd. Hvis du deler casen eller de base case-tal, jeg brugte (eller du forventer, jeg brugte), kan jeg svare præcist. Indtil da får du både:\\n- en standardliste over konkrete kvantitative antagelser, jeg normalt dokumenterer, og\\n- hvordan jeg typisk tester følsomheden af konklusionerne.\\n\\n1) Kvantitative antagelser jeg normalt fastlægger (DK-perspektiv)\\n- Tidsramme og valuta: prognosehorisont (fx 5–10 år) og DKK, real vs. nominel.\\n- Omsætning: prisniveau, volumen, mix, churn/ARPU (SaaS), sæson, eksportandel, evt. valutakurser.\\n- Vækst og inflation: årlig enhedsvækst og prisinflation pr. cost-driver.\\n- Brutto- og EBITDA-marginer: COGS/variable omkostninger og faste omkostninger (lønsatser, husleje, energi, S&amp;M, G&amp;A).\\n- Investeringer (capex) og afskrivninger: initialt capex, vedligeholdscapex, nyttige levetider, scrapværdi.\\n- Nettodriftskapital: DSO, DIO, DPO (dage), evt. forskudsbetalinger.\\n- Finansiering: gæld/egenkapital, rente (fast/variabel, margin over reference), afdrag, minimum DSCR, covenant-buffer.\\n- Skat og afgifter: selskabsskat (DK pt. 22%), momsbehandling (standard 25% men afhænger af branche/eksport), evt. lønsumsafgift/energiafgifter, skattemæssige afskrivninger og underskudsfremførsel.\\n- Diskonteringsrente: WACC (kapitalstruktur, kostnad for egenkapital og gæld, skatteværn).\\n- Tilskud/støtte og andre engangsposter.\\n\\n2) Følsomhed: sådan tester jeg dine konklusioner\\n- Enkelt-parameter følsomhed (tornado): ændr én input ad gangen (typisk ±10% eller ±1 procentpoint) og mål effekt på NPV, IRR, payback og DSCR. Ranger effekterne.\\n- Scenarier: Base, Upside og Downside (kombinerer fx lavere pris/volumen, højere energi/løn, højere rente).\\n- Break-even/thresholds: find grænser hvor NPV = 0, IRR = kapitalkrav, eller DSCR = covenant (fx 1,20x).\\n- Regler der ofte gælder:\\n  - Pris/volumen er næsten altid største driver, især ved høj driftsmæssig gearing.\\n  - WACC: En stigning på 1 procentpoint i WACC reducerer NPV desto mere, jo længere varige cashflows og jo tættere g er på WACC. Brug FCF1/(WACC−g)-intuitionen.\\n  - Rente: +200 bp på variabel gæld kan presse DSCR markant; følsomheden afhænger af gældsandelen og afdragstempo.\\n  - Bruttomargin: Små ændringer i pct.-point kan flytte NPV meget, hvis faste omkostninger er store.\\n  - Nettodriftskapital: En ændring på n dage i DSO ~ (n/365)×årlig omsætning i likviditet (engangseffekt).\\n  - Skat: Effektiv skattesats betyder mest, når projektet hurtigt bliver skattemæssigt profitabelt; med underskudsfremførsel udskydes effekten.\\n\\nVil du have et konkret svar for “din analyse”?\\n- Send venligst disse base case-tal (eller bekræft, at jeg må antage standarder nedenfor), så vender jeg tilbage med en kort følsomhedsoversigt:\\n  - År 1 omsætning (DKK), årlig vækst (%), pris vs. volumen-drivere\\n  - Bruttomargin (%), faste OPEX (DKK) og deres årlige stigning (%)\\n  - Capex: initialt (DKK) og som % af omsætning fremadrettet\\n  - DSO/DIO/DPO (dage)\\n  - Finansiering: gæld/egenkapital, rente og afdrag\\n  - WACC (%), inflationsantagelse (%)\\n  - Selskabsskat (%), momsforhold\\n- Alternativt kan jeg foreslå et “default” DK-setup (fx selskabsskat 22%, moms 25%, WACC 8–10%, variabel rente 5–7%, DSO 30/DIO 45/DPO 40) og teste ±10%/±1 pp på de vigtigste input – men jeg vil helst bruge dine tal for at vurdere, hvor robuste dine konklusioner er.'</span>,\n",
       "<span style=\"color: #7fbf7f; text-decoration-color: #7fbf7f\">│   │   │   │   │   </span><span style=\"color: #808000; text-decoration-color: #808000\">type</span>=<span style=\"color: #008000; text-decoration-color: #008000\">'output_text'</span>,\n",
       "<span style=\"color: #7fbf7f; text-decoration-color: #7fbf7f\">│   │   │   │   │   </span><span style=\"color: #808000; text-decoration-color: #808000\">logprobs</span>=<span style=\"font-weight: bold\">[]</span>\n",
       "<span style=\"color: #7fbf7f; text-decoration-color: #7fbf7f\">│   │   │   │   </span><span style=\"font-weight: bold\">)</span>\n",
       "<span style=\"color: #7fbf7f; text-decoration-color: #7fbf7f\">│   │   │   </span><span style=\"font-weight: bold\">]</span>,\n",
       "<span style=\"color: #7fbf7f; text-decoration-color: #7fbf7f\">│   │   │   </span><span style=\"color: #808000; text-decoration-color: #808000\">role</span>=<span style=\"color: #008000; text-decoration-color: #008000\">'assistant'</span>,\n",
       "<span style=\"color: #7fbf7f; text-decoration-color: #7fbf7f\">│   │   │   </span><span style=\"color: #808000; text-decoration-color: #808000\">status</span>=<span style=\"color: #008000; text-decoration-color: #008000\">'completed'</span>,\n",
       "<span style=\"color: #7fbf7f; text-decoration-color: #7fbf7f\">│   │   │   </span><span style=\"color: #808000; text-decoration-color: #808000\">type</span>=<span style=\"color: #008000; text-decoration-color: #008000\">'message'</span>\n",
       "<span style=\"color: #7fbf7f; text-decoration-color: #7fbf7f\">│   │   </span><span style=\"font-weight: bold\">)</span>\n",
       "<span style=\"color: #7fbf7f; text-decoration-color: #7fbf7f\">│   </span><span style=\"font-weight: bold\">]</span>,\n",
       "<span style=\"color: #7fbf7f; text-decoration-color: #7fbf7f\">│   </span><span style=\"color: #808000; text-decoration-color: #808000\">parallel_tool_calls</span>=<span style=\"color: #00ff00; text-decoration-color: #00ff00; font-style: italic\">True</span>,\n",
       "<span style=\"color: #7fbf7f; text-decoration-color: #7fbf7f\">│   </span><span style=\"color: #808000; text-decoration-color: #808000\">temperature</span>=<span style=\"color: #008080; text-decoration-color: #008080; font-weight: bold\">1.0</span>,\n",
       "<span style=\"color: #7fbf7f; text-decoration-color: #7fbf7f\">│   </span><span style=\"color: #808000; text-decoration-color: #808000\">tool_choice</span>=<span style=\"color: #008000; text-decoration-color: #008000\">'auto'</span>,\n",
       "<span style=\"color: #7fbf7f; text-decoration-color: #7fbf7f\">│   </span><span style=\"color: #808000; text-decoration-color: #808000\">tools</span>=<span style=\"font-weight: bold\">[</span>\n",
       "<span style=\"color: #7fbf7f; text-decoration-color: #7fbf7f\">│   │   </span><span style=\"color: #800080; text-decoration-color: #800080; font-weight: bold\">WebSearchTool</span><span style=\"font-weight: bold\">(</span>\n",
       "<span style=\"color: #7fbf7f; text-decoration-color: #7fbf7f\">│   │   │   </span><span style=\"color: #808000; text-decoration-color: #808000\">type</span>=<span style=\"color: #008000; text-decoration-color: #008000\">'web_search_preview'</span>,\n",
       "<span style=\"color: #7fbf7f; text-decoration-color: #7fbf7f\">│   │   │   </span><span style=\"color: #808000; text-decoration-color: #808000\">search_context_size</span>=<span style=\"color: #008000; text-decoration-color: #008000\">'high'</span>,\n",
       "<span style=\"color: #7fbf7f; text-decoration-color: #7fbf7f\">│   │   │   </span><span style=\"color: #808000; text-decoration-color: #808000\">user_location</span>=<span style=\"color: #800080; text-decoration-color: #800080; font-weight: bold\">UserLocation</span><span style=\"font-weight: bold\">(</span>\n",
       "<span style=\"color: #7fbf7f; text-decoration-color: #7fbf7f\">│   │   │   │   </span><span style=\"color: #808000; text-decoration-color: #808000\">type</span>=<span style=\"color: #008000; text-decoration-color: #008000\">'approximate'</span>,\n",
       "<span style=\"color: #7fbf7f; text-decoration-color: #7fbf7f\">│   │   │   │   </span><span style=\"color: #808000; text-decoration-color: #808000\">city</span>=<span style=\"color: #008000; text-decoration-color: #008000\">'Copenhagen'</span>,\n",
       "<span style=\"color: #7fbf7f; text-decoration-color: #7fbf7f\">│   │   │   │   </span><span style=\"color: #808000; text-decoration-color: #808000\">country</span>=<span style=\"color: #008000; text-decoration-color: #008000\">'DK'</span>,\n",
       "<span style=\"color: #7fbf7f; text-decoration-color: #7fbf7f\">│   │   │   │   </span><span style=\"color: #808000; text-decoration-color: #808000\">region</span>=<span style=\"color: #008000; text-decoration-color: #008000\">'Denmark'</span>,\n",
       "<span style=\"color: #7fbf7f; text-decoration-color: #7fbf7f\">│   │   │   │   </span><span style=\"color: #808000; text-decoration-color: #808000\">timezone</span>=<span style=\"color: #800080; text-decoration-color: #800080; font-style: italic\">None</span>\n",
       "<span style=\"color: #7fbf7f; text-decoration-color: #7fbf7f\">│   │   │   </span><span style=\"font-weight: bold\">)</span>\n",
       "<span style=\"color: #7fbf7f; text-decoration-color: #7fbf7f\">│   │   </span><span style=\"font-weight: bold\">)</span>\n",
       "<span style=\"color: #7fbf7f; text-decoration-color: #7fbf7f\">│   </span><span style=\"font-weight: bold\">]</span>,\n",
       "<span style=\"color: #7fbf7f; text-decoration-color: #7fbf7f\">│   </span><span style=\"color: #808000; text-decoration-color: #808000\">top_p</span>=<span style=\"color: #008080; text-decoration-color: #008080; font-weight: bold\">1.0</span>,\n",
       "<span style=\"color: #7fbf7f; text-decoration-color: #7fbf7f\">│   </span><span style=\"color: #808000; text-decoration-color: #808000\">background</span>=<span style=\"color: #ff0000; text-decoration-color: #ff0000; font-style: italic\">False</span>,\n",
       "<span style=\"color: #7fbf7f; text-decoration-color: #7fbf7f\">│   </span><span style=\"color: #808000; text-decoration-color: #808000\">conversation</span>=<span style=\"color: #800080; text-decoration-color: #800080; font-style: italic\">None</span>,\n",
       "<span style=\"color: #7fbf7f; text-decoration-color: #7fbf7f\">│   </span><span style=\"color: #808000; text-decoration-color: #808000\">max_output_tokens</span>=<span style=\"color: #800080; text-decoration-color: #800080; font-style: italic\">None</span>,\n",
       "<span style=\"color: #7fbf7f; text-decoration-color: #7fbf7f\">│   </span><span style=\"color: #808000; text-decoration-color: #808000\">max_tool_calls</span>=<span style=\"color: #800080; text-decoration-color: #800080; font-style: italic\">None</span>,\n",
       "<span style=\"color: #7fbf7f; text-decoration-color: #7fbf7f\">│   </span><span style=\"color: #808000; text-decoration-color: #808000\">previous_response_id</span>=<span style=\"color: #800080; text-decoration-color: #800080; font-style: italic\">None</span>,\n",
       "<span style=\"color: #7fbf7f; text-decoration-color: #7fbf7f\">│   </span><span style=\"color: #808000; text-decoration-color: #808000\">prompt</span>=<span style=\"color: #800080; text-decoration-color: #800080; font-style: italic\">None</span>,\n",
       "<span style=\"color: #7fbf7f; text-decoration-color: #7fbf7f\">│   </span><span style=\"color: #808000; text-decoration-color: #808000\">prompt_cache_key</span>=<span style=\"color: #800080; text-decoration-color: #800080; font-style: italic\">None</span>,\n",
       "<span style=\"color: #7fbf7f; text-decoration-color: #7fbf7f\">│   </span><span style=\"color: #808000; text-decoration-color: #808000\">reasoning</span>=<span style=\"color: #800080; text-decoration-color: #800080; font-weight: bold\">Reasoning</span><span style=\"font-weight: bold\">(</span><span style=\"color: #808000; text-decoration-color: #808000\">effort</span>=<span style=\"color: #008000; text-decoration-color: #008000\">'medium'</span>, <span style=\"color: #808000; text-decoration-color: #808000\">generate_summary</span>=<span style=\"color: #800080; text-decoration-color: #800080; font-style: italic\">None</span>, <span style=\"color: #808000; text-decoration-color: #808000\">summary</span>=<span style=\"color: #800080; text-decoration-color: #800080; font-style: italic\">None</span><span style=\"font-weight: bold\">)</span>,\n",
       "<span style=\"color: #7fbf7f; text-decoration-color: #7fbf7f\">│   </span><span style=\"color: #808000; text-decoration-color: #808000\">safety_identifier</span>=<span style=\"color: #800080; text-decoration-color: #800080; font-style: italic\">None</span>,\n",
       "<span style=\"color: #7fbf7f; text-decoration-color: #7fbf7f\">│   </span><span style=\"color: #808000; text-decoration-color: #808000\">service_tier</span>=<span style=\"color: #008000; text-decoration-color: #008000\">'auto'</span>,\n",
       "<span style=\"color: #7fbf7f; text-decoration-color: #7fbf7f\">│   </span><span style=\"color: #808000; text-decoration-color: #808000\">status</span>=<span style=\"color: #008000; text-decoration-color: #008000\">'completed'</span>,\n",
       "<span style=\"color: #7fbf7f; text-decoration-color: #7fbf7f\">│   </span><span style=\"color: #808000; text-decoration-color: #808000\">text</span>=<span style=\"color: #800080; text-decoration-color: #800080; font-weight: bold\">ResponseTextConfig</span><span style=\"font-weight: bold\">(</span><span style=\"color: #808000; text-decoration-color: #808000\">format</span>=<span style=\"color: #800080; text-decoration-color: #800080; font-weight: bold\">ResponseFormatText</span><span style=\"font-weight: bold\">(</span><span style=\"color: #808000; text-decoration-color: #808000\">type</span>=<span style=\"color: #008000; text-decoration-color: #008000\">'text'</span><span style=\"font-weight: bold\">)</span>, <span style=\"color: #808000; text-decoration-color: #808000\">verbosity</span>=<span style=\"color: #008000; text-decoration-color: #008000\">'medium'</span><span style=\"font-weight: bold\">)</span>,\n",
       "<span style=\"color: #7fbf7f; text-decoration-color: #7fbf7f\">│   </span><span style=\"color: #808000; text-decoration-color: #808000\">top_logprobs</span>=<span style=\"color: #008080; text-decoration-color: #008080; font-weight: bold\">0</span>,\n",
       "<span style=\"color: #7fbf7f; text-decoration-color: #7fbf7f\">│   </span><span style=\"color: #808000; text-decoration-color: #808000\">truncation</span>=<span style=\"color: #008000; text-decoration-color: #008000\">'disabled'</span>,\n",
       "<span style=\"color: #7fbf7f; text-decoration-color: #7fbf7f\">│   </span><span style=\"color: #808000; text-decoration-color: #808000\">usage</span>=<span style=\"color: #800080; text-decoration-color: #800080; font-weight: bold\">ResponseUsage</span><span style=\"font-weight: bold\">(</span>\n",
       "<span style=\"color: #7fbf7f; text-decoration-color: #7fbf7f\">│   │   </span><span style=\"color: #808000; text-decoration-color: #808000\">input_tokens</span>=<span style=\"color: #008080; text-decoration-color: #008080; font-weight: bold\">4484</span>,\n",
       "<span style=\"color: #7fbf7f; text-decoration-color: #7fbf7f\">│   │   </span><span style=\"color: #808000; text-decoration-color: #808000\">input_tokens_details</span>=<span style=\"color: #800080; text-decoration-color: #800080; font-weight: bold\">InputTokensDetails</span><span style=\"font-weight: bold\">(</span><span style=\"color: #808000; text-decoration-color: #808000\">cached_tokens</span>=<span style=\"color: #008080; text-decoration-color: #008080; font-weight: bold\">4096</span><span style=\"font-weight: bold\">)</span>,\n",
       "<span style=\"color: #7fbf7f; text-decoration-color: #7fbf7f\">│   │   </span><span style=\"color: #808000; text-decoration-color: #808000\">output_tokens</span>=<span style=\"color: #008080; text-decoration-color: #008080; font-weight: bold\">3149</span>,\n",
       "<span style=\"color: #7fbf7f; text-decoration-color: #7fbf7f\">│   │   </span><span style=\"color: #808000; text-decoration-color: #808000\">output_tokens_details</span>=<span style=\"color: #800080; text-decoration-color: #800080; font-weight: bold\">OutputTokensDetails</span><span style=\"font-weight: bold\">(</span><span style=\"color: #808000; text-decoration-color: #808000\">reasoning_tokens</span>=<span style=\"color: #008080; text-decoration-color: #008080; font-weight: bold\">2048</span><span style=\"font-weight: bold\">)</span>,\n",
       "<span style=\"color: #7fbf7f; text-decoration-color: #7fbf7f\">│   │   </span><span style=\"color: #808000; text-decoration-color: #808000\">total_tokens</span>=<span style=\"color: #008080; text-decoration-color: #008080; font-weight: bold\">7633</span>\n",
       "<span style=\"color: #7fbf7f; text-decoration-color: #7fbf7f\">│   </span><span style=\"font-weight: bold\">)</span>,\n",
       "<span style=\"color: #7fbf7f; text-decoration-color: #7fbf7f\">│   </span><span style=\"color: #808000; text-decoration-color: #808000\">user</span>=<span style=\"color: #800080; text-decoration-color: #800080; font-style: italic\">None</span>,\n",
       "<span style=\"color: #7fbf7f; text-decoration-color: #7fbf7f\">│   </span><span style=\"color: #808000; text-decoration-color: #808000\">store</span>=<span style=\"color: #00ff00; text-decoration-color: #00ff00; font-style: italic\">True</span>\n",
       "<span style=\"font-weight: bold\">)</span>\n",
       "</pre>\n"
      ],
      "text/plain": [
       "\u001b[1;35mResponse\u001b[0m\u001b[1m(\u001b[0m\n",
       "\u001b[2;32m│   \u001b[0m\u001b[33mid\u001b[0m=\u001b[32m'resp_68aabeb4cf0c819685ea2c08226bc9ad027168f817c34db1'\u001b[0m,\n",
       "\u001b[2;32m│   \u001b[0m\u001b[33mcreated_at\u001b[0m=\u001b[1;36m1756020404\u001b[0m\u001b[1;36m.0\u001b[0m,\n",
       "\u001b[2;32m│   \u001b[0m\u001b[33merror\u001b[0m=\u001b[3;35mNone\u001b[0m,\n",
       "\u001b[2;32m│   \u001b[0m\u001b[33mincomplete_details\u001b[0m=\u001b[3;35mNone\u001b[0m,\n",
       "\u001b[2;32m│   \u001b[0m\u001b[33minstructions\u001b[0m=\u001b[3;35mNone\u001b[0m,\n",
       "\u001b[2;32m│   \u001b[0m\u001b[33mmetadata\u001b[0m=\u001b[1m{\u001b[0m\u001b[1m}\u001b[0m,\n",
       "\u001b[2;32m│   \u001b[0m\u001b[33mmodel\u001b[0m=\u001b[32m'gpt-5-2025-08-07'\u001b[0m,\n",
       "\u001b[2;32m│   \u001b[0m\u001b[33mobject\u001b[0m=\u001b[32m'response'\u001b[0m,\n",
       "\u001b[2;32m│   \u001b[0m\u001b[33moutput\u001b[0m=\u001b[1m[\u001b[0m\n",
       "\u001b[2;32m│   │   \u001b[0m\u001b[1;35mResponseReasoningItem\u001b[0m\u001b[1m(\u001b[0m\n",
       "\u001b[2;32m│   │   │   \u001b[0m\u001b[33mid\u001b[0m=\u001b[32m'rs_68aabeb58b94819687813e2622b955ff027168f817c34db1'\u001b[0m,\n",
       "\u001b[2;32m│   │   │   \u001b[0m\u001b[33msummary\u001b[0m=\u001b[1m[\u001b[0m\u001b[1m]\u001b[0m,\n",
       "\u001b[2;32m│   │   │   \u001b[0m\u001b[33mtype\u001b[0m=\u001b[32m'reasoning'\u001b[0m,\n",
       "\u001b[2;32m│   │   │   \u001b[0m\u001b[33mcontent\u001b[0m=\u001b[3;35mNone\u001b[0m,\n",
       "\u001b[2;32m│   │   │   \u001b[0m\u001b[33mencrypted_content\u001b[0m=\u001b[3;35mNone\u001b[0m,\n",
       "\u001b[2;32m│   │   │   \u001b[0m\u001b[33mstatus\u001b[0m=\u001b[3;35mNone\u001b[0m\n",
       "\u001b[2;32m│   │   \u001b[0m\u001b[1m)\u001b[0m,\n",
       "\u001b[2;32m│   │   \u001b[0m\u001b[1;35mResponseOutputMessage\u001b[0m\u001b[1m(\u001b[0m\n",
       "\u001b[2;32m│   │   │   \u001b[0m\u001b[33mid\u001b[0m=\u001b[32m'msg_68aabedb02dc8196b7451465fc4b5121027168f817c34db1'\u001b[0m,\n",
       "\u001b[2;32m│   │   │   \u001b[0m\u001b[33mcontent\u001b[0m=\u001b[1m[\u001b[0m\n",
       "\u001b[2;32m│   │   │   │   \u001b[0m\u001b[1;35mResponseOutputText\u001b[0m\u001b[1m(\u001b[0m\n",
       "\u001b[2;32m│   │   │   │   │   \u001b[0m\u001b[33mannotations\u001b[0m=\u001b[1m[\u001b[0m\u001b[1m]\u001b[0m,\n",
       "\u001b[2;32m│   │   │   │   │   \u001b[0m\u001b[33mtext\u001b[0m=\u001b[32m'Godt spørgsmål—men jeg kan ikke se den økonomiske analyse, du henviser til, i denne tråd. Hvis du deler casen eller de base case-tal, jeg brugte \u001b[0m\u001b[32m(\u001b[0m\u001b[32meller du forventer, jeg brugte\u001b[0m\u001b[32m)\u001b[0m\u001b[32m, kan jeg svare præcist. Indtil da får du både:\\n- en standardliste over konkrete kvantitative antagelser, jeg normalt dokumenterer, og\\n- hvordan jeg typisk tester følsomheden af konklusionerne.\\n\\n1\u001b[0m\u001b[32m)\u001b[0m\u001b[32m Kvantitative antagelser jeg normalt fastlægger \u001b[0m\u001b[32m(\u001b[0m\u001b[32mDK-perspektiv\u001b[0m\u001b[32m)\u001b[0m\u001b[32m\\n- Tidsramme og valuta: prognosehorisont \u001b[0m\u001b[32m(\u001b[0m\u001b[32mfx 5–10 år\u001b[0m\u001b[32m)\u001b[0m\u001b[32m og DKK, real vs. nominel.\\n- Omsætning: prisniveau, volumen, mix, churn/ARPU \u001b[0m\u001b[32m(\u001b[0m\u001b[32mSaaS\u001b[0m\u001b[32m)\u001b[0m\u001b[32m, sæson, eksportandel, evt. valutakurser.\\n- Vækst og inflation: årlig enhedsvækst og prisinflation pr. cost-driver.\\n- Brutto- og EBITDA-marginer: COGS/variable omkostninger og faste omkostninger \u001b[0m\u001b[32m(\u001b[0m\u001b[32mlønsatser, husleje, energi, S&M, G&A\u001b[0m\u001b[32m)\u001b[0m\u001b[32m.\\n- Investeringer \u001b[0m\u001b[32m(\u001b[0m\u001b[32mcapex\u001b[0m\u001b[32m)\u001b[0m\u001b[32m og afskrivninger: initialt capex, vedligeholdscapex, nyttige levetider, scrapværdi.\\n- Nettodriftskapital: DSO, DIO, DPO \u001b[0m\u001b[32m(\u001b[0m\u001b[32mdage\u001b[0m\u001b[32m)\u001b[0m\u001b[32m, evt. forskudsbetalinger.\\n- Finansiering: gæld/egenkapital, rente \u001b[0m\u001b[32m(\u001b[0m\u001b[32mfast/variabel, margin over reference\u001b[0m\u001b[32m)\u001b[0m\u001b[32m, afdrag, minimum DSCR, covenant-buffer.\\n- Skat og afgifter: selskabsskat \u001b[0m\u001b[32m(\u001b[0m\u001b[32mDK pt. 22%\u001b[0m\u001b[32m)\u001b[0m\u001b[32m, momsbehandling \u001b[0m\u001b[32m(\u001b[0m\u001b[32mstandard 25% men afhænger af branche/eksport\u001b[0m\u001b[32m)\u001b[0m\u001b[32m, evt. lønsumsafgift/energiafgifter, skattemæssige afskrivninger og underskudsfremførsel.\\n- Diskonteringsrente: WACC \u001b[0m\u001b[32m(\u001b[0m\u001b[32mkapitalstruktur, kostnad for egenkapital og gæld, skatteværn\u001b[0m\u001b[32m)\u001b[0m\u001b[32m.\\n- Tilskud/støtte og andre engangsposter.\\n\\n2\u001b[0m\u001b[32m)\u001b[0m\u001b[32m Følsomhed: sådan tester jeg dine konklusioner\\n- Enkelt-parameter følsomhed \u001b[0m\u001b[32m(\u001b[0m\u001b[32mtornado\u001b[0m\u001b[32m)\u001b[0m\u001b[32m: ændr én input ad gangen \u001b[0m\u001b[32m(\u001b[0m\u001b[32mtypisk ±10% eller ±1 procentpoint\u001b[0m\u001b[32m)\u001b[0m\u001b[32m og mål effekt på NPV, IRR, payback og DSCR. Ranger effekterne.\\n- Scenarier: Base, Upside og Downside \u001b[0m\u001b[32m(\u001b[0m\u001b[32mkombinerer fx lavere pris/volumen, højere energi/løn, højere rente\u001b[0m\u001b[32m)\u001b[0m\u001b[32m.\\n- Break-even/thresholds: find grænser hvor NPV = 0, IRR = kapitalkrav, eller DSCR = covenant \u001b[0m\u001b[32m(\u001b[0m\u001b[32mfx 1,20x\u001b[0m\u001b[32m)\u001b[0m\u001b[32m.\\n- Regler der ofte gælder:\\n  - Pris/volumen er næsten altid største driver, især ved høj driftsmæssig gearing.\\n  - WACC: En stigning på 1 procentpoint i WACC reducerer NPV desto mere, jo længere varige cashflows og jo tættere g er på WACC. Brug FCF1/\u001b[0m\u001b[32m(\u001b[0m\u001b[32mWACC−g\u001b[0m\u001b[32m)\u001b[0m\u001b[32m-intuitionen.\\n  - Rente: +200 bp på variabel gæld kan presse DSCR markant; følsomheden afhænger af gældsandelen og afdragstempo.\\n  - Bruttomargin: Små ændringer i pct.-point kan flytte NPV meget, hvis faste omkostninger er store.\\n  - Nettodriftskapital: En ændring på n dage i DSO ~ \u001b[0m\u001b[32m(\u001b[0m\u001b[32mn/365\u001b[0m\u001b[32m)\u001b[0m\u001b[32m×årlig omsætning i likviditet \u001b[0m\u001b[32m(\u001b[0m\u001b[32mengangseffekt\u001b[0m\u001b[32m)\u001b[0m\u001b[32m.\\n  - Skat: Effektiv skattesats betyder mest, når projektet hurtigt bliver skattemæssigt profitabelt; med underskudsfremførsel udskydes effekten.\\n\\nVil du have et konkret svar for “din analyse”?\\n- Send venligst disse base case-tal \u001b[0m\u001b[32m(\u001b[0m\u001b[32meller bekræft, at jeg må antage standarder nedenfor\u001b[0m\u001b[32m)\u001b[0m\u001b[32m, så vender jeg tilbage med en kort følsomhedsoversigt:\\n  - År 1 omsætning \u001b[0m\u001b[32m(\u001b[0m\u001b[32mDKK\u001b[0m\u001b[32m)\u001b[0m\u001b[32m, årlig vækst \u001b[0m\u001b[32m(\u001b[0m\u001b[32m%\u001b[0m\u001b[32m)\u001b[0m\u001b[32m, pris vs. volumen-drivere\\n  - Bruttomargin \u001b[0m\u001b[32m(\u001b[0m\u001b[32m%\u001b[0m\u001b[32m)\u001b[0m\u001b[32m, faste OPEX \u001b[0m\u001b[32m(\u001b[0m\u001b[32mDKK\u001b[0m\u001b[32m)\u001b[0m\u001b[32m og deres årlige stigning \u001b[0m\u001b[32m(\u001b[0m\u001b[32m%\u001b[0m\u001b[32m)\u001b[0m\u001b[32m\\n  - Capex: initialt \u001b[0m\u001b[32m(\u001b[0m\u001b[32mDKK\u001b[0m\u001b[32m)\u001b[0m\u001b[32m og som % af omsætning fremadrettet\\n  - DSO/DIO/DPO \u001b[0m\u001b[32m(\u001b[0m\u001b[32mdage\u001b[0m\u001b[32m)\u001b[0m\u001b[32m\\n  - Finansiering: gæld/egenkapital, rente og afdrag\\n  - WACC \u001b[0m\u001b[32m(\u001b[0m\u001b[32m%\u001b[0m\u001b[32m)\u001b[0m\u001b[32m, inflationsantagelse \u001b[0m\u001b[32m(\u001b[0m\u001b[32m%\u001b[0m\u001b[32m)\u001b[0m\u001b[32m\\n  - Selskabsskat \u001b[0m\u001b[32m(\u001b[0m\u001b[32m%\u001b[0m\u001b[32m)\u001b[0m\u001b[32m, momsforhold\\n- Alternativt kan jeg foreslå et “default” DK-setup \u001b[0m\u001b[32m(\u001b[0m\u001b[32mfx selskabsskat 22%, moms 25%, WACC 8–10%, variabel rente 5–7%, DSO 30/DIO 45/DPO 40\u001b[0m\u001b[32m)\u001b[0m\u001b[32m og teste ±10%/±1 pp på de vigtigste input – men jeg vil helst bruge dine tal for at vurdere, hvor robuste dine konklusioner er.'\u001b[0m,\n",
       "\u001b[2;32m│   │   │   │   │   \u001b[0m\u001b[33mtype\u001b[0m=\u001b[32m'output_text'\u001b[0m,\n",
       "\u001b[2;32m│   │   │   │   │   \u001b[0m\u001b[33mlogprobs\u001b[0m=\u001b[1m[\u001b[0m\u001b[1m]\u001b[0m\n",
       "\u001b[2;32m│   │   │   │   \u001b[0m\u001b[1m)\u001b[0m\n",
       "\u001b[2;32m│   │   │   \u001b[0m\u001b[1m]\u001b[0m,\n",
       "\u001b[2;32m│   │   │   \u001b[0m\u001b[33mrole\u001b[0m=\u001b[32m'assistant'\u001b[0m,\n",
       "\u001b[2;32m│   │   │   \u001b[0m\u001b[33mstatus\u001b[0m=\u001b[32m'completed'\u001b[0m,\n",
       "\u001b[2;32m│   │   │   \u001b[0m\u001b[33mtype\u001b[0m=\u001b[32m'message'\u001b[0m\n",
       "\u001b[2;32m│   │   \u001b[0m\u001b[1m)\u001b[0m\n",
       "\u001b[2;32m│   \u001b[0m\u001b[1m]\u001b[0m,\n",
       "\u001b[2;32m│   \u001b[0m\u001b[33mparallel_tool_calls\u001b[0m=\u001b[3;92mTrue\u001b[0m,\n",
       "\u001b[2;32m│   \u001b[0m\u001b[33mtemperature\u001b[0m=\u001b[1;36m1\u001b[0m\u001b[1;36m.0\u001b[0m,\n",
       "\u001b[2;32m│   \u001b[0m\u001b[33mtool_choice\u001b[0m=\u001b[32m'auto'\u001b[0m,\n",
       "\u001b[2;32m│   \u001b[0m\u001b[33mtools\u001b[0m=\u001b[1m[\u001b[0m\n",
       "\u001b[2;32m│   │   \u001b[0m\u001b[1;35mWebSearchTool\u001b[0m\u001b[1m(\u001b[0m\n",
       "\u001b[2;32m│   │   │   \u001b[0m\u001b[33mtype\u001b[0m=\u001b[32m'web_search_preview'\u001b[0m,\n",
       "\u001b[2;32m│   │   │   \u001b[0m\u001b[33msearch_context_size\u001b[0m=\u001b[32m'high'\u001b[0m,\n",
       "\u001b[2;32m│   │   │   \u001b[0m\u001b[33muser_location\u001b[0m=\u001b[1;35mUserLocation\u001b[0m\u001b[1m(\u001b[0m\n",
       "\u001b[2;32m│   │   │   │   \u001b[0m\u001b[33mtype\u001b[0m=\u001b[32m'approximate'\u001b[0m,\n",
       "\u001b[2;32m│   │   │   │   \u001b[0m\u001b[33mcity\u001b[0m=\u001b[32m'Copenhagen'\u001b[0m,\n",
       "\u001b[2;32m│   │   │   │   \u001b[0m\u001b[33mcountry\u001b[0m=\u001b[32m'DK'\u001b[0m,\n",
       "\u001b[2;32m│   │   │   │   \u001b[0m\u001b[33mregion\u001b[0m=\u001b[32m'Denmark'\u001b[0m,\n",
       "\u001b[2;32m│   │   │   │   \u001b[0m\u001b[33mtimezone\u001b[0m=\u001b[3;35mNone\u001b[0m\n",
       "\u001b[2;32m│   │   │   \u001b[0m\u001b[1m)\u001b[0m\n",
       "\u001b[2;32m│   │   \u001b[0m\u001b[1m)\u001b[0m\n",
       "\u001b[2;32m│   \u001b[0m\u001b[1m]\u001b[0m,\n",
       "\u001b[2;32m│   \u001b[0m\u001b[33mtop_p\u001b[0m=\u001b[1;36m1\u001b[0m\u001b[1;36m.0\u001b[0m,\n",
       "\u001b[2;32m│   \u001b[0m\u001b[33mbackground\u001b[0m=\u001b[3;91mFalse\u001b[0m,\n",
       "\u001b[2;32m│   \u001b[0m\u001b[33mconversation\u001b[0m=\u001b[3;35mNone\u001b[0m,\n",
       "\u001b[2;32m│   \u001b[0m\u001b[33mmax_output_tokens\u001b[0m=\u001b[3;35mNone\u001b[0m,\n",
       "\u001b[2;32m│   \u001b[0m\u001b[33mmax_tool_calls\u001b[0m=\u001b[3;35mNone\u001b[0m,\n",
       "\u001b[2;32m│   \u001b[0m\u001b[33mprevious_response_id\u001b[0m=\u001b[3;35mNone\u001b[0m,\n",
       "\u001b[2;32m│   \u001b[0m\u001b[33mprompt\u001b[0m=\u001b[3;35mNone\u001b[0m,\n",
       "\u001b[2;32m│   \u001b[0m\u001b[33mprompt_cache_key\u001b[0m=\u001b[3;35mNone\u001b[0m,\n",
       "\u001b[2;32m│   \u001b[0m\u001b[33mreasoning\u001b[0m=\u001b[1;35mReasoning\u001b[0m\u001b[1m(\u001b[0m\u001b[33meffort\u001b[0m=\u001b[32m'medium'\u001b[0m, \u001b[33mgenerate_summary\u001b[0m=\u001b[3;35mNone\u001b[0m, \u001b[33msummary\u001b[0m=\u001b[3;35mNone\u001b[0m\u001b[1m)\u001b[0m,\n",
       "\u001b[2;32m│   \u001b[0m\u001b[33msafety_identifier\u001b[0m=\u001b[3;35mNone\u001b[0m,\n",
       "\u001b[2;32m│   \u001b[0m\u001b[33mservice_tier\u001b[0m=\u001b[32m'auto'\u001b[0m,\n",
       "\u001b[2;32m│   \u001b[0m\u001b[33mstatus\u001b[0m=\u001b[32m'completed'\u001b[0m,\n",
       "\u001b[2;32m│   \u001b[0m\u001b[33mtext\u001b[0m=\u001b[1;35mResponseTextConfig\u001b[0m\u001b[1m(\u001b[0m\u001b[33mformat\u001b[0m=\u001b[1;35mResponseFormatText\u001b[0m\u001b[1m(\u001b[0m\u001b[33mtype\u001b[0m=\u001b[32m'text'\u001b[0m\u001b[1m)\u001b[0m, \u001b[33mverbosity\u001b[0m=\u001b[32m'medium'\u001b[0m\u001b[1m)\u001b[0m,\n",
       "\u001b[2;32m│   \u001b[0m\u001b[33mtop_logprobs\u001b[0m=\u001b[1;36m0\u001b[0m,\n",
       "\u001b[2;32m│   \u001b[0m\u001b[33mtruncation\u001b[0m=\u001b[32m'disabled'\u001b[0m,\n",
       "\u001b[2;32m│   \u001b[0m\u001b[33musage\u001b[0m=\u001b[1;35mResponseUsage\u001b[0m\u001b[1m(\u001b[0m\n",
       "\u001b[2;32m│   │   \u001b[0m\u001b[33minput_tokens\u001b[0m=\u001b[1;36m4484\u001b[0m,\n",
       "\u001b[2;32m│   │   \u001b[0m\u001b[33minput_tokens_details\u001b[0m=\u001b[1;35mInputTokensDetails\u001b[0m\u001b[1m(\u001b[0m\u001b[33mcached_tokens\u001b[0m=\u001b[1;36m4096\u001b[0m\u001b[1m)\u001b[0m,\n",
       "\u001b[2;32m│   │   \u001b[0m\u001b[33moutput_tokens\u001b[0m=\u001b[1;36m3149\u001b[0m,\n",
       "\u001b[2;32m│   │   \u001b[0m\u001b[33moutput_tokens_details\u001b[0m=\u001b[1;35mOutputTokensDetails\u001b[0m\u001b[1m(\u001b[0m\u001b[33mreasoning_tokens\u001b[0m=\u001b[1;36m2048\u001b[0m\u001b[1m)\u001b[0m,\n",
       "\u001b[2;32m│   │   \u001b[0m\u001b[33mtotal_tokens\u001b[0m=\u001b[1;36m7633\u001b[0m\n",
       "\u001b[2;32m│   \u001b[0m\u001b[1m)\u001b[0m,\n",
       "\u001b[2;32m│   \u001b[0m\u001b[33muser\u001b[0m=\u001b[3;35mNone\u001b[0m,\n",
       "\u001b[2;32m│   \u001b[0m\u001b[33mstore\u001b[0m=\u001b[3;92mTrue\u001b[0m\n",
       "\u001b[1m)\u001b[0m\n"
      ]
     },
     "metadata": {},
     "output_type": "display_data"
    }
   ],
   "source": [
    "from rich.pretty import pprint\n",
    "\n",
    "pprint(response)"
   ]
  },
  {
   "cell_type": "code",
   "execution_count": 20,
   "id": "b159b4c8",
   "metadata": {},
   "outputs": [
    {
     "name": "stdout",
     "output_type": "stream",
     "text": [
      "Godt spørgsmål—men jeg kan ikke se den økonomiske analyse, du henviser til, i denne tråd. Hvis du deler casen eller de base case-tal, jeg brugte (eller du forventer, jeg brugte), kan jeg svare præcist. Indtil da får du både:\n",
      "- en standardliste over konkrete kvantitative antagelser, jeg normalt dokumenterer, og\n",
      "- hvordan jeg typisk tester følsomheden af konklusionerne.\n",
      "\n",
      "1) Kvantitative antagelser jeg normalt fastlægger (DK-perspektiv)\n",
      "- Tidsramme og valuta: prognosehorisont (fx 5–10 år) og DKK, real vs. nominel.\n",
      "- Omsætning: prisniveau, volumen, mix, churn/ARPU (SaaS), sæson, eksportandel, evt. valutakurser.\n",
      "- Vækst og inflation: årlig enhedsvækst og prisinflation pr. cost-driver.\n",
      "- Brutto- og EBITDA-marginer: COGS/variable omkostninger og faste omkostninger (lønsatser, husleje, energi, S&M, G&A).\n",
      "- Investeringer (capex) og afskrivninger: initialt capex, vedligeholdscapex, nyttige levetider, scrapværdi.\n",
      "- Nettodriftskapital: DSO, DIO, DPO (dage), evt. forskudsbetalinger.\n",
      "- Finansiering: gæld/egenkapital, rente (fast/variabel, margin over reference), afdrag, minimum DSCR, covenant-buffer.\n",
      "- Skat og afgifter: selskabsskat (DK pt. 22%), momsbehandling (standard 25% men afhænger af branche/eksport), evt. lønsumsafgift/energiafgifter, skattemæssige afskrivninger og underskudsfremførsel.\n",
      "- Diskonteringsrente: WACC (kapitalstruktur, kostnad for egenkapital og gæld, skatteværn).\n",
      "- Tilskud/støtte og andre engangsposter.\n",
      "\n",
      "2) Følsomhed: sådan tester jeg dine konklusioner\n",
      "- Enkelt-parameter følsomhed (tornado): ændr én input ad gangen (typisk ±10% eller ±1 procentpoint) og mål effekt på NPV, IRR, payback og DSCR. Ranger effekterne.\n",
      "- Scenarier: Base, Upside og Downside (kombinerer fx lavere pris/volumen, højere energi/løn, højere rente).\n",
      "- Break-even/thresholds: find grænser hvor NPV = 0, IRR = kapitalkrav, eller DSCR = covenant (fx 1,20x).\n",
      "- Regler der ofte gælder:\n",
      "  - Pris/volumen er næsten altid største driver, især ved høj driftsmæssig gearing.\n",
      "  - WACC: En stigning på 1 procentpoint i WACC reducerer NPV desto mere, jo længere varige cashflows og jo tættere g er på WACC. Brug FCF1/(WACC−g)-intuitionen.\n",
      "  - Rente: +200 bp på variabel gæld kan presse DSCR markant; følsomheden afhænger af gældsandelen og afdragstempo.\n",
      "  - Bruttomargin: Små ændringer i pct.-point kan flytte NPV meget, hvis faste omkostninger er store.\n",
      "  - Nettodriftskapital: En ændring på n dage i DSO ~ (n/365)×årlig omsætning i likviditet (engangseffekt).\n",
      "  - Skat: Effektiv skattesats betyder mest, når projektet hurtigt bliver skattemæssigt profitabelt; med underskudsfremførsel udskydes effekten.\n",
      "\n",
      "Vil du have et konkret svar for “din analyse”?\n",
      "- Send venligst disse base case-tal (eller bekræft, at jeg må antage standarder nedenfor), så vender jeg tilbage med en kort følsomhedsoversigt:\n",
      "  - År 1 omsætning (DKK), årlig vækst (%), pris vs. volumen-drivere\n",
      "  - Bruttomargin (%), faste OPEX (DKK) og deres årlige stigning (%)\n",
      "  - Capex: initialt (DKK) og som % af omsætning fremadrettet\n",
      "  - DSO/DIO/DPO (dage)\n",
      "  - Finansiering: gæld/egenkapital, rente og afdrag\n",
      "  - WACC (%), inflationsantagelse (%)\n",
      "  - Selskabsskat (%), momsforhold\n",
      "- Alternativt kan jeg foreslå et “default” DK-setup (fx selskabsskat 22%, moms 25%, WACC 8–10%, variabel rente 5–7%, DSO 30/DIO 45/DPO 40) og teste ±10%/±1 pp på de vigtigste input – men jeg vil helst bruge dine tal for at vurdere, hvor robuste dine konklusioner er.\n"
     ]
    }
   ],
   "source": [
    "print(response.output_text)"
   ]
  },
  {
   "cell_type": "markdown",
   "id": "e14dd61c",
   "metadata": {},
   "source": [
    "### tavily search"
   ]
  },
  {
   "cell_type": "code",
   "execution_count": 24,
   "id": "a35fa284",
   "metadata": {},
   "outputs": [
    {
     "name": "stderr",
     "output_type": "stream",
     "text": [
      "/var/folders/0g/4n6rzj1n21n6dlmfrdjkpj9m0000gn/T/ipykernel_37894/3668718499.py:2: LangChainDeprecationWarning: The class `TavilySearchResults` was deprecated in LangChain 0.3.25 and will be removed in 1.0. An updated version of the class exists in the :class:`~langchain-tavily package and should be used instead. To use it run `pip install -U :class:`~langchain-tavily` and import as `from :class:`~langchain_tavily import TavilySearch``.\n",
      "  tavily_search = TavilySearchResults(max_results=2)\n"
     ]
    }
   ],
   "source": [
    "from langchain_community.tools.tavily_search import TavilySearchResults\n",
    "tavily_search = TavilySearchResults(max_results=2)\n",
    "search_docs = tavily_search.invoke(\"Hvilke konkrete kvantitative antagelser lå til grund for din økonomiske analyse (skattesatser, forventet overskud/underskud, kapitalbehov mv.), og hvor følsomme er dine konklusioner over for ændringer i disse antagelser?\") "
   ]
  },
  {
   "cell_type": "code",
   "execution_count": 25,
   "id": "5324f35e",
   "metadata": {},
   "outputs": [
    {
     "data": {
      "text/html": [
       "<pre style=\"white-space:pre;overflow-x:auto;line-height:normal;font-family:Menlo,'DejaVu Sans Mono',consolas,'Courier New',monospace\"><span style=\"font-weight: bold\">[</span>\n",
       "<span style=\"color: #7fbf7f; text-decoration-color: #7fbf7f\">│   </span><span style=\"font-weight: bold\">{</span>\n",
       "<span style=\"color: #7fbf7f; text-decoration-color: #7fbf7f\">│   │   </span><span style=\"color: #008000; text-decoration-color: #008000\">'title'</span>: <span style=\"color: #008000; text-decoration-color: #008000\">'Kap. 3.4 Tallfeste, verdsette og vurdere virkninger (fase 4) - DFØ'</span>,\n",
       "<span style=\"color: #7fbf7f; text-decoration-color: #7fbf7f\">│   │   </span><span style=\"color: #008000; text-decoration-color: #008000\">'url'</span>: <span style=\"color: #008000; text-decoration-color: #008000\">'https://dfo.no/fagomrader/utredning-og-analyse-av-statlige-tiltak/samfunnsokonomiske-analyser/veileder-i-samfunnsokonomiske-analyser/kap-34-tallfeste-verdsette-og-vurdere-virkninger-fase-4'</span>,\n",
       "<span style=\"color: #7fbf7f; text-decoration-color: #7fbf7f\">│   │   </span><span style=\"color: #008000; text-decoration-color: #008000\">'content'</span>: <span style=\"color: #008000; text-decoration-color: #008000\">'Det er viktig å dokumentere og synliggjøre forutsetningene og faktagrunnlaget bak anslagene og usikkerheten i dem. Er det brukt grove estimater, skal man være åpen om det. Jo større usikkerhet det er knyttet til forutsetningene, desto viktigere blir det å beskrive usikkerheten og gjøre følsomhetsanalyser eller andre typer usikkerhetsanalyser (se kapittel 3.6). [...] ## Dekningsanalyse (break-even-analyse)\\n\\n## Effektiv ressursbruk\\n\\n## Effektmål\\n\\n## Eksterne virkninger\\n\\n## Enhetsverdi\\n\\n## Fordelingsvirkninger\\n\\n## Forenklet analyse\\n\\n## Forventningsverdi\\n\\n## Følsomhetsanalyse\\n\\n## Føre var-prinsippet\\n\\n## Gevinster\\n\\n## Ikke prissatte virkninger\\n\\n## Investeringsprosjekter\\n\\n## Kalkulasjonspris\\n\\n## Kalkulasjonsrente\\n\\n## Kostnadseffektivitetsanalyse\\n\\n## Kostnadsvirkninger\\n\\n## Kostnadsvirkningsanalyse\\n\\n## Kvalitativ vurdering\\n\\n## Kvantum\\n\\n## Levetid\\n\\n## Markedssvikt [...] Det er som regel knyttet usikkerhet til fremtidige tallfestede størrelser og verdsatte virkninger. I en samfunnsøkonomisk analyse beregner man derfor forventningsverdier for nytte- og kostnadsvirkningene til de tiltakene som utredes. Forventningsverdien til en virkning er definert som en veid sum der hvert enkelt mulige utfall for virkningen vektes med den tilhørende sannsynligheten for dette utfallet.'</span>,\n",
       "<span style=\"color: #7fbf7f; text-decoration-color: #7fbf7f\">│   │   </span><span style=\"color: #008000; text-decoration-color: #008000\">'score'</span>: <span style=\"color: #008080; text-decoration-color: #008080; font-weight: bold\">0.25952804</span>\n",
       "<span style=\"color: #7fbf7f; text-decoration-color: #7fbf7f\">│   </span><span style=\"font-weight: bold\">}</span>,\n",
       "<span style=\"color: #7fbf7f; text-decoration-color: #7fbf7f\">│   </span><span style=\"font-weight: bold\">{</span>\n",
       "<span style=\"color: #7fbf7f; text-decoration-color: #7fbf7f\">│   │   </span><span style=\"color: #008000; text-decoration-color: #008000\">'title'</span>: <span style=\"color: #008000; text-decoration-color: #008000\">'[EPUB] Samfunnsøkonomiske analyser - Regjeringen.no'</span>,\n",
       "<span style=\"color: #7fbf7f; text-decoration-color: #7fbf7f\">│   │   </span><span style=\"color: #008000; text-decoration-color: #008000\">'url'</span>: <span style=\"color: #008000; text-decoration-color: #008000\">'https://www.regjeringen.no/contentassets/5fce956d51364811b8547eebdbcde52c/no/epub/nou201220120016000dddepub.epub'</span>,\n",
       "<span style=\"color: #7fbf7f; text-decoration-color: #7fbf7f\">│   │   </span><span style=\"color: #008000; text-decoration-color: #008000\">'content'</span>: <span style=\"color: #008000; text-decoration-color: #008000\">'Utvalgets syn er at samfunnsøkonomisk lønnsomhet skal tolkes som et oppsummerende mål på hva ... konkrete fordelingsvektene og 3) hvilken type prosjekt som'</span>,\n",
       "<span style=\"color: #7fbf7f; text-decoration-color: #7fbf7f\">│   │   </span><span style=\"color: #008000; text-decoration-color: #008000\">'score'</span>: <span style=\"color: #008080; text-decoration-color: #008080; font-weight: bold\">0.057774507</span>\n",
       "<span style=\"color: #7fbf7f; text-decoration-color: #7fbf7f\">│   </span><span style=\"font-weight: bold\">}</span>\n",
       "<span style=\"font-weight: bold\">]</span>\n",
       "</pre>\n"
      ],
      "text/plain": [
       "\u001b[1m[\u001b[0m\n",
       "\u001b[2;32m│   \u001b[0m\u001b[1m{\u001b[0m\n",
       "\u001b[2;32m│   │   \u001b[0m\u001b[32m'title'\u001b[0m: \u001b[32m'Kap. 3.4 Tallfeste, verdsette og vurdere virkninger \u001b[0m\u001b[32m(\u001b[0m\u001b[32mfase 4\u001b[0m\u001b[32m)\u001b[0m\u001b[32m - DFØ'\u001b[0m,\n",
       "\u001b[2;32m│   │   \u001b[0m\u001b[32m'url'\u001b[0m: \u001b[32m'https://dfo.no/fagomrader/utredning-og-analyse-av-statlige-tiltak/samfunnsokonomiske-analyser/veileder-i-samfunnsokonomiske-analyser/kap-34-tallfeste-verdsette-og-vurdere-virkninger-fase-4'\u001b[0m,\n",
       "\u001b[2;32m│   │   \u001b[0m\u001b[32m'content'\u001b[0m: \u001b[32m'Det er viktig å dokumentere og synliggjøre forutsetningene og faktagrunnlaget bak anslagene og usikkerheten i dem. Er det brukt grove estimater, skal man være åpen om det. Jo større usikkerhet det er knyttet til forutsetningene, desto viktigere blir det å beskrive usikkerheten og gjøre følsomhetsanalyser eller andre typer usikkerhetsanalyser \u001b[0m\u001b[32m(\u001b[0m\u001b[32mse kapittel 3.6\u001b[0m\u001b[32m)\u001b[0m\u001b[32m. \u001b[0m\u001b[32m[\u001b[0m\u001b[32m...\u001b[0m\u001b[32m]\u001b[0m\u001b[32m ## Dekningsanalyse \u001b[0m\u001b[32m(\u001b[0m\u001b[32mbreak-even-analyse\u001b[0m\u001b[32m)\u001b[0m\u001b[32m\\n\\n## Effektiv ressursbruk\\n\\n## Effektmål\\n\\n## Eksterne virkninger\\n\\n## Enhetsverdi\\n\\n## Fordelingsvirkninger\\n\\n## Forenklet analyse\\n\\n## Forventningsverdi\\n\\n## Følsomhetsanalyse\\n\\n## Føre var-prinsippet\\n\\n## Gevinster\\n\\n## Ikke prissatte virkninger\\n\\n## Investeringsprosjekter\\n\\n## Kalkulasjonspris\\n\\n## Kalkulasjonsrente\\n\\n## Kostnadseffektivitetsanalyse\\n\\n## Kostnadsvirkninger\\n\\n## Kostnadsvirkningsanalyse\\n\\n## Kvalitativ vurdering\\n\\n## Kvantum\\n\\n## Levetid\\n\\n## Markedssvikt \u001b[0m\u001b[32m[\u001b[0m\u001b[32m...\u001b[0m\u001b[32m]\u001b[0m\u001b[32m Det er som regel knyttet usikkerhet til fremtidige tallfestede størrelser og verdsatte virkninger. I en samfunnsøkonomisk analyse beregner man derfor forventningsverdier for nytte- og kostnadsvirkningene til de tiltakene som utredes. Forventningsverdien til en virkning er definert som en veid sum der hvert enkelt mulige utfall for virkningen vektes med den tilhørende sannsynligheten for dette utfallet.'\u001b[0m,\n",
       "\u001b[2;32m│   │   \u001b[0m\u001b[32m'score'\u001b[0m: \u001b[1;36m0.25952804\u001b[0m\n",
       "\u001b[2;32m│   \u001b[0m\u001b[1m}\u001b[0m,\n",
       "\u001b[2;32m│   \u001b[0m\u001b[1m{\u001b[0m\n",
       "\u001b[2;32m│   │   \u001b[0m\u001b[32m'title'\u001b[0m: \u001b[32m'\u001b[0m\u001b[32m[\u001b[0m\u001b[32mEPUB\u001b[0m\u001b[32m]\u001b[0m\u001b[32m Samfunnsøkonomiske analyser - Regjeringen.no'\u001b[0m,\n",
       "\u001b[2;32m│   │   \u001b[0m\u001b[32m'url'\u001b[0m: \u001b[32m'https://www.regjeringen.no/contentassets/5fce956d51364811b8547eebdbcde52c/no/epub/nou201220120016000dddepub.epub'\u001b[0m,\n",
       "\u001b[2;32m│   │   \u001b[0m\u001b[32m'content'\u001b[0m: \u001b[32m'Utvalgets syn er at samfunnsøkonomisk lønnsomhet skal tolkes som et oppsummerende mål på hva ... konkrete fordelingsvektene og 3\u001b[0m\u001b[32m)\u001b[0m\u001b[32m hvilken type prosjekt som'\u001b[0m,\n",
       "\u001b[2;32m│   │   \u001b[0m\u001b[32m'score'\u001b[0m: \u001b[1;36m0.057774507\u001b[0m\n",
       "\u001b[2;32m│   \u001b[0m\u001b[1m}\u001b[0m\n",
       "\u001b[1m]\u001b[0m\n"
      ]
     },
     "metadata": {},
     "output_type": "display_data"
    }
   ],
   "source": [
    "pprint(search_docs)"
   ]
  },
  {
   "cell_type": "code",
   "execution_count": 28,
   "id": "23981578",
   "metadata": {},
   "outputs": [],
   "source": [
    "from langchain_core.documents import Document\n",
    "documents = []\n",
    "for doc in search_docs:\n",
    "    metadata = {\n",
    "        \"url\": doc[\"url\"],\n",
    "        \"title\": doc[\"title\"],\n",
    "        \"type\": \"web_search\"\n",
    "    }\n",
    "    documents.append(Document(page_content=doc[\"content\"], metadata=metadata))"
   ]
  },
  {
   "cell_type": "code",
   "execution_count": 29,
   "id": "cabaf63e",
   "metadata": {},
   "outputs": [
    {
     "data": {
      "text/plain": [
       "<class 'langchain_core.documents.base.Document'>"
      ]
     },
     "execution_count": 29,
     "metadata": {},
     "output_type": "execute_result"
    }
   ],
   "source": [
    "type(documents[0])"
   ]
  }
 ],
 "metadata": {
  "kernelspec": {
   "display_name": ".venv",
   "language": "python",
   "name": "python3"
  },
  "language_info": {
   "codemirror_mode": {
    "name": "ipython",
    "version": 3
   },
   "file_extension": ".py",
   "mimetype": "text/x-python",
   "name": "python",
   "nbconvert_exporter": "python",
   "pygments_lexer": "ipython3",
   "version": "3.12.11"
  }
 },
 "nbformat": 4,
 "nbformat_minor": 5
}
