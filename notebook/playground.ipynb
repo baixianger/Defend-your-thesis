{
 "cells": [
  {
   "cell_type": "code",
   "execution_count": 1,
   "id": "44ee71a4",
   "metadata": {},
   "outputs": [],
   "source": [
    "from dotenv import load_dotenv\n",
    "load_dotenv(dotenv_path=\"../.env\", override=True)\n",
    "\n",
    "import sys\n",
    "sys.path.append('../')"
   ]
  },
  {
   "cell_type": "code",
   "execution_count": 3,
   "id": "96d8e461",
   "metadata": {},
   "outputs": [
    {
     "data": {
      "text/html": [
       "<pre style=\"white-space:pre;overflow-x:auto;line-height:normal;font-family:Menlo,'DejaVu Sans Mono',consolas,'Courier New',monospace\"><span style=\"color: #800080; text-decoration-color: #800080; font-weight: bold\">StructuredPrompt</span><span style=\"font-weight: bold\">(</span>\n",
       "<span style=\"color: #7fbf7f; text-decoration-color: #7fbf7f\">│   </span><span style=\"color: #808000; text-decoration-color: #808000\">input_variables</span>=<span style=\"font-weight: bold\">[</span><span style=\"color: #008000; text-decoration-color: #008000\">'human_feedback'</span>, <span style=\"color: #008000; text-decoration-color: #008000\">'language'</span>, <span style=\"color: #008000; text-decoration-color: #008000\">'previous_version'</span>, <span style=\"color: #008000; text-decoration-color: #008000\">'user_input'</span><span style=\"font-weight: bold\">]</span>,\n",
       "<span style=\"color: #7fbf7f; text-decoration-color: #7fbf7f\">│   </span><span style=\"color: #808000; text-decoration-color: #808000\">input_types</span>=<span style=\"font-weight: bold\">{}</span>,\n",
       "<span style=\"color: #7fbf7f; text-decoration-color: #7fbf7f\">│   </span><span style=\"color: #808000; text-decoration-color: #808000\">partial_variables</span>=<span style=\"font-weight: bold\">{}</span>,\n",
       "<span style=\"color: #7fbf7f; text-decoration-color: #7fbf7f\">│   </span><span style=\"color: #808000; text-decoration-color: #808000\">metadata</span>=<span style=\"font-weight: bold\">{</span>\n",
       "<span style=\"color: #7fbf7f; text-decoration-color: #7fbf7f\">│   │   </span><span style=\"color: #008000; text-decoration-color: #008000\">'lc_hub_owner'</span>: <span style=\"color: #008000; text-decoration-color: #008000\">'-'</span>,\n",
       "<span style=\"color: #7fbf7f; text-decoration-color: #7fbf7f\">│   │   </span><span style=\"color: #008000; text-decoration-color: #008000\">'lc_hub_repo'</span>: <span style=\"color: #008000; text-decoration-color: #008000\">'defend-your-thesis-persona'</span>,\n",
       "<span style=\"color: #7fbf7f; text-decoration-color: #7fbf7f\">│   │   </span><span style=\"color: #008000; text-decoration-color: #008000\">'lc_hub_commit_hash'</span>: <span style=\"color: #008000; text-decoration-color: #008000\">'29d3b040b4e13f77caaf1f6a320da8e55334ef927bf3baab641aec9a10249e04'</span>\n",
       "<span style=\"color: #7fbf7f; text-decoration-color: #7fbf7f\">│   </span><span style=\"font-weight: bold\">}</span>,\n",
       "<span style=\"color: #7fbf7f; text-decoration-color: #7fbf7f\">│   </span><span style=\"color: #808000; text-decoration-color: #808000\">messages</span>=<span style=\"font-weight: bold\">[</span>\n",
       "<span style=\"color: #7fbf7f; text-decoration-color: #7fbf7f\">│   │   </span><span style=\"color: #800080; text-decoration-color: #800080; font-weight: bold\">SystemMessagePromptTemplate</span><span style=\"font-weight: bold\">(</span>\n",
       "<span style=\"color: #7fbf7f; text-decoration-color: #7fbf7f\">│   │   │   </span><span style=\"color: #808000; text-decoration-color: #808000\">prompt</span>=<span style=\"color: #800080; text-decoration-color: #800080; font-weight: bold\">PromptTemplate</span><span style=\"font-weight: bold\">(</span>\n",
       "<span style=\"color: #7fbf7f; text-decoration-color: #7fbf7f\">│   │   │   │   </span><span style=\"color: #808000; text-decoration-color: #808000\">input_variables</span>=<span style=\"font-weight: bold\">[</span><span style=\"color: #008000; text-decoration-color: #008000\">'human_feedback'</span>, <span style=\"color: #008000; text-decoration-color: #008000\">'language'</span>, <span style=\"color: #008000; text-decoration-color: #008000\">'previous_version'</span>, <span style=\"color: #008000; text-decoration-color: #008000\">'user_input'</span><span style=\"font-weight: bold\">]</span>,\n",
       "<span style=\"color: #7fbf7f; text-decoration-color: #7fbf7f\">│   │   │   │   </span><span style=\"color: #808000; text-decoration-color: #808000\">input_types</span>=<span style=\"font-weight: bold\">{}</span>,\n",
       "<span style=\"color: #7fbf7f; text-decoration-color: #7fbf7f\">│   │   │   │   </span><span style=\"color: #808000; text-decoration-color: #808000\">partial_variables</span>=<span style=\"font-weight: bold\">{}</span>,\n",
       "<span style=\"color: #7fbf7f; text-decoration-color: #7fbf7f\">│   │   │   │   </span><span style=\"color: #808000; text-decoration-color: #808000\">template</span>=<span style=\"color: #008000; text-decoration-color: #008000\">'You are tasked with creating a virtual persona based on the information provided by the user about their examiner.\\n\\nPlease follow these steps:\\n\\n1. Review the user_input, which may include details about the examiner\\'s education, work experience, skills, and personal interests.\\n2. Create a detailed virtual persona that captures the examiner\\'s traits, including:\\n   - Name\\n   - Age\\n   - Professional background\\n   - Personal interests\\n   - Communication style\\n3. If human_feedback and previous_version are both provided, use the human feedback to improve the previous version of the persona.\\n4. Write the persona in {language}.\\n\\n&lt;example&gt;\\nUser input: \"Dr. Jane Smith, PhD in Psychology, 10 years of experience in clinical practice, passionate about mental health advocacy, enjoys hiking and painting.\"\\nGenerated persona: \\n- Name: Dr. Jane Smith\\n- Age: 45\\n- Professional background: Clinical Psychologist focused on mental health advocacy\\n- Personal interests: Hiking, painting\\n- Communication style: Empathetic and supportive, often shares personal stories to connect with others.\\n\\nMake sure the persona is engaging and relatable, and feel free to add unique traits that enhance the character.\\n\\nBelow is the information you need to follow the guidelines:\\n&lt;user_input&gt;\\n{user_input}\\n&lt;user_input/&gt;\\n\\n&lt;human_feedback&gt;\\n{human_feedback}\\n&lt;human_feedback/&gt;\\n\\n&lt;previous_version&gt;\\n{previous_version}\\n&lt;previous_version/&gt;'</span>\n",
       "<span style=\"color: #7fbf7f; text-decoration-color: #7fbf7f\">│   │   │   </span><span style=\"font-weight: bold\">)</span>,\n",
       "<span style=\"color: #7fbf7f; text-decoration-color: #7fbf7f\">│   │   │   </span><span style=\"color: #808000; text-decoration-color: #808000\">additional_kwargs</span>=<span style=\"font-weight: bold\">{}</span>\n",
       "<span style=\"color: #7fbf7f; text-decoration-color: #7fbf7f\">│   │   </span><span style=\"font-weight: bold\">)</span>\n",
       "<span style=\"color: #7fbf7f; text-decoration-color: #7fbf7f\">│   </span><span style=\"font-weight: bold\">]</span>,\n",
       "<span style=\"color: #7fbf7f; text-decoration-color: #7fbf7f\">│   </span><span style=\"color: #808000; text-decoration-color: #808000\">schema_</span>=<span style=\"font-weight: bold\">{</span>\n",
       "<span style=\"color: #7fbf7f; text-decoration-color: #7fbf7f\">│   │   </span><span style=\"color: #008000; text-decoration-color: #008000\">'title'</span>: <span style=\"color: #008000; text-decoration-color: #008000\">'persona'</span>,\n",
       "<span style=\"color: #7fbf7f; text-decoration-color: #7fbf7f\">│   │   </span><span style=\"color: #008000; text-decoration-color: #008000\">'description'</span>: <span style=\"color: #008000; text-decoration-color: #008000\">\"Extract information from the user's response.\"</span>,\n",
       "<span style=\"color: #7fbf7f; text-decoration-color: #7fbf7f\">│   │   </span><span style=\"color: #008000; text-decoration-color: #008000\">'type'</span>: <span style=\"color: #008000; text-decoration-color: #008000\">'object'</span>,\n",
       "<span style=\"color: #7fbf7f; text-decoration-color: #7fbf7f\">│   │   </span><span style=\"color: #008000; text-decoration-color: #008000\">'properties'</span>: <span style=\"font-weight: bold\">{</span>\n",
       "<span style=\"color: #7fbf7f; text-decoration-color: #7fbf7f\">│   │   │   </span><span style=\"color: #008000; text-decoration-color: #008000\">'name'</span>: <span style=\"font-weight: bold\">{</span><span style=\"color: #008000; text-decoration-color: #008000\">'type'</span>: <span style=\"color: #008000; text-decoration-color: #008000\">'string'</span>, <span style=\"color: #008000; text-decoration-color: #008000\">'description'</span>: <span style=\"color: #008000; text-decoration-color: #008000\">'Name of the examiner'</span><span style=\"font-weight: bold\">}</span>,\n",
       "<span style=\"color: #7fbf7f; text-decoration-color: #7fbf7f\">│   │   │   </span><span style=\"color: #008000; text-decoration-color: #008000\">'age'</span>: <span style=\"font-weight: bold\">{</span><span style=\"color: #008000; text-decoration-color: #008000\">'type'</span>: <span style=\"color: #008000; text-decoration-color: #008000\">'integer'</span>, <span style=\"color: #008000; text-decoration-color: #008000\">'description'</span>: <span style=\"color: #008000; text-decoration-color: #008000\">'Age of the examiner'</span><span style=\"font-weight: bold\">}</span>,\n",
       "<span style=\"color: #7fbf7f; text-decoration-color: #7fbf7f\">│   │   │   </span><span style=\"color: #008000; text-decoration-color: #008000\">'professional'</span>: <span style=\"font-weight: bold\">{</span><span style=\"color: #008000; text-decoration-color: #008000\">'type'</span>: <span style=\"color: #008000; text-decoration-color: #008000\">'string'</span>, <span style=\"color: #008000; text-decoration-color: #008000\">'description'</span>: <span style=\"color: #008000; text-decoration-color: #008000\">'Professional background of the examiner'</span><span style=\"font-weight: bold\">}</span>,\n",
       "<span style=\"color: #7fbf7f; text-decoration-color: #7fbf7f\">│   │   │   </span><span style=\"color: #008000; text-decoration-color: #008000\">'personal'</span>: <span style=\"font-weight: bold\">{</span><span style=\"color: #008000; text-decoration-color: #008000\">'type'</span>: <span style=\"color: #008000; text-decoration-color: #008000\">'string'</span>, <span style=\"color: #008000; text-decoration-color: #008000\">'description'</span>: <span style=\"color: #008000; text-decoration-color: #008000\">'Personal interests of the examiner'</span><span style=\"font-weight: bold\">}</span>,\n",
       "<span style=\"color: #7fbf7f; text-decoration-color: #7fbf7f\">│   │   │   </span><span style=\"color: #008000; text-decoration-color: #008000\">'communication'</span>: <span style=\"font-weight: bold\">{</span><span style=\"color: #008000; text-decoration-color: #008000\">'type'</span>: <span style=\"color: #008000; text-decoration-color: #008000\">'string'</span>, <span style=\"color: #008000; text-decoration-color: #008000\">'description'</span>: <span style=\"color: #008000; text-decoration-color: #008000\">'Communication style of the examiner'</span><span style=\"font-weight: bold\">}</span>\n",
       "<span style=\"color: #7fbf7f; text-decoration-color: #7fbf7f\">│   │   </span><span style=\"font-weight: bold\">}</span>,\n",
       "<span style=\"color: #7fbf7f; text-decoration-color: #7fbf7f\">│   │   </span><span style=\"color: #008000; text-decoration-color: #008000\">'required'</span>: <span style=\"font-weight: bold\">[</span><span style=\"color: #008000; text-decoration-color: #008000\">'name'</span>, <span style=\"color: #008000; text-decoration-color: #008000\">'age'</span>, <span style=\"color: #008000; text-decoration-color: #008000\">'professional'</span>, <span style=\"color: #008000; text-decoration-color: #008000\">'personal'</span>, <span style=\"color: #008000; text-decoration-color: #008000\">'communication'</span><span style=\"font-weight: bold\">]</span>,\n",
       "<span style=\"color: #7fbf7f; text-decoration-color: #7fbf7f\">│   │   </span><span style=\"color: #008000; text-decoration-color: #008000\">'additionalProperties'</span>: <span style=\"color: #ff0000; text-decoration-color: #ff0000; font-style: italic\">False</span>,\n",
       "<span style=\"color: #7fbf7f; text-decoration-color: #7fbf7f\">│   │   </span><span style=\"color: #008000; text-decoration-color: #008000\">'strict'</span>: <span style=\"color: #ff0000; text-decoration-color: #ff0000; font-style: italic\">False</span>\n",
       "<span style=\"color: #7fbf7f; text-decoration-color: #7fbf7f\">│   </span><span style=\"font-weight: bold\">}</span>,\n",
       "<span style=\"color: #7fbf7f; text-decoration-color: #7fbf7f\">│   </span><span style=\"color: #808000; text-decoration-color: #808000\">structured_output_kwargs</span>=<span style=\"font-weight: bold\">{}</span>\n",
       "<span style=\"font-weight: bold\">)</span>\n",
       "</pre>\n"
      ],
      "text/plain": [
       "\u001b[1;35mStructuredPrompt\u001b[0m\u001b[1m(\u001b[0m\n",
       "\u001b[2;32m│   \u001b[0m\u001b[33minput_variables\u001b[0m=\u001b[1m[\u001b[0m\u001b[32m'human_feedback'\u001b[0m, \u001b[32m'language'\u001b[0m, \u001b[32m'previous_version'\u001b[0m, \u001b[32m'user_input'\u001b[0m\u001b[1m]\u001b[0m,\n",
       "\u001b[2;32m│   \u001b[0m\u001b[33minput_types\u001b[0m=\u001b[1m{\u001b[0m\u001b[1m}\u001b[0m,\n",
       "\u001b[2;32m│   \u001b[0m\u001b[33mpartial_variables\u001b[0m=\u001b[1m{\u001b[0m\u001b[1m}\u001b[0m,\n",
       "\u001b[2;32m│   \u001b[0m\u001b[33mmetadata\u001b[0m=\u001b[1m{\u001b[0m\n",
       "\u001b[2;32m│   │   \u001b[0m\u001b[32m'lc_hub_owner'\u001b[0m: \u001b[32m'-'\u001b[0m,\n",
       "\u001b[2;32m│   │   \u001b[0m\u001b[32m'lc_hub_repo'\u001b[0m: \u001b[32m'defend-your-thesis-persona'\u001b[0m,\n",
       "\u001b[2;32m│   │   \u001b[0m\u001b[32m'lc_hub_commit_hash'\u001b[0m: \u001b[32m'29d3b040b4e13f77caaf1f6a320da8e55334ef927bf3baab641aec9a10249e04'\u001b[0m\n",
       "\u001b[2;32m│   \u001b[0m\u001b[1m}\u001b[0m,\n",
       "\u001b[2;32m│   \u001b[0m\u001b[33mmessages\u001b[0m=\u001b[1m[\u001b[0m\n",
       "\u001b[2;32m│   │   \u001b[0m\u001b[1;35mSystemMessagePromptTemplate\u001b[0m\u001b[1m(\u001b[0m\n",
       "\u001b[2;32m│   │   │   \u001b[0m\u001b[33mprompt\u001b[0m=\u001b[1;35mPromptTemplate\u001b[0m\u001b[1m(\u001b[0m\n",
       "\u001b[2;32m│   │   │   │   \u001b[0m\u001b[33minput_variables\u001b[0m=\u001b[1m[\u001b[0m\u001b[32m'human_feedback'\u001b[0m, \u001b[32m'language'\u001b[0m, \u001b[32m'previous_version'\u001b[0m, \u001b[32m'user_input'\u001b[0m\u001b[1m]\u001b[0m,\n",
       "\u001b[2;32m│   │   │   │   \u001b[0m\u001b[33minput_types\u001b[0m=\u001b[1m{\u001b[0m\u001b[1m}\u001b[0m,\n",
       "\u001b[2;32m│   │   │   │   \u001b[0m\u001b[33mpartial_variables\u001b[0m=\u001b[1m{\u001b[0m\u001b[1m}\u001b[0m,\n",
       "\u001b[2;32m│   │   │   │   \u001b[0m\u001b[33mtemplate\u001b[0m=\u001b[32m'You are tasked with creating a virtual persona based on the information provided by the user about their examiner.\\n\\nPlease follow these steps:\\n\\n1. Review the user_input, which may include details about the examiner\\'s education, work experience, skills, and personal interests.\\n2. Create a detailed virtual persona that captures the examiner\\'s traits, including:\\n   - Name\\n   - Age\\n   - Professional background\\n   - Personal interests\\n   - Communication style\\n3. If human_feedback and previous_version are both provided, use the human feedback to improve the previous version of the persona.\\n4. Write the persona in \u001b[0m\u001b[32m{\u001b[0m\u001b[32mlanguage\u001b[0m\u001b[32m}\u001b[0m\u001b[32m.\\n\\n\u001b[0m\u001b[32m<\u001b[0m\u001b[32mexample\u001b[0m\u001b[32m>\\nUser input: \"Dr. Jane Smith, PhD in Psychology, 10 years of experience in clinical practice, passionate about mental health advocacy, enjoys hiking and painting.\"\\nGenerated persona: \\n- Name: Dr. Jane Smith\\n- Age: 45\\n- Professional background: Clinical Psychologist focused on mental health advocacy\\n- Personal interests: Hiking, painting\\n- Communication style: Empathetic and supportive, often shares personal stories to connect with others.\\n\\nMake sure the persona is engaging and relatable, and feel free to add unique traits that enhance the character.\\n\\nBelow is the information you need to follow the guidelines:\\n<user_input>\\n\u001b[0m\u001b[32m{\u001b[0m\u001b[32muser_input\u001b[0m\u001b[32m}\u001b[0m\u001b[32m\\n<user_input/>\\n\\n<human_feedback>\\n\u001b[0m\u001b[32m{\u001b[0m\u001b[32mhuman_feedback\u001b[0m\u001b[32m}\u001b[0m\u001b[32m\\n<human_feedback/>\\n\\n<previous_version>\\n\u001b[0m\u001b[32m{\u001b[0m\u001b[32mprevious_version\u001b[0m\u001b[32m}\u001b[0m\u001b[32m\\n<previous_version/\u001b[0m\u001b[32m>\u001b[0m\u001b[32m'\u001b[0m\n",
       "\u001b[2;32m│   │   │   \u001b[0m\u001b[1m)\u001b[0m,\n",
       "\u001b[2;32m│   │   │   \u001b[0m\u001b[33madditional_kwargs\u001b[0m=\u001b[1m{\u001b[0m\u001b[1m}\u001b[0m\n",
       "\u001b[2;32m│   │   \u001b[0m\u001b[1m)\u001b[0m\n",
       "\u001b[2;32m│   \u001b[0m\u001b[1m]\u001b[0m,\n",
       "\u001b[2;32m│   \u001b[0m\u001b[33mschema_\u001b[0m=\u001b[1m{\u001b[0m\n",
       "\u001b[2;32m│   │   \u001b[0m\u001b[32m'title'\u001b[0m: \u001b[32m'persona'\u001b[0m,\n",
       "\u001b[2;32m│   │   \u001b[0m\u001b[32m'description'\u001b[0m: \u001b[32m\"Extract information from the user's response.\"\u001b[0m,\n",
       "\u001b[2;32m│   │   \u001b[0m\u001b[32m'type'\u001b[0m: \u001b[32m'object'\u001b[0m,\n",
       "\u001b[2;32m│   │   \u001b[0m\u001b[32m'properties'\u001b[0m: \u001b[1m{\u001b[0m\n",
       "\u001b[2;32m│   │   │   \u001b[0m\u001b[32m'name'\u001b[0m: \u001b[1m{\u001b[0m\u001b[32m'type'\u001b[0m: \u001b[32m'string'\u001b[0m, \u001b[32m'description'\u001b[0m: \u001b[32m'Name of the examiner'\u001b[0m\u001b[1m}\u001b[0m,\n",
       "\u001b[2;32m│   │   │   \u001b[0m\u001b[32m'age'\u001b[0m: \u001b[1m{\u001b[0m\u001b[32m'type'\u001b[0m: \u001b[32m'integer'\u001b[0m, \u001b[32m'description'\u001b[0m: \u001b[32m'Age of the examiner'\u001b[0m\u001b[1m}\u001b[0m,\n",
       "\u001b[2;32m│   │   │   \u001b[0m\u001b[32m'professional'\u001b[0m: \u001b[1m{\u001b[0m\u001b[32m'type'\u001b[0m: \u001b[32m'string'\u001b[0m, \u001b[32m'description'\u001b[0m: \u001b[32m'Professional background of the examiner'\u001b[0m\u001b[1m}\u001b[0m,\n",
       "\u001b[2;32m│   │   │   \u001b[0m\u001b[32m'personal'\u001b[0m: \u001b[1m{\u001b[0m\u001b[32m'type'\u001b[0m: \u001b[32m'string'\u001b[0m, \u001b[32m'description'\u001b[0m: \u001b[32m'Personal interests of the examiner'\u001b[0m\u001b[1m}\u001b[0m,\n",
       "\u001b[2;32m│   │   │   \u001b[0m\u001b[32m'communication'\u001b[0m: \u001b[1m{\u001b[0m\u001b[32m'type'\u001b[0m: \u001b[32m'string'\u001b[0m, \u001b[32m'description'\u001b[0m: \u001b[32m'Communication style of the examiner'\u001b[0m\u001b[1m}\u001b[0m\n",
       "\u001b[2;32m│   │   \u001b[0m\u001b[1m}\u001b[0m,\n",
       "\u001b[2;32m│   │   \u001b[0m\u001b[32m'required'\u001b[0m: \u001b[1m[\u001b[0m\u001b[32m'name'\u001b[0m, \u001b[32m'age'\u001b[0m, \u001b[32m'professional'\u001b[0m, \u001b[32m'personal'\u001b[0m, \u001b[32m'communication'\u001b[0m\u001b[1m]\u001b[0m,\n",
       "\u001b[2;32m│   │   \u001b[0m\u001b[32m'additionalProperties'\u001b[0m: \u001b[3;91mFalse\u001b[0m,\n",
       "\u001b[2;32m│   │   \u001b[0m\u001b[32m'strict'\u001b[0m: \u001b[3;91mFalse\u001b[0m\n",
       "\u001b[2;32m│   \u001b[0m\u001b[1m}\u001b[0m,\n",
       "\u001b[2;32m│   \u001b[0m\u001b[33mstructured_output_kwargs\u001b[0m=\u001b[1m{\u001b[0m\u001b[1m}\u001b[0m\n",
       "\u001b[1m)\u001b[0m\n"
      ]
     },
     "metadata": {},
     "output_type": "display_data"
    }
   ],
   "source": [
    "from langchain_openai import ChatOpenAI\n",
    "from src.prompts import persona_prompt_with_input\n",
    "from rich.pretty import pprint\n",
    "\n",
    "pprint(persona_prompt_with_input)"
   ]
  },
  {
   "cell_type": "code",
   "execution_count": 7,
   "id": "504356a9",
   "metadata": {},
   "outputs": [
    {
     "name": "stdout",
     "output_type": "stream",
     "text": [
      "The autoreload extension is already loaded. To reload it, use:\n",
      "  %reload_ext autoreload\n"
     ]
    },
    {
     "data": {
      "text/html": [
       "<pre style=\"white-space:pre;overflow-x:auto;line-height:normal;font-family:Menlo,'DejaVu Sans Mono',consolas,'Courier New',monospace\"><span style=\"color: #800080; text-decoration-color: #800080; font-weight: bold\">ChatPromptValue</span><span style=\"font-weight: bold\">(</span>\n",
       "<span style=\"color: #7fbf7f; text-decoration-color: #7fbf7f\">│   </span><span style=\"color: #808000; text-decoration-color: #808000\">messages</span>=<span style=\"font-weight: bold\">[</span>\n",
       "<span style=\"color: #7fbf7f; text-decoration-color: #7fbf7f\">│   │   </span><span style=\"color: #800080; text-decoration-color: #800080; font-weight: bold\">SystemMessage</span><span style=\"font-weight: bold\">(</span>\n",
       "<span style=\"color: #7fbf7f; text-decoration-color: #7fbf7f\">│   │   │   </span><span style=\"color: #808000; text-decoration-color: #808000\">content</span>=<span style=\"color: #008000; text-decoration-color: #008000\">'You are tasked with creating a virtual persona based on the information provided by the user about their examiner.\\n\\nPlease follow these steps:\\n\\n1. Review the user_input, which may include details about the examiner\\'s education, work experience, skills, and personal interests.\\n2. Create a detailed virtual persona that captures the examiner\\'s traits, including:\\n   - Name\\n   - Age\\n   - Professional background\\n   - Personal interests\\n   - Communication style\\n3. If human_feedback and previous_version are both provided, use the human feedback to improve the previous version of the persona.\\n4. Write the persona in English.\\n\\n&lt;example&gt;\\nUser input: \"Dr. Jane Smith, PhD in Psychology, 10 years of experience in clinical practice, passionate about mental health advocacy, enjoys hiking and painting.\"\\nGenerated persona: \\n- Name: Dr. Jane Smith\\n- Age: 45\\n- Professional background: Clinical Psychologist focused on mental health advocacy\\n- Personal interests: Hiking, painting\\n- Communication style: Empathetic and supportive, often shares personal stories to connect with others.\\n\\nMake sure the persona is engaging and relatable, and feel free to add unique traits that enhance the character.\\n\\nBelow is the information you need to follow the guidelines:\\n&lt;user_input&gt;\\n\\nuffe just pedersen\\n\\nErfaren CFO med bred erfaring indenfor økonomifunktionen; udvikling af bl.a. performance management, økonomiske processer og budgetterings- og planlægningsmodeller samt sikring af korrekt og rettidig rapportering af både regnskabstal og nøgletal.\\n\\nOpbygning og udvikling af økonomifunktioner i forskellige virksomhedstyper både nationalt og internationalt. International erfaring fra Polen, Spanien, USA, Finland, Irland og Sverige.\\n\\nGode resultater med implementering og optimering af administrative IT-systemer.\\n\\nLedelsesansvar for op til 25 medarbejdere.\\n\\nMaster degree in management and accounting\\n\\n&lt;user_input/&gt;\\n\\n&lt;human_feedback&gt;\\n\\n&lt;human_feedback/&gt;\\n\\n&lt;previous_version&gt;\\n\\n&lt;previous_version/&gt;'</span>,\n",
       "<span style=\"color: #7fbf7f; text-decoration-color: #7fbf7f\">│   │   │   </span><span style=\"color: #808000; text-decoration-color: #808000\">additional_kwargs</span>=<span style=\"font-weight: bold\">{}</span>,\n",
       "<span style=\"color: #7fbf7f; text-decoration-color: #7fbf7f\">│   │   │   </span><span style=\"color: #808000; text-decoration-color: #808000\">response_metadata</span>=<span style=\"font-weight: bold\">{}</span>\n",
       "<span style=\"color: #7fbf7f; text-decoration-color: #7fbf7f\">│   │   </span><span style=\"font-weight: bold\">)</span>\n",
       "<span style=\"color: #7fbf7f; text-decoration-color: #7fbf7f\">│   </span><span style=\"font-weight: bold\">]</span>\n",
       "<span style=\"font-weight: bold\">)</span>\n",
       "</pre>\n"
      ],
      "text/plain": [
       "\u001b[1;35mChatPromptValue\u001b[0m\u001b[1m(\u001b[0m\n",
       "\u001b[2;32m│   \u001b[0m\u001b[33mmessages\u001b[0m=\u001b[1m[\u001b[0m\n",
       "\u001b[2;32m│   │   \u001b[0m\u001b[1;35mSystemMessage\u001b[0m\u001b[1m(\u001b[0m\n",
       "\u001b[2;32m│   │   │   \u001b[0m\u001b[33mcontent\u001b[0m=\u001b[32m'You are tasked with creating a virtual persona based on the information provided by the user about their examiner.\\n\\nPlease follow these steps:\\n\\n1. Review the user_input, which may include details about the examiner\\'s education, work experience, skills, and personal interests.\\n2. Create a detailed virtual persona that captures the examiner\\'s traits, including:\\n   - Name\\n   - Age\\n   - Professional background\\n   - Personal interests\\n   - Communication style\\n3. If human_feedback and previous_version are both provided, use the human feedback to improve the previous version of the persona.\\n4. Write the persona in English.\\n\\n\u001b[0m\u001b[32m<\u001b[0m\u001b[32mexample\u001b[0m\u001b[32m>\\nUser input: \"Dr. Jane Smith, PhD in Psychology, 10 years of experience in clinical practice, passionate about mental health advocacy, enjoys hiking and painting.\"\\nGenerated persona: \\n- Name: Dr. Jane Smith\\n- Age: 45\\n- Professional background: Clinical Psychologist focused on mental health advocacy\\n- Personal interests: Hiking, painting\\n- Communication style: Empathetic and supportive, often shares personal stories to connect with others.\\n\\nMake sure the persona is engaging and relatable, and feel free to add unique traits that enhance the character.\\n\\nBelow is the information you need to follow the guidelines:\\n<user_input>\\n\\nuffe just pedersen\\n\\nErfaren CFO med bred erfaring indenfor økonomifunktionen; udvikling af bl.a. performance management, økonomiske processer og budgetterings- og planlægningsmodeller samt sikring af korrekt og rettidig rapportering af både regnskabstal og nøgletal.\\n\\nOpbygning og udvikling af økonomifunktioner i forskellige virksomhedstyper både nationalt og internationalt. International erfaring fra Polen, Spanien, USA, Finland, Irland og Sverige.\\n\\nGode resultater med implementering og optimering af administrative IT-systemer.\\n\\nLedelsesansvar for op til 25 medarbejdere.\\n\\nMaster degree in management and accounting\\n\\n<user_input/>\\n\\n<human_feedback>\\n\\n<human_feedback/>\\n\\n<previous_version>\\n\\n<previous_version/\u001b[0m\u001b[32m>\u001b[0m\u001b[32m'\u001b[0m,\n",
       "\u001b[2;32m│   │   │   \u001b[0m\u001b[33madditional_kwargs\u001b[0m=\u001b[1m{\u001b[0m\u001b[1m}\u001b[0m,\n",
       "\u001b[2;32m│   │   │   \u001b[0m\u001b[33mresponse_metadata\u001b[0m=\u001b[1m{\u001b[0m\u001b[1m}\u001b[0m\n",
       "\u001b[2;32m│   │   \u001b[0m\u001b[1m)\u001b[0m\n",
       "\u001b[2;32m│   \u001b[0m\u001b[1m]\u001b[0m\n",
       "\u001b[1m)\u001b[0m\n"
      ]
     },
     "metadata": {},
     "output_type": "display_data"
    }
   ],
   "source": [
    "%load_ext autoreload\n",
    "%autoreload 2\n",
    "from src.utils import format_messages\n",
    "\n",
    "user_input = \"\"\"\n",
    "uffe just pedersen\n",
    "\n",
    "Erfaren CFO med bred erfaring indenfor økonomifunktionen; udvikling af bl.a. performance management, økonomiske processer og budgetterings- og planlægningsmodeller samt sikring af korrekt og rettidig rapportering af både regnskabstal og nøgletal.\n",
    "\n",
    "Opbygning og udvikling af økonomifunktioner i forskellige virksomhedstyper både nationalt og internationalt. International erfaring fra Polen, Spanien, USA, Finland, Irland og Sverige.\n",
    "\n",
    "Gode resultater med implementering og optimering af administrative IT-systemer.\n",
    "\n",
    "Ledelsesansvar for op til 25 medarbejdere.\n",
    "\n",
    "Master degree in management and accounting\n",
    "\"\"\"\n",
    "\n",
    "language = \"English\"\n",
    "\n",
    "prompt = persona_prompt_with_input.invoke({\n",
    "  \"language\": language, \n",
    "  \"user_input\": user_input, \n",
    "  \"human_feedback\": \"\",\n",
    "  \"previous_version\": \"\",\n",
    "  })\n",
    "pprint(prompt)"
   ]
  },
  {
   "cell_type": "code",
   "execution_count": 9,
   "id": "c1758da8",
   "metadata": {},
   "outputs": [
    {
     "name": "stdout",
     "output_type": "stream",
     "text": [
      "{'name': 'Uffe Just Pedersen', 'age': 50, 'professional': \"Experienced CFO with extensive expertise in financial functions, including performance management, financial processes, and budgeting and planning models. Proven track record in ensuring accurate and timely reporting of financial statements and key figures. Skilled in building and developing finance functions across various types of companies both nationally and internationally, with international experience in Poland, Spain, USA, Finland, Ireland, and Sweden. Holds a Master's degree in management and accounting.\", 'personal': 'Enjoys exploring new cultures through travel, has a passion for cooking, and is an avid reader of both fiction and non-fiction. Also interested in technology and its impact on business efficiency.', 'communication': 'Direct and analytical, Uffe communicates with clarity and precision. He values open dialogue and encourages team input, often using real-world examples to illustrate complex financial concepts.'}\n"
     ]
    }
   ],
   "source": [
    "model = ChatOpenAI(model_name=\"gpt-4o-mini\", temperature=0.2)\n",
    "chain = persona_prompt_with_input | model\n",
    "response = chain.invoke({\n",
    "  \"language\": language, \n",
    "  \"user_input\": user_input, \n",
    "  \"human_feedback\": \"\",\n",
    "  \"previous_version\": \"\",\n",
    "  })\n",
    "print(response)"
   ]
  }
 ],
 "metadata": {
  "kernelspec": {
   "display_name": ".venv",
   "language": "python",
   "name": "python3"
  },
  "language_info": {
   "codemirror_mode": {
    "name": "ipython",
    "version": 3
   },
   "file_extension": ".py",
   "mimetype": "text/x-python",
   "name": "python",
   "nbconvert_exporter": "python",
   "pygments_lexer": "ipython3",
   "version": "3.12.11"
  }
 },
 "nbformat": 4,
 "nbformat_minor": 5
}
