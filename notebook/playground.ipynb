{
 "cells": [
  {
   "cell_type": "code",
   "execution_count": 1,
   "id": "44ee71a4",
   "metadata": {},
   "outputs": [],
   "source": [
    "from dotenv import load_dotenv\n",
    "load_dotenv(dotenv_path=\"../.env\", override=True)\n",
    "\n",
    "import sys\n",
    "sys.path.append('../')"
   ]
  },
  {
   "cell_type": "markdown",
   "id": "2b86e246",
   "metadata": {},
   "source": [
    "### examiner"
   ]
  },
  {
   "cell_type": "code",
   "execution_count": 1,
   "id": "96d8e461",
   "metadata": {},
   "outputs": [
    {
     "ename": "ModuleNotFoundError",
     "evalue": "No module named 'src'",
     "output_type": "error",
     "traceback": [
      "\u001b[31m---------------------------------------------------------------------------\u001b[39m",
      "\u001b[31mModuleNotFoundError\u001b[39m                       Traceback (most recent call last)",
      "\u001b[36mCell\u001b[39m\u001b[36m \u001b[39m\u001b[32mIn[1]\u001b[39m\u001b[32m, line 2\u001b[39m\n\u001b[32m      1\u001b[39m \u001b[38;5;28;01mfrom\u001b[39;00m\u001b[38;5;250m \u001b[39m\u001b[34;01mlangchain_openai\u001b[39;00m\u001b[38;5;250m \u001b[39m\u001b[38;5;28;01mimport\u001b[39;00m ChatOpenAI\n\u001b[32m----> \u001b[39m\u001b[32m2\u001b[39m \u001b[38;5;28;01mfrom\u001b[39;00m\u001b[38;5;250m \u001b[39m\u001b[34;01msrc\u001b[39;00m\u001b[34;01m.\u001b[39;00m\u001b[34;01mprompts\u001b[39;00m\u001b[38;5;250m \u001b[39m\u001b[38;5;28;01mimport\u001b[39;00m persona_prompt_with_input\n\u001b[32m      3\u001b[39m \u001b[38;5;28;01mfrom\u001b[39;00m\u001b[38;5;250m \u001b[39m\u001b[34;01mrich\u001b[39;00m\u001b[34;01m.\u001b[39;00m\u001b[34;01mpretty\u001b[39;00m\u001b[38;5;250m \u001b[39m\u001b[38;5;28;01mimport\u001b[39;00m pprint\n\u001b[32m      5\u001b[39m pprint(persona_prompt_with_input)\n",
      "\u001b[31mModuleNotFoundError\u001b[39m: No module named 'src'"
     ]
    }
   ],
   "source": [
    "from langchain_openai import ChatOpenAI\n",
    "from src.prompts import persona_prompt_with_input\n",
    "from rich.pretty import pprint\n",
    "\n",
    "pprint(persona_prompt_with_input)"
   ]
  },
  {
   "cell_type": "code",
   "execution_count": null,
   "id": "504356a9",
   "metadata": {},
   "outputs": [
    {
     "name": "stdout",
     "output_type": "stream",
     "text": [
      "The autoreload extension is already loaded. To reload it, use:\n",
      "  %reload_ext autoreload\n"
     ]
    },
    {
     "data": {
      "text/html": [
       "<pre style=\"white-space:pre;overflow-x:auto;line-height:normal;font-family:Menlo,'DejaVu Sans Mono',consolas,'Courier New',monospace\"><span style=\"color: #800080; text-decoration-color: #800080; font-weight: bold\">ChatPromptValue</span><span style=\"font-weight: bold\">(</span>\n",
       "<span style=\"color: #7fbf7f; text-decoration-color: #7fbf7f\">│   </span><span style=\"color: #808000; text-decoration-color: #808000\">messages</span>=<span style=\"font-weight: bold\">[</span>\n",
       "<span style=\"color: #7fbf7f; text-decoration-color: #7fbf7f\">│   │   </span><span style=\"color: #800080; text-decoration-color: #800080; font-weight: bold\">SystemMessage</span><span style=\"font-weight: bold\">(</span>\n",
       "<span style=\"color: #7fbf7f; text-decoration-color: #7fbf7f\">│   │   │   </span><span style=\"color: #808000; text-decoration-color: #808000\">content</span>=<span style=\"color: #008000; text-decoration-color: #008000\">'You are tasked with creating a virtual persona based on the information provided by the user about their examiner.\\n\\nPlease follow these steps:\\n\\n1. Review the user_input, which may include details about the examiner\\'s education, work experience, skills, and personal interests.\\n2. Create a detailed virtual persona that captures the examiner\\'s traits, including:\\n   - Name\\n   - Age\\n   - Professional background\\n   - Personal interests\\n   - Communication style\\n3. If human_feedback and previous_version are both provided, use the human feedback to improve the previous version of the persona.\\n4. Write the persona in English.\\n\\n&lt;example&gt;\\nUser input: \"Dr. Jane Smith, PhD in Psychology, 10 years of experience in clinical practice, passionate about mental health advocacy, enjoys hiking and painting.\"\\nGenerated persona: \\n- Name: Dr. Jane Smith\\n- Age: 45\\n- Professional background: Clinical Psychologist focused on mental health advocacy\\n- Personal interests: Hiking, painting\\n- Communication style: Empathetic and supportive, often shares personal stories to connect with others.\\n\\nMake sure the persona is engaging and relatable, and feel free to add unique traits that enhance the character.\\n\\nBelow is the information you need to follow the guidelines:\\n&lt;user_input&gt;\\n\\nuffe just pedersen\\n\\nErfaren CFO med bred erfaring indenfor økonomifunktionen; udvikling af bl.a. performance management, økonomiske processer og budgetterings- og planlægningsmodeller samt sikring af korrekt og rettidig rapportering af både regnskabstal og nøgletal.\\n\\nOpbygning og udvikling af økonomifunktioner i forskellige virksomhedstyper både nationalt og internationalt. International erfaring fra Polen, Spanien, USA, Finland, Irland og Sverige.\\n\\nGode resultater med implementering og optimering af administrative IT-systemer.\\n\\nLedelsesansvar for op til 25 medarbejdere.\\n\\nMaster degree in management and accounting\\n\\n&lt;user_input/&gt;\\n\\n&lt;human_feedback&gt;\\n\\n&lt;human_feedback/&gt;\\n\\n&lt;previous_version&gt;\\n\\n&lt;previous_version/&gt;'</span>,\n",
       "<span style=\"color: #7fbf7f; text-decoration-color: #7fbf7f\">│   │   │   </span><span style=\"color: #808000; text-decoration-color: #808000\">additional_kwargs</span>=<span style=\"font-weight: bold\">{}</span>,\n",
       "<span style=\"color: #7fbf7f; text-decoration-color: #7fbf7f\">│   │   │   </span><span style=\"color: #808000; text-decoration-color: #808000\">response_metadata</span>=<span style=\"font-weight: bold\">{}</span>\n",
       "<span style=\"color: #7fbf7f; text-decoration-color: #7fbf7f\">│   │   </span><span style=\"font-weight: bold\">)</span>\n",
       "<span style=\"color: #7fbf7f; text-decoration-color: #7fbf7f\">│   </span><span style=\"font-weight: bold\">]</span>\n",
       "<span style=\"font-weight: bold\">)</span>\n",
       "</pre>\n"
      ],
      "text/plain": [
       "\u001b[1;35mChatPromptValue\u001b[0m\u001b[1m(\u001b[0m\n",
       "\u001b[2;32m│   \u001b[0m\u001b[33mmessages\u001b[0m=\u001b[1m[\u001b[0m\n",
       "\u001b[2;32m│   │   \u001b[0m\u001b[1;35mSystemMessage\u001b[0m\u001b[1m(\u001b[0m\n",
       "\u001b[2;32m│   │   │   \u001b[0m\u001b[33mcontent\u001b[0m=\u001b[32m'You are tasked with creating a virtual persona based on the information provided by the user about their examiner.\\n\\nPlease follow these steps:\\n\\n1. Review the user_input, which may include details about the examiner\\'s education, work experience, skills, and personal interests.\\n2. Create a detailed virtual persona that captures the examiner\\'s traits, including:\\n   - Name\\n   - Age\\n   - Professional background\\n   - Personal interests\\n   - Communication style\\n3. If human_feedback and previous_version are both provided, use the human feedback to improve the previous version of the persona.\\n4. Write the persona in English.\\n\\n\u001b[0m\u001b[32m<\u001b[0m\u001b[32mexample\u001b[0m\u001b[32m>\\nUser input: \"Dr. Jane Smith, PhD in Psychology, 10 years of experience in clinical practice, passionate about mental health advocacy, enjoys hiking and painting.\"\\nGenerated persona: \\n- Name: Dr. Jane Smith\\n- Age: 45\\n- Professional background: Clinical Psychologist focused on mental health advocacy\\n- Personal interests: Hiking, painting\\n- Communication style: Empathetic and supportive, often shares personal stories to connect with others.\\n\\nMake sure the persona is engaging and relatable, and feel free to add unique traits that enhance the character.\\n\\nBelow is the information you need to follow the guidelines:\\n<user_input>\\n\\nuffe just pedersen\\n\\nErfaren CFO med bred erfaring indenfor økonomifunktionen; udvikling af bl.a. performance management, økonomiske processer og budgetterings- og planlægningsmodeller samt sikring af korrekt og rettidig rapportering af både regnskabstal og nøgletal.\\n\\nOpbygning og udvikling af økonomifunktioner i forskellige virksomhedstyper både nationalt og internationalt. International erfaring fra Polen, Spanien, USA, Finland, Irland og Sverige.\\n\\nGode resultater med implementering og optimering af administrative IT-systemer.\\n\\nLedelsesansvar for op til 25 medarbejdere.\\n\\nMaster degree in management and accounting\\n\\n<user_input/>\\n\\n<human_feedback>\\n\\n<human_feedback/>\\n\\n<previous_version>\\n\\n<previous_version/\u001b[0m\u001b[32m>\u001b[0m\u001b[32m'\u001b[0m,\n",
       "\u001b[2;32m│   │   │   \u001b[0m\u001b[33madditional_kwargs\u001b[0m=\u001b[1m{\u001b[0m\u001b[1m}\u001b[0m,\n",
       "\u001b[2;32m│   │   │   \u001b[0m\u001b[33mresponse_metadata\u001b[0m=\u001b[1m{\u001b[0m\u001b[1m}\u001b[0m\n",
       "\u001b[2;32m│   │   \u001b[0m\u001b[1m)\u001b[0m\n",
       "\u001b[2;32m│   \u001b[0m\u001b[1m]\u001b[0m\n",
       "\u001b[1m)\u001b[0m\n"
      ]
     },
     "metadata": {},
     "output_type": "display_data"
    }
   ],
   "source": [
    "%load_ext autoreload\n",
    "%autoreload 2\n",
    "from src.utils import format_messages\n",
    "\n",
    "user_input = \"\"\"\n",
    "uffe just pedersen\n",
    "\n",
    "Erfaren CFO med bred erfaring indenfor økonomifunktionen; udvikling af bl.a. performance management, økonomiske processer og budgetterings- og planlægningsmodeller samt sikring af korrekt og rettidig rapportering af både regnskabstal og nøgletal.\n",
    "\n",
    "Opbygning og udvikling af økonomifunktioner i forskellige virksomhedstyper både nationalt og internationalt. International erfaring fra Polen, Spanien, USA, Finland, Irland og Sverige.\n",
    "\n",
    "Gode resultater med implementering og optimering af administrative IT-systemer.\n",
    "\n",
    "Ledelsesansvar for op til 25 medarbejdere.\n",
    "\n",
    "Master degree in management and accounting\n",
    "\"\"\"\n",
    "\n",
    "language = \"English\"\n",
    "\n",
    "prompt = persona_prompt_with_input.invoke({\n",
    "  \"language\": language, \n",
    "  \"user_input\": user_input, \n",
    "  \"human_feedback\": \"\",\n",
    "  \"previous_version\": \"\",\n",
    "  })\n",
    "pprint(prompt)"
   ]
  },
  {
   "cell_type": "code",
   "execution_count": null,
   "id": "c1758da8",
   "metadata": {},
   "outputs": [
    {
     "name": "stdout",
     "output_type": "stream",
     "text": [
      "{'name': 'Uffe Just Pedersen', 'age': 50, 'professional': \"Experienced CFO with extensive expertise in financial functions, including performance management, financial processes, and budgeting and planning models. Proven track record in ensuring accurate and timely reporting of financial statements and key figures. Skilled in building and developing finance functions across various types of companies both nationally and internationally, with international experience in Poland, Spain, USA, Finland, Ireland, and Sweden. Holds a Master's degree in management and accounting.\", 'personal': 'Enjoys exploring new cultures through travel, has a passion for cooking, and is an avid reader of both fiction and non-fiction. Also interested in technology and its impact on business efficiency.', 'communication': 'Direct and analytical, Uffe communicates with clarity and precision. He values open dialogue and encourages team input, often using real-world examples to illustrate complex financial concepts.'}\n"
     ]
    }
   ],
   "source": [
    "model = ChatOpenAI(model_name=\"gpt-4o-mini\", temperature=0.2)\n",
    "chain = persona_prompt_with_input | model\n",
    "response = chain.invoke({\n",
    "  \"language\": language, \n",
    "  \"user_input\": user_input, \n",
    "  \"human_feedback\": \"\",\n",
    "  \"previous_version\": \"\",\n",
    "  })\n",
    "print(response)"
   ]
  },
  {
   "cell_type": "markdown",
   "id": "aa3e80b9",
   "metadata": {},
   "source": [
    "### loader"
   ]
  },
  {
   "cell_type": "code",
   "execution_count": 47,
   "id": "1285d1b6",
   "metadata": {},
   "outputs": [],
   "source": [
    "from langchain_pymupdf4llm import PyMuPDF4LLMLoader\n",
    "\n",
    "thesis_path = \"../data/BACHELOR_Andreas.pdf\"\n",
    "loader = PyMuPDF4LLMLoader(file_path=thesis_path, mode=\"single\")\n",
    "doc = loader.load()[0]"
   ]
  },
  {
   "cell_type": "code",
   "execution_count": 48,
   "id": "83f05a0a",
   "metadata": {},
   "outputs": [
    {
     "data": {
      "text/plain": [
       "92498"
      ]
     },
     "execution_count": 48,
     "metadata": {},
     "output_type": "execute_result"
    }
   ],
   "source": [
    "len(doc.page_content)"
   ]
  },
  {
   "cell_type": "code",
   "execution_count": 51,
   "id": "ee67fd58",
   "metadata": {},
   "outputs": [],
   "source": [
    "doc.metadata[\"collection_name\"] = \"data/BACHELOR_Andreas.pdf\""
   ]
  },
  {
   "cell_type": "code",
   "execution_count": 52,
   "id": "7589ea1d",
   "metadata": {},
   "outputs": [
    {
     "data": {
      "text/plain": [
       "{'producer': '',\n",
       " 'creator': 'Microsoft Word',\n",
       " 'creationdate': '2025-08-11T09:18:24+00:00',\n",
       " 'source': '../data/BACHELOR_Andreas.pdf',\n",
       " 'file_path': '../data/BACHELOR_Andreas.pdf',\n",
       " 'total_pages': 30,\n",
       " 'format': 'PDF 1.7',\n",
       " 'title': '',\n",
       " 'author': 'Microsoft Office-bruger',\n",
       " 'subject': '',\n",
       " 'keywords': '',\n",
       " 'moddate': '2025-08-11T09:18:24+00:00',\n",
       " 'trapped': '',\n",
       " 'modDate': \"D:20250811091824+00'00'\",\n",
       " 'creationDate': \"D:20250811091824+00'00'\",\n",
       " 'collection_name': 'data/BACHELOR_Andreas.pdf'}"
      ]
     },
     "execution_count": 52,
     "metadata": {},
     "output_type": "execute_result"
    }
   ],
   "source": [
    "doc.metadata"
   ]
  },
  {
   "cell_type": "code",
   "execution_count": null,
   "id": "69785cf9",
   "metadata": {},
   "outputs": [],
   "source": [
    "from rich.console import Console\n",
    "from rich.markdown import Markdown\n",
    "\n",
    "console = Console()\n",
    "md = Markdown(doc.page_content)\n",
    "console.print(md)"
   ]
  },
  {
   "cell_type": "code",
   "execution_count": null,
   "id": "c4772eff",
   "metadata": {},
   "outputs": [
    {
     "data": {
      "text/plain": [
       "25"
      ]
     },
     "execution_count": 26,
     "metadata": {},
     "output_type": "execute_result"
    }
   ],
   "source": [
    "from langchain_text_splitters import MarkdownHeaderTextSplitter\n",
    "\n",
    "headers_to_split_on = [\n",
    "    (\"#\", \"Header 1\"),\n",
    "    (\"##\", \"Header 2\"),\n",
    "    (\"###\", \"Header 3\"),\n",
    "]\n",
    "\n",
    "markdown_document = doc.page_content\n",
    "\n",
    "markdown_splitter = MarkdownHeaderTextSplitter(headers_to_split_on, strip_headers=False)\n",
    "md_header_splits = markdown_splitter.split_text(markdown_document)\n",
    "len(md_header_splits)"
   ]
  },
  {
   "cell_type": "code",
   "execution_count": 28,
   "id": "89bbbc0e",
   "metadata": {},
   "outputs": [
    {
     "data": {
      "text/html": [
       "<pre style=\"white-space:pre;overflow-x:auto;line-height:normal;font-family:Menlo,'DejaVu Sans Mono',consolas,'Courier New',monospace\">\n",
       "                                           <span style=\"font-weight: bold; text-decoration: underline\">Kapitel 4: Integreret analyse</span>                                           \n",
       "\n",
       "I denne del integreres de juridiske og økonomiske perspektiver for at vurdere, hvilken virksomhedsform der samlet  \n",
       "set er mest fordelagtig for Mikkel under forskellige omstændigheder. Valget er ikke entydigt. Det afhænger af en   \n",
       "afvejning mellem juridiske og økonomiske aspekter, som i Mikkels case er tæt forbundne. Juridiske faktorer (som    \n",
       "hæftelsesform, ejerskabsstruktur og formelle krav) påvirker direkte de økonomiske konsekvenser (risikofordeling,   \n",
       "skattebetaling, finansieringsmuligheder og omkostninger), og omvendt bør Mikkels økonomiske mål og risikoprofil    \n",
       "styre, hvilken juridisk ramme, der bedst understøtter hans virksomhed. Nedenfor analyseres samspillet, og der      \n",
       "træffes en samlet vurdering ved hjælp af scenarier og beslutningskriterier fra både juridisk og økonomisk teori.   \n",
       "</pre>\n"
      ],
      "text/plain": [
       "\n",
       "                                           \u001b[1;4mKapitel 4: Integreret analyse\u001b[0m                                           \n",
       "\n",
       "I denne del integreres de juridiske og økonomiske perspektiver for at vurdere, hvilken virksomhedsform der samlet  \n",
       "set er mest fordelagtig for Mikkel under forskellige omstændigheder. Valget er ikke entydigt. Det afhænger af en   \n",
       "afvejning mellem juridiske og økonomiske aspekter, som i Mikkels case er tæt forbundne. Juridiske faktorer (som    \n",
       "hæftelsesform, ejerskabsstruktur og formelle krav) påvirker direkte de økonomiske konsekvenser (risikofordeling,   \n",
       "skattebetaling, finansieringsmuligheder og omkostninger), og omvendt bør Mikkels økonomiske mål og risikoprofil    \n",
       "styre, hvilken juridisk ramme, der bedst understøtter hans virksomhed. Nedenfor analyseres samspillet, og der      \n",
       "træffes en samlet vurdering ved hjælp af scenarier og beslutningskriterier fra både juridisk og økonomisk teori.   \n"
      ]
     },
     "metadata": {},
     "output_type": "display_data"
    }
   ],
   "source": [
    "console = Console()\n",
    "md = Markdown(md_header_splits[19].page_content)\n",
    "console.print(md)"
   ]
  },
  {
   "cell_type": "code",
   "execution_count": 45,
   "id": "95d40179",
   "metadata": {},
   "outputs": [
    {
     "data": {
      "text/plain": [
       "27"
      ]
     },
     "execution_count": 45,
     "metadata": {},
     "output_type": "execute_result"
    }
   ],
   "source": [
    "# Char-level splits\n",
    "from langchain_text_splitters import RecursiveCharacterTextSplitter\n",
    "\n",
    "chunk_size = 4000\n",
    "chunk_overlap = 200\n",
    "text_splitter = RecursiveCharacterTextSplitter(\n",
    "    chunk_size=chunk_size, chunk_overlap=chunk_overlap\n",
    ")\n",
    "\n",
    "# Split\n",
    "splits = text_splitter.split_documents(doc)\n",
    "len(splits)"
   ]
  },
  {
   "cell_type": "code",
   "execution_count": 46,
   "id": "278a6195",
   "metadata": {},
   "outputs": [
    {
     "data": {
      "text/html": [
       "<pre style=\"white-space:pre;overflow-x:auto;line-height:normal;font-family:Menlo,'DejaVu Sans Mono',consolas,'Courier New',monospace\">17                                                                                                                 \n",
       "\n",
       "<span style=\"color: #808000; text-decoration-color: #808000\">───────────────────────────────────────────────────────────────────────────────────────────────────────────────────</span>\n",
       "virksomhed i ApS formentlig være stillet på forholdsvis lige fod med virksomhed i en EMV i relation til muligheden \n",
       "for at få ekstern lånefinansiering.                                                                                \n",
       "\n",
       "Fra Mikkels eget perspektiv er de 20.000 kr. i ApS-kapitalkravet heller ikke tabte midler. De kan som nævnt        \n",
       "tidligere anvendes i driften og til at købe aktiver for. Indskudt selskabskapital kan ikke udloddes til            \n",
       "privatforbrug. Udlodning kan tidligst ske efter aflæggelse af første årsrapport og forudsætter i øvrigt, at der er \n",
       "overskud i ApS ‘et (som udgør frie midler) jf. SL §180 stk. 2. Kortsigtet kan ApS-formen derfor være mindre likvid \n",
       "for Mikkel. Mikkels privatøkonomi og selskabets midler må ikke sammenblandes. Midler optjent i selskabet kan alene \n",
       "overgå til Mikkel, hvis der træffes beslutning om udbytteudlodning eller betaling af løn. Derfor bør Mikkel        \n",
       "foretage nødvendige økonomiske beregninger, så han, efter brug af midler til stiftelse af et ApS (20.000 kr .+     \n",
       "stiftelsesomkostninger), har tilstrækkelige midler til dækning af sine egne private udgifter.                      \n",
       "\n",
       "En yderligere sikkerhed for kreditorer i et ApS er, at selskabet skal vedligeholde en forsvarlig egenkapital.      \n",
       "Derfor indeholder selskabsloven regler for kapitaltab, jf. SL §4 jf. §119. Hvis anpartsselskabets selskabskapital  \n",
       "falder med mere end halvdelen, dvs. til under 10.000 kr., betragtes det som et kapitaltab, og her er der krav om,  \n",
       "at ledelsen skal indkalde til generalforsamling senest 6 måneder efter kapitaltabet er konstateret. På             \n",
       "generalforsamlingen skal ledelsen redegøre for selskabets økonomiske stilling og foreslå tiltag for at afhjælpe    \n",
       "situationen.                                                                                                       \n",
       "\n",
       "Mikkel skal i den situation reagere ved at tilføre ny kapital eller afvikle selskabet, hvis egenkapitalen bliver   \n",
       "for lav jf. SL §4 jf. §119. I økonomiske termer tvinger det ham til en vis finansiel disciplin og foretage en      \n",
       "løbende vurdering af virksomhedens soliditet, hvilket enten kan betragtes som en byrde eller et positivt           \n",
       "disciplinært ”push” til at være mere organiseret. I en enkeltmandsvirksomhed har Mikkel mere fleksibilitet til at  \n",
       "lade midlertidige underskud passere. Han kan fortsætte, så længe han personligt kan dække gælden, uden formelle    \n",
       "krav om rekapitalisering. Denne fleksibilitet kan være en fordel under midlertidig økonomisk modgang, men den kan  \n",
       "også medføre, at Mikkel i en EMV kommer til at fortsætte en økonomisk håbløs drift længere end økonomisk rentabelt,\n",
       "fordi der ikke er et formelt krav om at foretage en reetablering eller lukke virksomheden, hvis der opstår         \n",
       "kapitaltab.                                                                                                        \n",
       "\n",
       "Opsummerende kan man sige at nettoeffekten af kapitalkravet afhænger af Mikkels finansielle situation. Har han     \n",
       "opsparing nok, er 20.000 kr. måske en beskeden pris for de øvrige fordele ved ApS, og hvis han alligevel skal ud og\n",
       "bruge penge på driftsaktiver til mindst 20.000 kr., er kapitalkravet underordnet, da selskabskapitalen kan benyttes\n",
       "til anskaffelse af driftsaktiver. Har han derimod begrænset kapital, kunne kravet presse ham til at optage dyr gæld\n",
       "eller opgive ApS som mulighed. I så fald kan den personlige virksomheds fravær af kapitalkrav være det, der gør det\n",
       "økonomisk muligt overhovedet at etablere virksomheden. Her er det altså igen vigtigt for Mikkel at vurdere sin     \n",
       "økonomiske situation, inden han tager et valg.                                                                     \n",
       "\n",
       "                                                   <span style=\"font-weight: bold\">Risikoprofil</span>                                                    \n",
       "\n",
       "Som gennemgået tidligere hæfter Mikkel ubegrænset i enkeltmandsvirksomheden, hvilket betyder, at hans personlige   \n",
       "formue er på spil for virksomhedens gæld. Den finansielle risiko for Mikkel er                                     \n",
       "\n",
       "18                                                                                                                 \n",
       "\n",
       "<span style=\"color: #808000; text-decoration-color: #808000\">───────────────────────────────────────────────────────────────────────────────────────────────────────────────────</span>\n",
       "</pre>\n"
      ],
      "text/plain": [
       "17                                                                                                                 \n",
       "\n",
       "\u001b[33m───────────────────────────────────────────────────────────────────────────────────────────────────────────────────\u001b[0m\n",
       "virksomhed i ApS formentlig være stillet på forholdsvis lige fod med virksomhed i en EMV i relation til muligheden \n",
       "for at få ekstern lånefinansiering.                                                                                \n",
       "\n",
       "Fra Mikkels eget perspektiv er de 20.000 kr. i ApS-kapitalkravet heller ikke tabte midler. De kan som nævnt        \n",
       "tidligere anvendes i driften og til at købe aktiver for. Indskudt selskabskapital kan ikke udloddes til            \n",
       "privatforbrug. Udlodning kan tidligst ske efter aflæggelse af første årsrapport og forudsætter i øvrigt, at der er \n",
       "overskud i ApS ‘et (som udgør frie midler) jf. SL §180 stk. 2. Kortsigtet kan ApS-formen derfor være mindre likvid \n",
       "for Mikkel. Mikkels privatøkonomi og selskabets midler må ikke sammenblandes. Midler optjent i selskabet kan alene \n",
       "overgå til Mikkel, hvis der træffes beslutning om udbytteudlodning eller betaling af løn. Derfor bør Mikkel        \n",
       "foretage nødvendige økonomiske beregninger, så han, efter brug af midler til stiftelse af et ApS (20.000 kr .+     \n",
       "stiftelsesomkostninger), har tilstrækkelige midler til dækning af sine egne private udgifter.                      \n",
       "\n",
       "En yderligere sikkerhed for kreditorer i et ApS er, at selskabet skal vedligeholde en forsvarlig egenkapital.      \n",
       "Derfor indeholder selskabsloven regler for kapitaltab, jf. SL §4 jf. §119. Hvis anpartsselskabets selskabskapital  \n",
       "falder med mere end halvdelen, dvs. til under 10.000 kr., betragtes det som et kapitaltab, og her er der krav om,  \n",
       "at ledelsen skal indkalde til generalforsamling senest 6 måneder efter kapitaltabet er konstateret. På             \n",
       "generalforsamlingen skal ledelsen redegøre for selskabets økonomiske stilling og foreslå tiltag for at afhjælpe    \n",
       "situationen.                                                                                                       \n",
       "\n",
       "Mikkel skal i den situation reagere ved at tilføre ny kapital eller afvikle selskabet, hvis egenkapitalen bliver   \n",
       "for lav jf. SL §4 jf. §119. I økonomiske termer tvinger det ham til en vis finansiel disciplin og foretage en      \n",
       "løbende vurdering af virksomhedens soliditet, hvilket enten kan betragtes som en byrde eller et positivt           \n",
       "disciplinært ”push” til at være mere organiseret. I en enkeltmandsvirksomhed har Mikkel mere fleksibilitet til at  \n",
       "lade midlertidige underskud passere. Han kan fortsætte, så længe han personligt kan dække gælden, uden formelle    \n",
       "krav om rekapitalisering. Denne fleksibilitet kan være en fordel under midlertidig økonomisk modgang, men den kan  \n",
       "også medføre, at Mikkel i en EMV kommer til at fortsætte en økonomisk håbløs drift længere end økonomisk rentabelt,\n",
       "fordi der ikke er et formelt krav om at foretage en reetablering eller lukke virksomheden, hvis der opstår         \n",
       "kapitaltab.                                                                                                        \n",
       "\n",
       "Opsummerende kan man sige at nettoeffekten af kapitalkravet afhænger af Mikkels finansielle situation. Har han     \n",
       "opsparing nok, er 20.000 kr. måske en beskeden pris for de øvrige fordele ved ApS, og hvis han alligevel skal ud og\n",
       "bruge penge på driftsaktiver til mindst 20.000 kr., er kapitalkravet underordnet, da selskabskapitalen kan benyttes\n",
       "til anskaffelse af driftsaktiver. Har han derimod begrænset kapital, kunne kravet presse ham til at optage dyr gæld\n",
       "eller opgive ApS som mulighed. I så fald kan den personlige virksomheds fravær af kapitalkrav være det, der gør det\n",
       "økonomisk muligt overhovedet at etablere virksomheden. Her er det altså igen vigtigt for Mikkel at vurdere sin     \n",
       "økonomiske situation, inden han tager et valg.                                                                     \n",
       "\n",
       "                                                   \u001b[1mRisikoprofil\u001b[0m                                                    \n",
       "\n",
       "Som gennemgået tidligere hæfter Mikkel ubegrænset i enkeltmandsvirksomheden, hvilket betyder, at hans personlige   \n",
       "formue er på spil for virksomhedens gæld. Den finansielle risiko for Mikkel er                                     \n",
       "\n",
       "18                                                                                                                 \n",
       "\n",
       "\u001b[33m───────────────────────────────────────────────────────────────────────────────────────────────────────────────────\u001b[0m\n"
      ]
     },
     "metadata": {},
     "output_type": "display_data"
    }
   ],
   "source": [
    "console = Console()\n",
    "md = Markdown(splits[15].page_content)\n",
    "console.print(md)"
   ]
  }
 ],
 "metadata": {
  "kernelspec": {
   "display_name": ".venv",
   "language": "python",
   "name": "python3"
  },
  "language_info": {
   "codemirror_mode": {
    "name": "ipython",
    "version": 3
   },
   "file_extension": ".py",
   "mimetype": "text/x-python",
   "name": "python",
   "nbconvert_exporter": "python",
   "pygments_lexer": "ipython3",
   "version": "3.12.11"
  }
 },
 "nbformat": 4,
 "nbformat_minor": 5
}
